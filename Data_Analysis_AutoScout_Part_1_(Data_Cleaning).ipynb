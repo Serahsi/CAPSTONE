{
 "cells": [
  {
   "cell_type": "markdown",
   "metadata": {},
   "source": [
    "<p style=\"text-align: center;\"><img src=\"https://i.ibb.co/Rpz9L36/clarusway-logo-black.png\" width=\"450\" height=\"200\" class=\"img-fluid\" alt=\"CLRSWY_LOGO\"></p>\n",
    "\n",
    "<p style=\"background-color:#E51A59; font-family:newtimeroman; color:#FDFEFE; font-size:130%; text-align:center; border-radius:10px 10px;\">WAY TO REINVENT YOURSELF</p>\n",
    "\n",
    "<p style=\"background-color:#FDFEFE; font-family:newtimeroman; color:#060108; font-size:300%; text-align:center; border-radius:10px 10px;\">Data Analytics Module Completion Project</p>\n",
    "\n",
    "<p style=\"text-align: center;\"><img src=\"https://i.ibb.co/wJW61Y2/Used-cars.jpg\" width=\"600\" height=\"200\" class=\"img-fluid\" alt=\"AutoScout\"></p>\n",
    "\n",
    "<p style=\"background-color:#FDFEFE; font-family:newtimeroman; color:#060108; font-size:200%; text-align:center; border-radius:10px 10px;\"><mark><u>AutoScout Car Price Prediction Exploratory Data Analysis (EDA) Project</u></mark></p>\n",
    "\n",
    "<p style=\"background-color:#E51A59; font-family:newtimeroman; color:#FDFEFE; font-size:175%; text-align:left; border-radius:0px 0px;\">Introduction</p>\n",
    "\n",
    "<p dir=\"ltr\">Welcome to <b>\"AutoScout Exploratory Data Analysis (EDA) Project\"</b>. This is the project of completing <b>Data Analysis &amp; Data Visualization</b> Courses and a successful hand-over is mandatory for getting certification for both courses. <b>AutoScout</b> data used in this project scraped from the Website of an online car trading company in 2022, and contains many features of 13 different car makes including 594 models. In this project, you will have the opportunity to apply many commonly used algorithms for Data Cleaning and Exploratory Data Analysis by using a variety of Python libraries, such as <a href=\"https://lms.clarusway.com/course/view.php?id=37&amp;section=1\" target=\"_blank\">Numpy</a>, <a href=\"https://lms.clarusway.com/course/view.php?id=37&amp;section=2\" target=\"_blank\">Pandas</a>, <a href=\"https://lms.clarusway.com/course/view.php?id=38&amp;section=1\" target=\"_blank\">Matplotlib</a>, <a href=\"https://lms.clarusway.com/course/view.php?id=38&amp;section=2\" target=\"_blank\">Seaborn</a>, <a href=\"https://scipy.org/\" target=\"_blank\">Scipy</a>, and then you will get a clean dataset for your analysis and predictive modelling in Machine Learning Path. So you will have the chance to use all the skills you have already learned in the Data Analysis and Visualization courses.</p>\n",
    "\n",
    "<p dir=\"ltr\"><b>In this context, the project consists of <mark><u>3 parts</u></mark> in general:</b></p>\n",
    "\n",
    "<ol>\n",
    "    <li><b>The first part</b> is related to 'Data Cleaning'. It deals with Incorrect Headers, Incorrect Format, Anomalies, and Dropping useless columns.</li>\n",
    "    <li><b>The second part</b> is related to 'Filling Data', in other words 'Imputation'. It deals with Missing Values. Categorical to numeric transformation, Encoding, is done as well.</li>\n",
    "    <li><b>The third part</b> is related to 'Handling Outliers of Data' via Visualization libraries. So, some insights will be extracted.</li>\n",
    "</ol>\n",
    "\n",
    "<p dir=\"ltr\"><mark><b><u>SPECIAL NOTE:</u></b></mark>&nbsp; However, you are <b>free to create your own style</b>. You do <b>NOT</b> have to stick to the steps above. Nevertheless, we, the DA &amp; DV instructors, recommend you study each part separately to create a source notebook for your further studies.&nbsp;</p>\n",
    "\n",
    "<p>In order to build your Portfolio in terms of the&nbsp;<b>GitHub</b>&nbsp;account, you need to push your solution file up to your own&nbsp;<b>repository.</b><br></p>\n",
    "\n",
    "<p><mark><b><b>Please after solving the task/project, commit your solution notebook to your personal GitHub Repository and SUBMIT its GITHUB LINK to the related LMS page.</b><br></b></mark></p>\n",
    "\n",
    "<p><b><mark><b><u>BE NOTED:</u></b></mark></b> Please <mark><b><u>DO NOT FORGET</u></b></mark> to click the <mark><b><u>SUBMIT button on LMS submission page.</u></b></mark></p>\n",
    "\n",
    "<p style=\"background-color:#E51A59; font-family:newtimeroman; color:#FDFEFE; font-size:175%; text-align:left; border-radius:0px 0px;\">👉 Some Reminders on Exploratory Data Analysis (EDA) 👈</p>\n",
    "\n",
    "<p dir=\"ltr\">Exploratory data analysis (EDA) is an especially important activity in the routine of a data analyst or scientist. It enables an in depth understanding of the dataset, define or discard hypotheses and create predictive models on a solid basis. It uses data manipulation techniques and several statistical tools to describe and understand the relationship between variables and how these can impact business. By means of EDA, we can obtain meaningful insights that can impact analysis under the following questions (If a checklist is good enough for pilots to use every flight, it’s good enough for data scientists to use with every dataset).</p>\n",
    "\n",
    "<ol type=\"I\">\n",
    "    <li>What question are you trying to solve (or prove wrong)?</li>\n",
    "    <li>What kind of data do you have?</li>\n",
    "    <li>What’s missing from the data?</li>\n",
    "    <li>Where are the outliers?</li>\n",
    "    <li>How can you add, change or remove features (Feature Engineering) to get more out of your data?</li>\n",
    "</ol>\n",
    "\n",
    "<p dir=\"ltr\"><b>Exploratory data analysis (EDA)</b> is often an <b>iterative brainstorming process</b> where you pose a question, review the data, and develop further questions to investigate before beginning model development work. The image below shows how the brainstorming phase is connected with that of understanding the variables and how this in turn is connected again with the brainstorming phase.</p>\n",
    "\n",
    "<p style=\"text-align: center;\"><img src=\"https://i.ibb.co/k0MC950/EDA-Process.png\"  width=\"300\" height=\"200\" class=\"img-fluid\" alt=\"EDA_Workflow\"></p>\n",
    "\n",
    "<a href=\"https://towardsdatascience.com/exploratory-data-analysis-in-python-a-step-by-step-process-d0dfa6bf94ee\" target=\"_blank\"><u>Image Credit: Andrew D.</u></a>.<br><br>"
   ]
  },
  {
   "cell_type": "markdown",
   "metadata": {
    "id": "vvgJ5KWTs1MB"
   },
   "source": [
    "# <p style=\"background-color:#FF6961; font-family:newtimeroman;color:#FFF9ED; font-size:150%; text-align:center; border-radius: 15px 50px;\"> ✨ PART - 1 ( Data Cleaning ) ✨</p>"
   ]
  },
  {
   "cell_type": "code",
   "execution_count": 1,
   "metadata": {},
   "outputs": [],
   "source": [
    "##from skimpy import clean_columns\n",
    "import pandas as pd\n",
    "import numpy as np\n",
    "import re\n",
    "import seaborn as sns\n",
    "from re import sub\n",
    "import matplotlib.pyplot as plt"
   ]
  },
  {
   "cell_type": "code",
   "execution_count": 2,
   "metadata": {},
   "outputs": [],
   "source": [
    "df0 = pd.read_json('as24_cars.json', lines=False)\n",
    "df = df0.copy()"
   ]
  },
  {
   "cell_type": "code",
   "execution_count": 3,
   "metadata": {},
   "outputs": [
    {
     "data": {
      "text/plain": [
       "(29480, 58)"
      ]
     },
     "execution_count": 3,
     "metadata": {},
     "output_type": "execute_result"
    }
   ],
   "source": [
    "df.shape"
   ]
  },
  {
   "cell_type": "code",
   "execution_count": 4,
   "metadata": {},
   "outputs": [
    {
     "name": "stdout",
     "output_type": "stream",
     "text": [
      "<class 'pandas.core.frame.DataFrame'>\n",
      "RangeIndex: 29480 entries, 0 to 29479\n",
      "Data columns (total 58 columns):\n",
      " #   Column                    Non-Null Count  Dtype  \n",
      "---  ------                    --------------  -----  \n",
      " 0   make_model                28630 non-null  object \n",
      " 1   short_description         28630 non-null  object \n",
      " 2   make                      28630 non-null  object \n",
      " 3   model                     28630 non-null  object \n",
      " 4   location                  28630 non-null  object \n",
      " 5   price                     28630 non-null  object \n",
      " 6   Body type                 28630 non-null  object \n",
      " 7   Type                      28630 non-null  object \n",
      " 8   Doors                     28271 non-null  object \n",
      " 9   Country version           16889 non-null  object \n",
      " 10  Offer number              23100 non-null  object \n",
      " 11  Warranty                  15784 non-null  object \n",
      " 12  Mileage                   28629 non-null  object \n",
      " 13  First registration        28628 non-null  object \n",
      " 14  Gearbox                   28382 non-null  object \n",
      " 15  Fuel type                 26843 non-null  object \n",
      " 16  Colour                    26906 non-null  object \n",
      " 17  Paint                     14495 non-null  object \n",
      " 18  desc                      28047 non-null  object \n",
      " 19  seller                    28630 non-null  object \n",
      " 20  Seats                     25505 non-null  object \n",
      " 21  Power                     28058 non-null  object \n",
      " 22  Engine size               27227 non-null  object \n",
      " 23  Gears                     18954 non-null  object \n",
      " 24  CO₂-emissions             18594 non-null  object \n",
      " 25  Manufacturer colour       21787 non-null  object \n",
      " 26  Drivetrain                16893 non-null  object \n",
      " 27  Cylinders                 18852 non-null  object \n",
      " 28  Fuel consumption          23385 non-null  object \n",
      " 29  \n",
      "Comfort & Convenience\n",
      "   25433 non-null  object \n",
      " 30  \n",
      "Entertainment & Media\n",
      "   23644 non-null  object \n",
      " 31  \n",
      "Safety & Security\n",
      "       25415 non-null  object \n",
      " 32  \n",
      "Extras\n",
      "                  23480 non-null  object \n",
      " 33  Empty weight              17758 non-null  object \n",
      " 34  Model code                8367 non-null   object \n",
      " 35  General inspection        12254 non-null  object \n",
      " 36  Last service              2003 non-null   object \n",
      " 37  Full service history      12565 non-null  object \n",
      " 38  Non-smoker vehicle        11594 non-null  object \n",
      " 39  Emission class            17859 non-null  object \n",
      " 40  Emissions sticker         9414 non-null   object \n",
      " 41  Upholstery colour         14569 non-null  object \n",
      " 42  Upholstery                18610 non-null  object \n",
      " 43  Production date           5908 non-null   float64\n",
      " 44  Previous owner            14015 non-null  object \n",
      " 45  Other fuel types          2313 non-null   object \n",
      " 46  Power consumption         515 non-null    object \n",
      " 47  Energy efficiency class   7804 non-null   object \n",
      " 48  CO₂-efficiency            7804 non-null   object \n",
      " 49  Fuel consumption (WLTP)   100 non-null    object \n",
      " 50  CO₂-emissions (WLTP)      116 non-null    object \n",
      " 51  Available from            393 non-null    object \n",
      " 52  Taxi or rental car        422 non-null    object \n",
      " 53  Availability              301 non-null    object \n",
      " 54  Last timing belt change   572 non-null    object \n",
      " 55  Electric Range (WLTP)     16 non-null     object \n",
      " 56  Power consumption (WLTP)  16 non-null     object \n",
      " 57  Battery Ownership         7 non-null      object \n",
      "dtypes: float64(1), object(57)\n",
      "memory usage: 13.0+ MB\n"
     ]
    }
   ],
   "source": [
    "df.info()"
   ]
  },
  {
   "cell_type": "code",
   "execution_count": 5,
   "metadata": {},
   "outputs": [],
   "source": [
    "df = df.replace(['\\n',\"€\", '.-'], '', regex=True)"
   ]
  },
  {
   "cell_type": "code",
   "execution_count": 6,
   "metadata": {},
   "outputs": [],
   "source": [
    "df.columns = df.columns.str.lower()\n",
    "df.columns = df.columns.str.replace(\" \", \"_\")\n",
    "df.columns = df.columns.str.replace(\"\\n\", '')\n",
    "df.columns = df.columns.str.replace('&_',\"\")\n",
    "df.columns = df.columns.str.replace('-', '_')\n",
    "df.columns = df.columns.str.replace('₂', '')\n",
    "df.columns = df.columns.str.replace(\"(\", \"\")\n",
    "df.columns = df.columns.str.replace(\")\", \"\")"
   ]
  },
  {
   "cell_type": "code",
   "execution_count": 7,
   "metadata": {},
   "outputs": [
    {
     "data": {
      "text/plain": [
       "Index(['make_model', 'short_description', 'make', 'model', 'location', 'price',\n",
       "       'body_type', 'type', 'doors', 'country_version', 'offer_number',\n",
       "       'warranty', 'mileage', 'first_registration', 'gearbox', 'fuel_type',\n",
       "       'colour', 'paint', 'desc', 'seller', 'seats', 'power', 'engine_size',\n",
       "       'gears', 'co_emissions', 'manufacturer_colour', 'drivetrain',\n",
       "       'cylinders', 'fuel_consumption', 'comfort_convenience',\n",
       "       'entertainment_media', 'safety_security', 'extras', 'empty_weight',\n",
       "       'model_code', 'general_inspection', 'last_service',\n",
       "       'full_service_history', 'non_smoker_vehicle', 'emission_class',\n",
       "       'emissions_sticker', 'upholstery_colour', 'upholstery',\n",
       "       'production_date', 'previous_owner', 'other_fuel_types',\n",
       "       'power_consumption', 'energy_efficiency_class', 'co_efficiency',\n",
       "       'fuel_consumption_wltp', 'co_emissions_wltp', 'available_from',\n",
       "       'taxi_or_rental_car', 'availability', 'last_timing_belt_change',\n",
       "       'electric_range_wltp', 'power_consumption_wltp', 'battery_ownership'],\n",
       "      dtype='object')"
      ]
     },
     "execution_count": 7,
     "metadata": {},
     "output_type": "execute_result"
    }
   ],
   "source": [
    "df.columns"
   ]
  },
  {
   "cell_type": "code",
   "execution_count": 8,
   "metadata": {
    "scrolled": true
   },
   "outputs": [
    {
     "data": {
      "text/html": [
       "<div>\n",
       "<style scoped>\n",
       "    .dataframe tbody tr th:only-of-type {\n",
       "        vertical-align: middle;\n",
       "    }\n",
       "\n",
       "    .dataframe tbody tr th {\n",
       "        vertical-align: top;\n",
       "    }\n",
       "\n",
       "    .dataframe thead th {\n",
       "        text-align: right;\n",
       "    }\n",
       "</style>\n",
       "<table border=\"1\" class=\"dataframe\">\n",
       "  <thead>\n",
       "    <tr style=\"text-align: right;\">\n",
       "      <th></th>\n",
       "      <th>28579</th>\n",
       "      <th>9434</th>\n",
       "      <th>11493</th>\n",
       "    </tr>\n",
       "  </thead>\n",
       "  <tbody>\n",
       "    <tr>\n",
       "      <th>make_model</th>\n",
       "      <td>Volvo V40</td>\n",
       "      <td>Peugeot 301</td>\n",
       "      <td>Fiat Tipo</td>\n",
       "    </tr>\n",
       "    <tr>\n",
       "      <th>short_description</th>\n",
       "      <td>Momentum D2 EU6T LED Navi Rückfahrkam. Fernlicht</td>\n",
       "      <td>ACTIVE 1.2 ESS POUR ALGERIE UNIQUEMENT</td>\n",
       "      <td>City Sport Kombi (357)</td>\n",
       "    </tr>\n",
       "    <tr>\n",
       "      <th>make</th>\n",
       "      <td>Volvo</td>\n",
       "      <td>Peugeot</td>\n",
       "      <td>Fiat</td>\n",
       "    </tr>\n",
       "    <tr>\n",
       "      <th>model</th>\n",
       "      <td>[\\n, V40 ,\\n]</td>\n",
       "      <td>[\\n, 301 ,\\n]</td>\n",
       "      <td>[\\n, Tipo ,\\n]</td>\n",
       "    </tr>\n",
       "    <tr>\n",
       "      <th>location</th>\n",
       "      <td>Neuenhofstr. 77,  52078 Aachen, DE</td>\n",
       "      <td>44 BIS ROUTE DE LILLE,  59113 SECLIN, FR</td>\n",
       "      <td>Bahnhofstraße 21,  01990 Ortrand, DE</td>\n",
       "    </tr>\n",
       "    <tr>\n",
       "      <th>price</th>\n",
       "      <td>20,980</td>\n",
       "      <td>10,800</td>\n",
       "      <td>24,990</td>\n",
       "    </tr>\n",
       "    <tr>\n",
       "      <th>body_type</th>\n",
       "      <td>[\\n, Station wagon, \\n]</td>\n",
       "      <td>[\\n, Sedan, \\n]</td>\n",
       "      <td>[\\n, Station wagon, \\n]</td>\n",
       "    </tr>\n",
       "    <tr>\n",
       "      <th>type</th>\n",
       "      <td>[\\n, Used, \\n]</td>\n",
       "      <td>[\\n, Used, \\n]</td>\n",
       "      <td>[\\n, Demonstration, \\n]</td>\n",
       "    </tr>\n",
       "    <tr>\n",
       "      <th>doors</th>\n",
       "      <td>[\\n, 5, \\n]</td>\n",
       "      <td>NaN</td>\n",
       "      <td>[\\n, 5, \\n]</td>\n",
       "    </tr>\n",
       "    <tr>\n",
       "      <th>country_version</th>\n",
       "      <td>NaN</td>\n",
       "      <td>NaN</td>\n",
       "      <td>[\\n, Germany, \\n]</td>\n",
       "    </tr>\n",
       "    <tr>\n",
       "      <th>offer_number</th>\n",
       "      <td>[\\n, 2105-22, \\n]</td>\n",
       "      <td>[\\n, 7331, \\n]</td>\n",
       "      <td>NaN</td>\n",
       "    </tr>\n",
       "    <tr>\n",
       "      <th>warranty</th>\n",
       "      <td>NaN</td>\n",
       "      <td>[\\n, 24 months, \\n]</td>\n",
       "      <td>[\\n, 24 months, \\n]</td>\n",
       "    </tr>\n",
       "    <tr>\n",
       "      <th>mileage</th>\n",
       "      <td>52,987 km</td>\n",
       "      <td>10 km</td>\n",
       "      <td>1,500 km</td>\n",
       "    </tr>\n",
       "    <tr>\n",
       "      <th>first_registration</th>\n",
       "      <td>12/2019</td>\n",
       "      <td>08/2022</td>\n",
       "      <td>12/2021</td>\n",
       "    </tr>\n",
       "    <tr>\n",
       "      <th>gearbox</th>\n",
       "      <td>[\\nManual\\n]</td>\n",
       "      <td>[\\nManual\\n]</td>\n",
       "      <td>[\\nManual\\n]</td>\n",
       "    </tr>\n",
       "    <tr>\n",
       "      <th>fuel_type</th>\n",
       "      <td>Diesel (Particle filter)</td>\n",
       "      <td>Gasoline</td>\n",
       "      <td>Super 95</td>\n",
       "    </tr>\n",
       "    <tr>\n",
       "      <th>colour</th>\n",
       "      <td>Black</td>\n",
       "      <td>NaN</td>\n",
       "      <td>Grey</td>\n",
       "    </tr>\n",
       "    <tr>\n",
       "      <th>paint</th>\n",
       "      <td>Metallic</td>\n",
       "      <td>NaN</td>\n",
       "      <td>NaN</td>\n",
       "    </tr>\n",
       "    <tr>\n",
       "      <th>desc</th>\n",
       "      <td>[Getriebe:,  Schaltgetriebe, Technik:,  Bordco...</td>\n",
       "      <td>[AUTORADIO;Bluetooth;ANTIBROUILLARDS;FERMETURE...</td>\n",
       "      <td>[Sonderausstattung:, Komfort-Paket, Park-Paket...</td>\n",
       "    </tr>\n",
       "    <tr>\n",
       "      <th>seller</th>\n",
       "      <td>Dealer</td>\n",
       "      <td>Dealer</td>\n",
       "      <td>Dealer</td>\n",
       "    </tr>\n",
       "    <tr>\n",
       "      <th>seats</th>\n",
       "      <td>[\\n, 5, \\n]</td>\n",
       "      <td>NaN</td>\n",
       "      <td>[\\n, 5, \\n]</td>\n",
       "    </tr>\n",
       "    <tr>\n",
       "      <th>power</th>\n",
       "      <td>[\\n88 kW (120 hp)\\n]</td>\n",
       "      <td>NaN</td>\n",
       "      <td>[\\n74 kW (101 hp)\\n]</td>\n",
       "    </tr>\n",
       "    <tr>\n",
       "      <th>engine_size</th>\n",
       "      <td>[\\n1,969 cc\\n]</td>\n",
       "      <td>NaN</td>\n",
       "      <td>[\\n999 cc\\n]</td>\n",
       "    </tr>\n",
       "    <tr>\n",
       "      <th>gears</th>\n",
       "      <td>[\\n6\\n]</td>\n",
       "      <td>NaN</td>\n",
       "      <td>[\\n5\\n]</td>\n",
       "    </tr>\n",
       "    <tr>\n",
       "      <th>co_emissions</th>\n",
       "      <td>122 g/km (comb.)</td>\n",
       "      <td>NaN</td>\n",
       "      <td>124 g/km (comb.)</td>\n",
       "    </tr>\n",
       "    <tr>\n",
       "      <th>manufacturer_colour</th>\n",
       "      <td>Onyx black</td>\n",
       "      <td>GRIS ARTENSE</td>\n",
       "      <td>Metropolitano Grau</td>\n",
       "    </tr>\n",
       "    <tr>\n",
       "      <th>drivetrain</th>\n",
       "      <td>[\\n, Front, \\n]</td>\n",
       "      <td>NaN</td>\n",
       "      <td>[\\n, Front, \\n]</td>\n",
       "    </tr>\n",
       "    <tr>\n",
       "      <th>cylinders</th>\n",
       "      <td>[\\n4\\n]</td>\n",
       "      <td>NaN</td>\n",
       "      <td>[\\n4\\n]</td>\n",
       "    </tr>\n",
       "    <tr>\n",
       "      <th>fuel_consumption</th>\n",
       "      <td>[[4.6 l/100 km (comb.)], [5.7 l/100 km (city)]...</td>\n",
       "      <td>NaN</td>\n",
       "      <td>[[5.4 l/100 km (comb.)], [6.6 l/100 km (city)]...</td>\n",
       "    </tr>\n",
       "    <tr>\n",
       "      <th>comfort_convenience</th>\n",
       "      <td>[Air conditioning, Armrest, Automatic climate ...</td>\n",
       "      <td>[Air conditioning]</td>\n",
       "      <td>[Air conditioning, Armrest, Automatic climate ...</td>\n",
       "    </tr>\n",
       "    <tr>\n",
       "      <th>entertainment_media</th>\n",
       "      <td>[Bluetooth, CD player, Hands-free equipment, M...</td>\n",
       "      <td>[Bluetooth, Radio]</td>\n",
       "      <td>[Android Auto, Apple CarPlay, Bluetooth, Digit...</td>\n",
       "    </tr>\n",
       "    <tr>\n",
       "      <th>safety_security</th>\n",
       "      <td>[ABS, Bi-Xenon headlights, Central door lock, ...</td>\n",
       "      <td>[Central door lock, Fog lights]</td>\n",
       "      <td>[ABS, Adaptive Cruise Control, Adaptive headli...</td>\n",
       "    </tr>\n",
       "    <tr>\n",
       "      <th>extras</th>\n",
       "      <td>[Alloy wheels, Catalytic Converter]</td>\n",
       "      <td>NaN</td>\n",
       "      <td>[Alloy wheels (18\"), Catalytic Converter, Emer...</td>\n",
       "    </tr>\n",
       "    <tr>\n",
       "      <th>empty_weight</th>\n",
       "      <td>NaN</td>\n",
       "      <td>NaN</td>\n",
       "      <td>[\\n1,315 kg\\n]</td>\n",
       "    </tr>\n",
       "    <tr>\n",
       "      <th>model_code</th>\n",
       "      <td>NaN</td>\n",
       "      <td>NaN</td>\n",
       "      <td>NaN</td>\n",
       "    </tr>\n",
       "    <tr>\n",
       "      <th>general_inspection</th>\n",
       "      <td>NaN</td>\n",
       "      <td>NaN</td>\n",
       "      <td>12/2024</td>\n",
       "    </tr>\n",
       "    <tr>\n",
       "      <th>last_service</th>\n",
       "      <td>NaN</td>\n",
       "      <td>NaN</td>\n",
       "      <td>NaN</td>\n",
       "    </tr>\n",
       "    <tr>\n",
       "      <th>full_service_history</th>\n",
       "      <td>NaN</td>\n",
       "      <td>NaN</td>\n",
       "      <td>Yes</td>\n",
       "    </tr>\n",
       "    <tr>\n",
       "      <th>non_smoker_vehicle</th>\n",
       "      <td>NaN</td>\n",
       "      <td>NaN</td>\n",
       "      <td>Yes</td>\n",
       "    </tr>\n",
       "    <tr>\n",
       "      <th>emission_class</th>\n",
       "      <td>Euro 6TEMP</td>\n",
       "      <td>NaN</td>\n",
       "      <td>Euro 6d</td>\n",
       "    </tr>\n",
       "    <tr>\n",
       "      <th>emissions_sticker</th>\n",
       "      <td>NaN</td>\n",
       "      <td>NaN</td>\n",
       "      <td>4 (Green)</td>\n",
       "    </tr>\n",
       "    <tr>\n",
       "      <th>upholstery_colour</th>\n",
       "      <td>NaN</td>\n",
       "      <td>NaN</td>\n",
       "      <td>Black</td>\n",
       "    </tr>\n",
       "    <tr>\n",
       "      <th>upholstery</th>\n",
       "      <td>Cloth</td>\n",
       "      <td>NaN</td>\n",
       "      <td>Cloth</td>\n",
       "    </tr>\n",
       "    <tr>\n",
       "      <th>production_date</th>\n",
       "      <td>2019.0</td>\n",
       "      <td>NaN</td>\n",
       "      <td>NaN</td>\n",
       "    </tr>\n",
       "    <tr>\n",
       "      <th>previous_owner</th>\n",
       "      <td>[[52,987 km, 12/2019], 2]</td>\n",
       "      <td>NaN</td>\n",
       "      <td>[[1,500 km, 12/2021], 1]</td>\n",
       "    </tr>\n",
       "    <tr>\n",
       "      <th>other_fuel_types</th>\n",
       "      <td>NaN</td>\n",
       "      <td>NaN</td>\n",
       "      <td>NaN</td>\n",
       "    </tr>\n",
       "    <tr>\n",
       "      <th>power_consumption</th>\n",
       "      <td>NaN</td>\n",
       "      <td>NaN</td>\n",
       "      <td>NaN</td>\n",
       "    </tr>\n",
       "    <tr>\n",
       "      <th>energy_efficiency_class</th>\n",
       "      <td>A</td>\n",
       "      <td>NaN</td>\n",
       "      <td>B</td>\n",
       "    </tr>\n",
       "    <tr>\n",
       "      <th>co_efficiency</th>\n",
       "      <td>Calculated on basis of measured COemissions ta...</td>\n",
       "      <td>NaN</td>\n",
       "      <td>Calculated on basis of measured COemissions ta...</td>\n",
       "    </tr>\n",
       "    <tr>\n",
       "      <th>fuel_consumption_wltp</th>\n",
       "      <td>NaN</td>\n",
       "      <td>NaN</td>\n",
       "      <td>NaN</td>\n",
       "    </tr>\n",
       "    <tr>\n",
       "      <th>co_emissions_wltp</th>\n",
       "      <td>NaN</td>\n",
       "      <td>NaN</td>\n",
       "      <td>NaN</td>\n",
       "    </tr>\n",
       "    <tr>\n",
       "      <th>available_from</th>\n",
       "      <td>NaN</td>\n",
       "      <td>NaN</td>\n",
       "      <td>NaN</td>\n",
       "    </tr>\n",
       "    <tr>\n",
       "      <th>taxi_or_rental_car</th>\n",
       "      <td>NaN</td>\n",
       "      <td>NaN</td>\n",
       "      <td>NaN</td>\n",
       "    </tr>\n",
       "    <tr>\n",
       "      <th>availability</th>\n",
       "      <td>NaN</td>\n",
       "      <td>NaN</td>\n",
       "      <td>NaN</td>\n",
       "    </tr>\n",
       "    <tr>\n",
       "      <th>last_timing_belt_change</th>\n",
       "      <td>NaN</td>\n",
       "      <td>NaN</td>\n",
       "      <td>NaN</td>\n",
       "    </tr>\n",
       "    <tr>\n",
       "      <th>electric_range_wltp</th>\n",
       "      <td>NaN</td>\n",
       "      <td>NaN</td>\n",
       "      <td>NaN</td>\n",
       "    </tr>\n",
       "    <tr>\n",
       "      <th>power_consumption_wltp</th>\n",
       "      <td>NaN</td>\n",
       "      <td>NaN</td>\n",
       "      <td>NaN</td>\n",
       "    </tr>\n",
       "    <tr>\n",
       "      <th>battery_ownership</th>\n",
       "      <td>NaN</td>\n",
       "      <td>NaN</td>\n",
       "      <td>NaN</td>\n",
       "    </tr>\n",
       "  </tbody>\n",
       "</table>\n",
       "</div>"
      ],
      "text/plain": [
       "                                                                     28579  \\\n",
       "make_model                                                       Volvo V40   \n",
       "short_description         Momentum D2 EU6T LED Navi Rückfahrkam. Fernlicht   \n",
       "make                                                                 Volvo   \n",
       "model                                                        [\\n, V40 ,\\n]   \n",
       "location                                Neuenhofstr. 77,  52078 Aachen, DE   \n",
       "price                                                               20,980   \n",
       "body_type                                          [\\n, Station wagon, \\n]   \n",
       "type                                                        [\\n, Used, \\n]   \n",
       "doors                                                          [\\n, 5, \\n]   \n",
       "country_version                                                        NaN   \n",
       "offer_number                                             [\\n, 2105-22, \\n]   \n",
       "warranty                                                               NaN   \n",
       "mileage                                                          52,987 km   \n",
       "first_registration                                                 12/2019   \n",
       "gearbox                                                       [\\nManual\\n]   \n",
       "fuel_type                                         Diesel (Particle filter)   \n",
       "colour                                                               Black   \n",
       "paint                                                             Metallic   \n",
       "desc                     [Getriebe:,  Schaltgetriebe, Technik:,  Bordco...   \n",
       "seller                                                              Dealer   \n",
       "seats                                                          [\\n, 5, \\n]   \n",
       "power                                                 [\\n88 kW (120 hp)\\n]   \n",
       "engine_size                                                 [\\n1,969 cc\\n]   \n",
       "gears                                                              [\\n6\\n]   \n",
       "co_emissions                                              122 g/km (comb.)   \n",
       "manufacturer_colour                                             Onyx black   \n",
       "drivetrain                                                 [\\n, Front, \\n]   \n",
       "cylinders                                                          [\\n4\\n]   \n",
       "fuel_consumption         [[4.6 l/100 km (comb.)], [5.7 l/100 km (city)]...   \n",
       "comfort_convenience      [Air conditioning, Armrest, Automatic climate ...   \n",
       "entertainment_media      [Bluetooth, CD player, Hands-free equipment, M...   \n",
       "safety_security          [ABS, Bi-Xenon headlights, Central door lock, ...   \n",
       "extras                                 [Alloy wheels, Catalytic Converter]   \n",
       "empty_weight                                                           NaN   \n",
       "model_code                                                             NaN   \n",
       "general_inspection                                                     NaN   \n",
       "last_service                                                           NaN   \n",
       "full_service_history                                                   NaN   \n",
       "non_smoker_vehicle                                                     NaN   \n",
       "emission_class                                                  Euro 6TEMP   \n",
       "emissions_sticker                                                      NaN   \n",
       "upholstery_colour                                                      NaN   \n",
       "upholstery                                                           Cloth   \n",
       "production_date                                                     2019.0   \n",
       "previous_owner                                   [[52,987 km, 12/2019], 2]   \n",
       "other_fuel_types                                                       NaN   \n",
       "power_consumption                                                      NaN   \n",
       "energy_efficiency_class                                                  A   \n",
       "co_efficiency            Calculated on basis of measured COemissions ta...   \n",
       "fuel_consumption_wltp                                                  NaN   \n",
       "co_emissions_wltp                                                      NaN   \n",
       "available_from                                                         NaN   \n",
       "taxi_or_rental_car                                                     NaN   \n",
       "availability                                                           NaN   \n",
       "last_timing_belt_change                                                NaN   \n",
       "electric_range_wltp                                                    NaN   \n",
       "power_consumption_wltp                                                 NaN   \n",
       "battery_ownership                                                      NaN   \n",
       "\n",
       "                                                                     9434   \\\n",
       "make_model                                                     Peugeot 301   \n",
       "short_description                   ACTIVE 1.2 ESS POUR ALGERIE UNIQUEMENT   \n",
       "make                                                               Peugeot   \n",
       "model                                                        [\\n, 301 ,\\n]   \n",
       "location                          44 BIS ROUTE DE LILLE,  59113 SECLIN, FR   \n",
       "price                                                               10,800   \n",
       "body_type                                                  [\\n, Sedan, \\n]   \n",
       "type                                                        [\\n, Used, \\n]   \n",
       "doors                                                                  NaN   \n",
       "country_version                                                        NaN   \n",
       "offer_number                                                [\\n, 7331, \\n]   \n",
       "warranty                                               [\\n, 24 months, \\n]   \n",
       "mileage                                                              10 km   \n",
       "first_registration                                                 08/2022   \n",
       "gearbox                                                       [\\nManual\\n]   \n",
       "fuel_type                                                         Gasoline   \n",
       "colour                                                                 NaN   \n",
       "paint                                                                  NaN   \n",
       "desc                     [AUTORADIO;Bluetooth;ANTIBROUILLARDS;FERMETURE...   \n",
       "seller                                                              Dealer   \n",
       "seats                                                                  NaN   \n",
       "power                                                                  NaN   \n",
       "engine_size                                                            NaN   \n",
       "gears                                                                  NaN   \n",
       "co_emissions                                                           NaN   \n",
       "manufacturer_colour                                           GRIS ARTENSE   \n",
       "drivetrain                                                             NaN   \n",
       "cylinders                                                              NaN   \n",
       "fuel_consumption                                                       NaN   \n",
       "comfort_convenience                                     [Air conditioning]   \n",
       "entertainment_media                                     [Bluetooth, Radio]   \n",
       "safety_security                            [Central door lock, Fog lights]   \n",
       "extras                                                                 NaN   \n",
       "empty_weight                                                           NaN   \n",
       "model_code                                                             NaN   \n",
       "general_inspection                                                     NaN   \n",
       "last_service                                                           NaN   \n",
       "full_service_history                                                   NaN   \n",
       "non_smoker_vehicle                                                     NaN   \n",
       "emission_class                                                         NaN   \n",
       "emissions_sticker                                                      NaN   \n",
       "upholstery_colour                                                      NaN   \n",
       "upholstery                                                             NaN   \n",
       "production_date                                                        NaN   \n",
       "previous_owner                                                         NaN   \n",
       "other_fuel_types                                                       NaN   \n",
       "power_consumption                                                      NaN   \n",
       "energy_efficiency_class                                                NaN   \n",
       "co_efficiency                                                          NaN   \n",
       "fuel_consumption_wltp                                                  NaN   \n",
       "co_emissions_wltp                                                      NaN   \n",
       "available_from                                                         NaN   \n",
       "taxi_or_rental_car                                                     NaN   \n",
       "availability                                                           NaN   \n",
       "last_timing_belt_change                                                NaN   \n",
       "electric_range_wltp                                                    NaN   \n",
       "power_consumption_wltp                                                 NaN   \n",
       "battery_ownership                                                      NaN   \n",
       "\n",
       "                                                                     11493  \n",
       "make_model                                                       Fiat Tipo  \n",
       "short_description                                   City Sport Kombi (357)  \n",
       "make                                                                  Fiat  \n",
       "model                                                       [\\n, Tipo ,\\n]  \n",
       "location                              Bahnhofstraße 21,  01990 Ortrand, DE  \n",
       "price                                                               24,990  \n",
       "body_type                                          [\\n, Station wagon, \\n]  \n",
       "type                                               [\\n, Demonstration, \\n]  \n",
       "doors                                                          [\\n, 5, \\n]  \n",
       "country_version                                          [\\n, Germany, \\n]  \n",
       "offer_number                                                           NaN  \n",
       "warranty                                               [\\n, 24 months, \\n]  \n",
       "mileage                                                           1,500 km  \n",
       "first_registration                                                 12/2021  \n",
       "gearbox                                                       [\\nManual\\n]  \n",
       "fuel_type                                                         Super 95  \n",
       "colour                                                                Grey  \n",
       "paint                                                                  NaN  \n",
       "desc                     [Sonderausstattung:, Komfort-Paket, Park-Paket...  \n",
       "seller                                                              Dealer  \n",
       "seats                                                          [\\n, 5, \\n]  \n",
       "power                                                 [\\n74 kW (101 hp)\\n]  \n",
       "engine_size                                                   [\\n999 cc\\n]  \n",
       "gears                                                              [\\n5\\n]  \n",
       "co_emissions                                              124 g/km (comb.)  \n",
       "manufacturer_colour                                     Metropolitano Grau  \n",
       "drivetrain                                                 [\\n, Front, \\n]  \n",
       "cylinders                                                          [\\n4\\n]  \n",
       "fuel_consumption         [[5.4 l/100 km (comb.)], [6.6 l/100 km (city)]...  \n",
       "comfort_convenience      [Air conditioning, Armrest, Automatic climate ...  \n",
       "entertainment_media      [Android Auto, Apple CarPlay, Bluetooth, Digit...  \n",
       "safety_security          [ABS, Adaptive Cruise Control, Adaptive headli...  \n",
       "extras                   [Alloy wheels (18\"), Catalytic Converter, Emer...  \n",
       "empty_weight                                                [\\n1,315 kg\\n]  \n",
       "model_code                                                             NaN  \n",
       "general_inspection                                                 12/2024  \n",
       "last_service                                                           NaN  \n",
       "full_service_history                                                   Yes  \n",
       "non_smoker_vehicle                                                     Yes  \n",
       "emission_class                                                     Euro 6d  \n",
       "emissions_sticker                                                4 (Green)  \n",
       "upholstery_colour                                                    Black  \n",
       "upholstery                                                           Cloth  \n",
       "production_date                                                        NaN  \n",
       "previous_owner                                    [[1,500 km, 12/2021], 1]  \n",
       "other_fuel_types                                                       NaN  \n",
       "power_consumption                                                      NaN  \n",
       "energy_efficiency_class                                                  B  \n",
       "co_efficiency            Calculated on basis of measured COemissions ta...  \n",
       "fuel_consumption_wltp                                                  NaN  \n",
       "co_emissions_wltp                                                      NaN  \n",
       "available_from                                                         NaN  \n",
       "taxi_or_rental_car                                                     NaN  \n",
       "availability                                                           NaN  \n",
       "last_timing_belt_change                                                NaN  \n",
       "electric_range_wltp                                                    NaN  \n",
       "power_consumption_wltp                                                 NaN  \n",
       "battery_ownership                                                      NaN  "
      ]
     },
     "execution_count": 8,
     "metadata": {},
     "output_type": "execute_result"
    }
   ],
   "source": [
    "# Column name ler duzenlenmis haliyle..\n",
    "df.sample(3).T"
   ]
  },
  {
   "cell_type": "markdown",
   "metadata": {},
   "source": [
    "<a id=\"8\"></a>\n",
    "<div class=\"alert alert-info\" role=\"alert\">\n",
    "<h1>Remove Duplicates <span style=\"color:red\">  </span></h1>\n",
    "</div>"
   ]
  },
  {
   "cell_type": "code",
   "execution_count": 9,
   "metadata": {},
   "outputs": [
    {
     "data": {
      "text/plain": [
       "850"
      ]
     },
     "execution_count": 9,
     "metadata": {},
     "output_type": "execute_result"
    }
   ],
   "source": [
    "df.isnull().all(axis=1).sum()"
   ]
  },
  {
   "cell_type": "code",
   "execution_count": 10,
   "metadata": {},
   "outputs": [],
   "source": [
    "df.dropna(axis=0 , how ='all', inplace = True)"
   ]
  },
  {
   "cell_type": "code",
   "execution_count": 11,
   "metadata": {},
   "outputs": [
    {
     "data": {
      "text/plain": [
       "(28630, 58)"
      ]
     },
     "execution_count": 11,
     "metadata": {},
     "output_type": "execute_result"
    }
   ],
   "source": [
    "df.shape"
   ]
  },
  {
   "cell_type": "markdown",
   "metadata": {},
   "source": [
    "<a id=\"8\"></a>\n",
    "<div class=\"alert alert-info\" role=\"alert\">\n",
    "<h1>Duplicates row drop <span style=\"color:red\">  </span></h1>\n",
    "</div>"
   ]
  },
  {
   "cell_type": "code",
   "execution_count": 12,
   "metadata": {},
   "outputs": [
    {
     "name": "stdout",
     "output_type": "stream",
     "text": [
      "3534\n"
     ]
    }
   ],
   "source": [
    "#Dublicate olan satırların sayısı dublicate ile birlikte\n",
    "print(df.astype(str).duplicated(keep=False).sum())"
   ]
  },
  {
   "cell_type": "code",
   "execution_count": 13,
   "metadata": {},
   "outputs": [],
   "source": [
    "# Tek satırda tüm sütunlardaki değeleri birlikte yazdırıp oluşturduğumuz sütunda\n",
    "df['merged_column'] = df.apply(lambda x: ','.join(x.dropna().astype(str)), axis=1)"
   ]
  },
  {
   "cell_type": "code",
   "execution_count": 14,
   "metadata": {},
   "outputs": [],
   "source": [
    "# Benzersiz olanlar kalarak diğer dublicate ler düşürüldü\n",
    "df = df.drop_duplicates(subset=['merged_column'])"
   ]
  },
  {
   "cell_type": "code",
   "execution_count": 15,
   "metadata": {},
   "outputs": [],
   "source": [
    "df.drop([\"merged_column\"], axis=1, inplace = True)"
   ]
  },
  {
   "cell_type": "code",
   "execution_count": 16,
   "metadata": {},
   "outputs": [
    {
     "data": {
      "text/plain": [
       "(26862, 58)"
      ]
     },
     "execution_count": 16,
     "metadata": {},
     "output_type": "execute_result"
    }
   ],
   "source": [
    "df.shape"
   ]
  },
  {
   "cell_type": "code",
   "execution_count": 17,
   "metadata": {
    "scrolled": true
   },
   "outputs": [
    {
     "data": {
      "text/html": [
       "<div>\n",
       "<style scoped>\n",
       "    .dataframe tbody tr th:only-of-type {\n",
       "        vertical-align: middle;\n",
       "    }\n",
       "\n",
       "    .dataframe tbody tr th {\n",
       "        vertical-align: top;\n",
       "    }\n",
       "\n",
       "    .dataframe thead th {\n",
       "        text-align: right;\n",
       "    }\n",
       "</style>\n",
       "<table border=\"1\" class=\"dataframe\">\n",
       "  <thead>\n",
       "    <tr style=\"text-align: right;\">\n",
       "      <th></th>\n",
       "      <th>Missing_Number</th>\n",
       "      <th>Missing_Percent</th>\n",
       "    </tr>\n",
       "  </thead>\n",
       "  <tbody>\n",
       "    <tr>\n",
       "      <th>battery_ownership</th>\n",
       "      <td>26855</td>\n",
       "      <td>99.973941</td>\n",
       "    </tr>\n",
       "    <tr>\n",
       "      <th>power_consumption_wltp</th>\n",
       "      <td>26846</td>\n",
       "      <td>99.940436</td>\n",
       "    </tr>\n",
       "    <tr>\n",
       "      <th>electric_range_wltp</th>\n",
       "      <td>26846</td>\n",
       "      <td>99.940436</td>\n",
       "    </tr>\n",
       "    <tr>\n",
       "      <th>fuel_consumption_wltp</th>\n",
       "      <td>26763</td>\n",
       "      <td>99.631450</td>\n",
       "    </tr>\n",
       "    <tr>\n",
       "      <th>co_emissions_wltp</th>\n",
       "      <td>26749</td>\n",
       "      <td>99.579331</td>\n",
       "    </tr>\n",
       "    <tr>\n",
       "      <th>availability</th>\n",
       "      <td>26582</td>\n",
       "      <td>98.957635</td>\n",
       "    </tr>\n",
       "    <tr>\n",
       "      <th>taxi_or_rental_car</th>\n",
       "      <td>26481</td>\n",
       "      <td>98.581639</td>\n",
       "    </tr>\n",
       "    <tr>\n",
       "      <th>available_from</th>\n",
       "      <td>26476</td>\n",
       "      <td>98.563026</td>\n",
       "    </tr>\n",
       "    <tr>\n",
       "      <th>power_consumption</th>\n",
       "      <td>26399</td>\n",
       "      <td>98.276376</td>\n",
       "    </tr>\n",
       "    <tr>\n",
       "      <th>last_timing_belt_change</th>\n",
       "      <td>26363</td>\n",
       "      <td>98.142357</td>\n",
       "    </tr>\n",
       "    <tr>\n",
       "      <th>last_service</th>\n",
       "      <td>25011</td>\n",
       "      <td>93.109225</td>\n",
       "    </tr>\n",
       "    <tr>\n",
       "      <th>other_fuel_types</th>\n",
       "      <td>24745</td>\n",
       "      <td>92.118978</td>\n",
       "    </tr>\n",
       "    <tr>\n",
       "      <th>production_date</th>\n",
       "      <td>21321</td>\n",
       "      <td>79.372348</td>\n",
       "    </tr>\n",
       "    <tr>\n",
       "      <th>co_efficiency</th>\n",
       "      <td>19525</td>\n",
       "      <td>72.686323</td>\n",
       "    </tr>\n",
       "    <tr>\n",
       "      <th>energy_efficiency_class</th>\n",
       "      <td>19525</td>\n",
       "      <td>72.686323</td>\n",
       "    </tr>\n",
       "    <tr>\n",
       "      <th>model_code</th>\n",
       "      <td>18935</td>\n",
       "      <td>70.489911</td>\n",
       "    </tr>\n",
       "    <tr>\n",
       "      <th>emissions_sticker</th>\n",
       "      <td>17871</td>\n",
       "      <td>66.528926</td>\n",
       "    </tr>\n",
       "    <tr>\n",
       "      <th>non_smoker_vehicle</th>\n",
       "      <td>15943</td>\n",
       "      <td>59.351500</td>\n",
       "    </tr>\n",
       "    <tr>\n",
       "      <th>general_inspection</th>\n",
       "      <td>15383</td>\n",
       "      <td>57.266771</td>\n",
       "    </tr>\n",
       "    <tr>\n",
       "      <th>full_service_history</th>\n",
       "      <td>15133</td>\n",
       "      <td>56.336088</td>\n",
       "    </tr>\n",
       "    <tr>\n",
       "      <th>previous_owner</th>\n",
       "      <td>13753</td>\n",
       "      <td>51.198719</td>\n",
       "    </tr>\n",
       "    <tr>\n",
       "      <th>paint</th>\n",
       "      <td>13373</td>\n",
       "      <td>49.784082</td>\n",
       "    </tr>\n",
       "    <tr>\n",
       "      <th>upholstery_colour</th>\n",
       "      <td>13167</td>\n",
       "      <td>49.017199</td>\n",
       "    </tr>\n",
       "    <tr>\n",
       "      <th>warranty</th>\n",
       "      <td>12059</td>\n",
       "      <td>44.892413</td>\n",
       "    </tr>\n",
       "    <tr>\n",
       "      <th>drivetrain</th>\n",
       "      <td>11231</td>\n",
       "      <td>41.809992</td>\n",
       "    </tr>\n",
       "    <tr>\n",
       "      <th>country_version</th>\n",
       "      <td>10915</td>\n",
       "      <td>40.633609</td>\n",
       "    </tr>\n",
       "    <tr>\n",
       "      <th>empty_weight</th>\n",
       "      <td>10367</td>\n",
       "      <td>38.593552</td>\n",
       "    </tr>\n",
       "    <tr>\n",
       "      <th>emission_class</th>\n",
       "      <td>10132</td>\n",
       "      <td>37.718710</td>\n",
       "    </tr>\n",
       "    <tr>\n",
       "      <th>co_emissions</th>\n",
       "      <td>9461</td>\n",
       "      <td>35.220758</td>\n",
       "    </tr>\n",
       "    <tr>\n",
       "      <th>upholstery</th>\n",
       "      <td>9460</td>\n",
       "      <td>35.217035</td>\n",
       "    </tr>\n",
       "    <tr>\n",
       "      <th>cylinders</th>\n",
       "      <td>9328</td>\n",
       "      <td>34.725635</td>\n",
       "    </tr>\n",
       "    <tr>\n",
       "      <th>gears</th>\n",
       "      <td>9149</td>\n",
       "      <td>34.059266</td>\n",
       "    </tr>\n",
       "    <tr>\n",
       "      <th>manufacturer_colour</th>\n",
       "      <td>6481</td>\n",
       "      <td>24.127020</td>\n",
       "    </tr>\n",
       "    <tr>\n",
       "      <th>offer_number</th>\n",
       "      <td>5180</td>\n",
       "      <td>19.283747</td>\n",
       "    </tr>\n",
       "    <tr>\n",
       "      <th>fuel_consumption</th>\n",
       "      <td>5030</td>\n",
       "      <td>18.725337</td>\n",
       "    </tr>\n",
       "    <tr>\n",
       "      <th>extras</th>\n",
       "      <td>4958</td>\n",
       "      <td>18.457300</td>\n",
       "    </tr>\n",
       "    <tr>\n",
       "      <th>entertainment_media</th>\n",
       "      <td>4653</td>\n",
       "      <td>17.321867</td>\n",
       "    </tr>\n",
       "    <tr>\n",
       "      <th>safety_security</th>\n",
       "      <td>3094</td>\n",
       "      <td>11.518130</td>\n",
       "    </tr>\n",
       "    <tr>\n",
       "      <th>comfort_convenience</th>\n",
       "      <td>3090</td>\n",
       "      <td>11.503239</td>\n",
       "    </tr>\n",
       "    <tr>\n",
       "      <th>seats</th>\n",
       "      <td>3000</td>\n",
       "      <td>11.168193</td>\n",
       "    </tr>\n",
       "    <tr>\n",
       "      <th>fuel_type</th>\n",
       "      <td>1679</td>\n",
       "      <td>6.250465</td>\n",
       "    </tr>\n",
       "    <tr>\n",
       "      <th>colour</th>\n",
       "      <td>1674</td>\n",
       "      <td>6.231852</td>\n",
       "    </tr>\n",
       "    <tr>\n",
       "      <th>engine_size</th>\n",
       "      <td>1355</td>\n",
       "      <td>5.044300</td>\n",
       "    </tr>\n",
       "    <tr>\n",
       "      <th>power</th>\n",
       "      <td>561</td>\n",
       "      <td>2.088452</td>\n",
       "    </tr>\n",
       "    <tr>\n",
       "      <th>desc</th>\n",
       "      <td>557</td>\n",
       "      <td>2.073561</td>\n",
       "    </tr>\n",
       "    <tr>\n",
       "      <th>doors</th>\n",
       "      <td>341</td>\n",
       "      <td>1.269451</td>\n",
       "    </tr>\n",
       "    <tr>\n",
       "      <th>gearbox</th>\n",
       "      <td>234</td>\n",
       "      <td>0.871119</td>\n",
       "    </tr>\n",
       "    <tr>\n",
       "      <th>first_registration</th>\n",
       "      <td>2</td>\n",
       "      <td>0.007445</td>\n",
       "    </tr>\n",
       "    <tr>\n",
       "      <th>mileage</th>\n",
       "      <td>1</td>\n",
       "      <td>0.003723</td>\n",
       "    </tr>\n",
       "  </tbody>\n",
       "</table>\n",
       "</div>"
      ],
      "text/plain": [
       "                         Missing_Number  Missing_Percent\n",
       "battery_ownership                 26855        99.973941\n",
       "power_consumption_wltp            26846        99.940436\n",
       "electric_range_wltp               26846        99.940436\n",
       "fuel_consumption_wltp             26763        99.631450\n",
       "co_emissions_wltp                 26749        99.579331\n",
       "availability                      26582        98.957635\n",
       "taxi_or_rental_car                26481        98.581639\n",
       "available_from                    26476        98.563026\n",
       "power_consumption                 26399        98.276376\n",
       "last_timing_belt_change           26363        98.142357\n",
       "last_service                      25011        93.109225\n",
       "other_fuel_types                  24745        92.118978\n",
       "production_date                   21321        79.372348\n",
       "co_efficiency                     19525        72.686323\n",
       "energy_efficiency_class           19525        72.686323\n",
       "model_code                        18935        70.489911\n",
       "emissions_sticker                 17871        66.528926\n",
       "non_smoker_vehicle                15943        59.351500\n",
       "general_inspection                15383        57.266771\n",
       "full_service_history              15133        56.336088\n",
       "previous_owner                    13753        51.198719\n",
       "paint                             13373        49.784082\n",
       "upholstery_colour                 13167        49.017199\n",
       "warranty                          12059        44.892413\n",
       "drivetrain                        11231        41.809992\n",
       "country_version                   10915        40.633609\n",
       "empty_weight                      10367        38.593552\n",
       "emission_class                    10132        37.718710\n",
       "co_emissions                       9461        35.220758\n",
       "upholstery                         9460        35.217035\n",
       "cylinders                          9328        34.725635\n",
       "gears                              9149        34.059266\n",
       "manufacturer_colour                6481        24.127020\n",
       "offer_number                       5180        19.283747\n",
       "fuel_consumption                   5030        18.725337\n",
       "extras                             4958        18.457300\n",
       "entertainment_media                4653        17.321867\n",
       "safety_security                    3094        11.518130\n",
       "comfort_convenience                3090        11.503239\n",
       "seats                              3000        11.168193\n",
       "fuel_type                          1679         6.250465\n",
       "colour                             1674         6.231852\n",
       "engine_size                        1355         5.044300\n",
       "power                               561         2.088452\n",
       "desc                                557         2.073561\n",
       "doors                               341         1.269451\n",
       "gearbox                             234         0.871119\n",
       "first_registration                    2         0.007445\n",
       "mileage                               1         0.003723"
      ]
     },
     "execution_count": 17,
     "metadata": {},
     "output_type": "execute_result"
    }
   ],
   "source": [
    "# Missing Value sayisini ve yuzdesini veren fonksiyon..\n",
    "def missing_values(df):\n",
    "    missing_number = df.isnull().sum().sort_values(ascending=False)\n",
    "    missing_percent = (df.isnull().sum()/df.isnull().count()*100).sort_values(ascending=False)\n",
    "    missing_values = pd.concat([missing_number, missing_percent], axis=1, keys=['Missing_Number', 'Missing_Percent'])\n",
    "    return missing_values[missing_values['Missing_Number']>0]\n",
    "missing_values(df)"
   ]
  },
  {
   "cell_type": "markdown",
   "metadata": {},
   "source": [
    "## % 90 üstü NaN içeren Sütunlar Drop edilecek & make_model sütunu make ve model sütunları kullanılarak tekrar oluşturulacak ve ilk make_model de drop edilecek\n",
    "'battery_ownership'\n",
    "\n",
    "'power_consumption_wltp'\n",
    "\n",
    "'electric_range_wltp'\n",
    "\n",
    "'fuel_consumption_wltp'\n",
    "\n",
    "'co_emissions_wltp'\n",
    "\n",
    "'availability'\n",
    "\n",
    "'taxi_or_rental_car'\n",
    "\n",
    "'available_from'\n",
    "\n",
    "'power_consumption'\n",
    "\n",
    "'last_timing_belt_change'\n",
    "\n",
    "'last_service'\n",
    "\n",
    "'other_fuel_types'\n",
    "\n",
    "'make_model'"
   ]
  },
  {
   "cell_type": "code",
   "execution_count": 18,
   "metadata": {},
   "outputs": [],
   "source": [
    "df.drop(['battery_ownership', 'power_consumption_wltp', 'electric_range_wltp', 'fuel_consumption_wltp', 'co_emissions_wltp', 'availability', 'taxi_or_rental_car', 'available_from',  'power_consumption', 'last_timing_belt_change', 'last_service', 'other_fuel_types', 'make_model'], axis=1, inplace=True)"
   ]
  },
  {
   "cell_type": "code",
   "execution_count": 19,
   "metadata": {},
   "outputs": [
    {
     "data": {
      "text/plain": [
       "(26862, 45)"
      ]
     },
     "execution_count": 19,
     "metadata": {},
     "output_type": "execute_result"
    }
   ],
   "source": [
    "df.shape"
   ]
  },
  {
   "cell_type": "markdown",
   "metadata": {},
   "source": [
    "<a id=\"8\"></a>\n",
    "<div class=\"alert alert-info\" role=\"alert\">\n",
    "<h1>Column name :<span style=\"color:red\"> short_description </span></h1>\n",
    "</div>"
   ]
  },
  {
   "cell_type": "code",
   "execution_count": 20,
   "metadata": {},
   "outputs": [
    {
     "data": {
      "text/plain": [
       "short_description\n",
       "                                                      204\n",
       "Cabrio 1.4T S&S Excellence                             84\n",
       "Extreme+ Sitzer TCe 110                                57\n",
       "D2 Kinetic 120                                         44\n",
       "D2 Momentum 120                                        44\n",
       "                                                     ... \n",
       "1.6 bluehdi Allure 100cv PROMO                          1\n",
       "2.0 BlueHDi 180ch GT S\\u0026S EAT6                      1\n",
       "I Allure                                                1\n",
       "1.5 BlueHDi 96kW (130CV) S&S Active Pack                1\n",
       "2.9 Executive G. NETTE AUTO! LEER! NAVI! CRUISE! L      1\n",
       "Name: count, Length: 20938, dtype: int64"
      ]
     },
     "execution_count": 20,
     "metadata": {},
     "output_type": "execute_result"
    }
   ],
   "source": [
    "df.short_description.value_counts()"
   ]
  },
  {
   "cell_type": "code",
   "execution_count": 21,
   "metadata": {},
   "outputs": [
    {
     "data": {
      "text/plain": [
       "short_description\n",
       "False    26862\n",
       "Name: count, dtype: int64"
      ]
     },
     "execution_count": 21,
     "metadata": {},
     "output_type": "execute_result"
    }
   ],
   "source": [
    "df[\"short_description\"].isna().value_counts()"
   ]
  },
  {
   "cell_type": "markdown",
   "metadata": {},
   "source": [
    "<a id=\"8\"></a>\n",
    "<div class=\"alert alert-info\" role=\"alert\">\n",
    "<h1>Column name :<span style=\"color:red\"> make </span></h1>\n",
    "</div>"
   ]
  },
  {
   "cell_type": "markdown",
   "metadata": {},
   "source": [
    "* 13 farkli araba modeli bilgisi cleaning gerektirmeyecek sekilde girilmis."
   ]
  },
  {
   "cell_type": "code",
   "execution_count": 22,
   "metadata": {},
   "outputs": [],
   "source": [
    "df[\"make\"] = df[\"make\"].replace({\"MercedeBenz\": \"Mercedes Benz\", \"SEAT\": \"Seat\"})"
   ]
  },
  {
   "cell_type": "code",
   "execution_count": 23,
   "metadata": {},
   "outputs": [
    {
     "data": {
      "text/plain": [
       "make\n",
       "Mercedes Benz    2376\n",
       "Opel             2373\n",
       "Peugeot          2356\n",
       "Renault          2337\n",
       "Fiat             2331\n",
       "Ford             2310\n",
       "Nissan           2052\n",
       "Toyota           2028\n",
       "Volvo            2024\n",
       "Hyundai          1861\n",
       "Seat             1729\n",
       "Skoda            1553\n",
       "Dacia            1532\n",
       "Name: count, dtype: int64"
      ]
     },
     "execution_count": 23,
     "metadata": {},
     "output_type": "execute_result"
    }
   ],
   "source": [
    "df.make.value_counts()"
   ]
  },
  {
   "cell_type": "code",
   "execution_count": 24,
   "metadata": {},
   "outputs": [
    {
     "data": {
      "text/plain": [
       "make\n",
       "False    26862\n",
       "Name: count, dtype: int64"
      ]
     },
     "execution_count": 24,
     "metadata": {},
     "output_type": "execute_result"
    }
   ],
   "source": [
    "df[\"make\"].isna().value_counts()"
   ]
  },
  {
   "cell_type": "markdown",
   "metadata": {},
   "source": [
    "<a id=\"8\"></a>\n",
    "<div class=\"alert alert-info\" role=\"alert\">\n",
    "<h1>Column name :<span style=\"color:red\"> model </span></h1>\n",
    "</div>"
   ]
  },
  {
   "cell_type": "code",
   "execution_count": 25,
   "metadata": {},
   "outputs": [],
   "source": [
    "df['model'] = df['model'].astype(str).apply(lambda x: np.nan if x==\"nan\" else x[6:-6])"
   ]
  },
  {
   "cell_type": "code",
   "execution_count": 26,
   "metadata": {},
   "outputs": [
    {
     "data": {
      "text/plain": [
       "0           A 160\n",
       "1         EQE 350\n",
       "2        A 45 AMG\n",
       "3        A 35 AMG\n",
       "4        A 45 AMG\n",
       "           ...   \n",
       "29474         S90\n",
       "29475         S40\n",
       "29476         C30\n",
       "29477         S90\n",
       "29478         S80\n",
       "Name: model, Length: 26862, dtype: object"
      ]
     },
     "execution_count": 26,
     "metadata": {},
     "output_type": "execute_result"
    }
   ],
   "source": [
    "df['model']"
   ]
  },
  {
   "cell_type": "code",
   "execution_count": 27,
   "metadata": {},
   "outputs": [
    {
     "data": {
      "text/plain": [
       "model\n",
       "False    26862\n",
       "Name: count, dtype: int64"
      ]
     },
     "execution_count": 27,
     "metadata": {},
     "output_type": "execute_result"
    }
   ],
   "source": [
    "df[\"model\"].isna().value_counts()"
   ]
  },
  {
   "cell_type": "markdown",
   "metadata": {},
   "source": [
    "<a id=\"8\"></a>\n",
    "<div class=\"alert alert-info\" role=\"alert\">\n",
    "<h1>Column name :<span style=\"color:red\"> make_model_new </span></h1>\n",
    "</div>"
   ]
  },
  {
   "cell_type": "markdown",
   "metadata": {},
   "source": [
    "make_model sütunu eksik veri içeridiğinden drop edildi make ve model sütunları ile yeni bir make_model_new sütunu oluşturuldu "
   ]
  },
  {
   "cell_type": "code",
   "execution_count": 28,
   "metadata": {},
   "outputs": [],
   "source": [
    "df[\"make_model_new\"] = df.make + \" \" + df.model"
   ]
  },
  {
   "cell_type": "code",
   "execution_count": 29,
   "metadata": {},
   "outputs": [],
   "source": [
    "df.drop(\"model\", axis=1, inplace=True)"
   ]
  },
  {
   "cell_type": "code",
   "execution_count": 30,
   "metadata": {},
   "outputs": [],
   "source": [
    "# Bu sütunu df in en başında görmek istiyoruz\n",
    "cols = [\"make_model_new\"] + [col for col in df.columns if col != \"make_model_new\"]\n",
    "df = df[cols]"
   ]
  },
  {
   "cell_type": "code",
   "execution_count": 31,
   "metadata": {},
   "outputs": [
    {
     "data": {
      "text/html": [
       "<div>\n",
       "<style scoped>\n",
       "    .dataframe tbody tr th:only-of-type {\n",
       "        vertical-align: middle;\n",
       "    }\n",
       "\n",
       "    .dataframe tbody tr th {\n",
       "        vertical-align: top;\n",
       "    }\n",
       "\n",
       "    .dataframe thead th {\n",
       "        text-align: right;\n",
       "    }\n",
       "</style>\n",
       "<table border=\"1\" class=\"dataframe\">\n",
       "  <thead>\n",
       "    <tr style=\"text-align: right;\">\n",
       "      <th></th>\n",
       "      <th>make_model_new</th>\n",
       "      <th>short_description</th>\n",
       "      <th>make</th>\n",
       "      <th>location</th>\n",
       "      <th>price</th>\n",
       "      <th>body_type</th>\n",
       "      <th>type</th>\n",
       "      <th>doors</th>\n",
       "      <th>country_version</th>\n",
       "      <th>offer_number</th>\n",
       "      <th>...</th>\n",
       "      <th>full_service_history</th>\n",
       "      <th>non_smoker_vehicle</th>\n",
       "      <th>emission_class</th>\n",
       "      <th>emissions_sticker</th>\n",
       "      <th>upholstery_colour</th>\n",
       "      <th>upholstery</th>\n",
       "      <th>production_date</th>\n",
       "      <th>previous_owner</th>\n",
       "      <th>energy_efficiency_class</th>\n",
       "      <th>co_efficiency</th>\n",
       "    </tr>\n",
       "  </thead>\n",
       "  <tbody>\n",
       "    <tr>\n",
       "      <th>0</th>\n",
       "      <td>Mercedes Benz A 160</td>\n",
       "      <td>CDi</td>\n",
       "      <td>Mercedes Benz</td>\n",
       "      <td>P.I. EL PALMAR C/FORJA 6,  11500 PUERTO DE SAN...</td>\n",
       "      <td>16,950</td>\n",
       "      <td>[\\n, Compact, \\n]</td>\n",
       "      <td>[\\n, Used, \\n]</td>\n",
       "      <td>[\\n, 5, \\n]</td>\n",
       "      <td>[\\n, Spain, \\n]</td>\n",
       "      <td>[\\n, 7468157, \\n]</td>\n",
       "      <td>...</td>\n",
       "      <td>NaN</td>\n",
       "      <td>NaN</td>\n",
       "      <td>NaN</td>\n",
       "      <td>NaN</td>\n",
       "      <td>NaN</td>\n",
       "      <td>NaN</td>\n",
       "      <td>NaN</td>\n",
       "      <td>NaN</td>\n",
       "      <td>NaN</td>\n",
       "      <td>NaN</td>\n",
       "    </tr>\n",
       "    <tr>\n",
       "      <th>1</th>\n",
       "      <td>Mercedes Benz EQE 350</td>\n",
       "      <td>350+</td>\n",
       "      <td>Mercedes Benz</td>\n",
       "      <td>APARTADO DE CORREOS 1032,  26140 LOGROÑO, ES</td>\n",
       "      <td>80,900</td>\n",
       "      <td>[\\n, Compact, \\n]</td>\n",
       "      <td>[\\n, Pre-registered, \\n]</td>\n",
       "      <td>[\\n, 4, \\n]</td>\n",
       "      <td>[\\n, Spain, \\n]</td>\n",
       "      <td>[\\n, 7054863, \\n]</td>\n",
       "      <td>...</td>\n",
       "      <td>NaN</td>\n",
       "      <td>NaN</td>\n",
       "      <td>NaN</td>\n",
       "      <td>NaN</td>\n",
       "      <td>NaN</td>\n",
       "      <td>NaN</td>\n",
       "      <td>NaN</td>\n",
       "      <td>NaN</td>\n",
       "      <td>NaN</td>\n",
       "      <td>NaN</td>\n",
       "    </tr>\n",
       "    <tr>\n",
       "      <th>2</th>\n",
       "      <td>Mercedes Benz A 45 AMG</td>\n",
       "      <td>S 4Matic+ 8DCT</td>\n",
       "      <td>Mercedes Benz</td>\n",
       "      <td>PORT. TARRACO, MOLL DE LLEVANT, Nº 5, LOC. 8, ...</td>\n",
       "      <td>69,900</td>\n",
       "      <td>[\\n, Compact, \\n]</td>\n",
       "      <td>[\\n, Used, \\n]</td>\n",
       "      <td>[\\n, 5, \\n]</td>\n",
       "      <td>[\\n, Spain, \\n]</td>\n",
       "      <td>[\\n, 7410454, \\n]</td>\n",
       "      <td>...</td>\n",
       "      <td>NaN</td>\n",
       "      <td>NaN</td>\n",
       "      <td>NaN</td>\n",
       "      <td>NaN</td>\n",
       "      <td>NaN</td>\n",
       "      <td>NaN</td>\n",
       "      <td>NaN</td>\n",
       "      <td>NaN</td>\n",
       "      <td>NaN</td>\n",
       "      <td>NaN</td>\n",
       "    </tr>\n",
       "    <tr>\n",
       "      <th>3</th>\n",
       "      <td>Mercedes Benz A 35 AMG</td>\n",
       "      <td>4Matic+ 7DCT</td>\n",
       "      <td>Mercedes Benz</td>\n",
       "      <td>Carrer de Provença, 31 Local,  8029 BARCELONA, ES</td>\n",
       "      <td>46,990</td>\n",
       "      <td>[\\n, Compact, \\n]</td>\n",
       "      <td>[\\n, Used, \\n]</td>\n",
       "      <td>[\\n, 5, \\n]</td>\n",
       "      <td>[\\n, Spain, \\n]</td>\n",
       "      <td>[\\n, 7464503, \\n]</td>\n",
       "      <td>...</td>\n",
       "      <td>NaN</td>\n",
       "      <td>NaN</td>\n",
       "      <td>NaN</td>\n",
       "      <td>NaN</td>\n",
       "      <td>NaN</td>\n",
       "      <td>NaN</td>\n",
       "      <td>NaN</td>\n",
       "      <td>NaN</td>\n",
       "      <td>NaN</td>\n",
       "      <td>NaN</td>\n",
       "    </tr>\n",
       "    <tr>\n",
       "      <th>4</th>\n",
       "      <td>Mercedes Benz A 45 AMG</td>\n",
       "      <td>200CDI BE Line 4M 7DCT</td>\n",
       "      <td>Mercedes Benz</td>\n",
       "      <td>CARRIL ARAGONES 4,  30007 CASILLAS, ES</td>\n",
       "      <td>16,800</td>\n",
       "      <td>[\\n, Compact, \\n]</td>\n",
       "      <td>[\\n, Used, \\n]</td>\n",
       "      <td>[\\n, 5, \\n]</td>\n",
       "      <td>[\\n, Spain, \\n]</td>\n",
       "      <td>[\\n, 7127931, \\n]</td>\n",
       "      <td>...</td>\n",
       "      <td>NaN</td>\n",
       "      <td>NaN</td>\n",
       "      <td>NaN</td>\n",
       "      <td>NaN</td>\n",
       "      <td>NaN</td>\n",
       "      <td>NaN</td>\n",
       "      <td>NaN</td>\n",
       "      <td>NaN</td>\n",
       "      <td>NaN</td>\n",
       "      <td>NaN</td>\n",
       "    </tr>\n",
       "  </tbody>\n",
       "</table>\n",
       "<p>5 rows × 45 columns</p>\n",
       "</div>"
      ],
      "text/plain": [
       "           make_model_new       short_description           make  \\\n",
       "0     Mercedes Benz A 160                     CDi  Mercedes Benz   \n",
       "1   Mercedes Benz EQE 350                    350+  Mercedes Benz   \n",
       "2  Mercedes Benz A 45 AMG          S 4Matic+ 8DCT  Mercedes Benz   \n",
       "3  Mercedes Benz A 35 AMG            4Matic+ 7DCT  Mercedes Benz   \n",
       "4  Mercedes Benz A 45 AMG  200CDI BE Line 4M 7DCT  Mercedes Benz   \n",
       "\n",
       "                                            location    price  \\\n",
       "0  P.I. EL PALMAR C/FORJA 6,  11500 PUERTO DE SAN...   16,950   \n",
       "1       APARTADO DE CORREOS 1032,  26140 LOGROÑO, ES   80,900   \n",
       "2  PORT. TARRACO, MOLL DE LLEVANT, Nº 5, LOC. 8, ...   69,900   \n",
       "3  Carrer de Provença, 31 Local,  8029 BARCELONA, ES   46,990   \n",
       "4             CARRIL ARAGONES 4,  30007 CASILLAS, ES   16,800   \n",
       "\n",
       "           body_type                      type        doors  country_version  \\\n",
       "0  [\\n, Compact, \\n]            [\\n, Used, \\n]  [\\n, 5, \\n]  [\\n, Spain, \\n]   \n",
       "1  [\\n, Compact, \\n]  [\\n, Pre-registered, \\n]  [\\n, 4, \\n]  [\\n, Spain, \\n]   \n",
       "2  [\\n, Compact, \\n]            [\\n, Used, \\n]  [\\n, 5, \\n]  [\\n, Spain, \\n]   \n",
       "3  [\\n, Compact, \\n]            [\\n, Used, \\n]  [\\n, 5, \\n]  [\\n, Spain, \\n]   \n",
       "4  [\\n, Compact, \\n]            [\\n, Used, \\n]  [\\n, 5, \\n]  [\\n, Spain, \\n]   \n",
       "\n",
       "        offer_number  ... full_service_history non_smoker_vehicle  \\\n",
       "0  [\\n, 7468157, \\n]  ...                  NaN                NaN   \n",
       "1  [\\n, 7054863, \\n]  ...                  NaN                NaN   \n",
       "2  [\\n, 7410454, \\n]  ...                  NaN                NaN   \n",
       "3  [\\n, 7464503, \\n]  ...                  NaN                NaN   \n",
       "4  [\\n, 7127931, \\n]  ...                  NaN                NaN   \n",
       "\n",
       "  emission_class emissions_sticker upholstery_colour upholstery  \\\n",
       "0            NaN               NaN               NaN        NaN   \n",
       "1            NaN               NaN               NaN        NaN   \n",
       "2            NaN               NaN               NaN        NaN   \n",
       "3            NaN               NaN               NaN        NaN   \n",
       "4            NaN               NaN               NaN        NaN   \n",
       "\n",
       "  production_date previous_owner energy_efficiency_class co_efficiency  \n",
       "0             NaN            NaN                     NaN           NaN  \n",
       "1             NaN            NaN                     NaN           NaN  \n",
       "2             NaN            NaN                     NaN           NaN  \n",
       "3             NaN            NaN                     NaN           NaN  \n",
       "4             NaN            NaN                     NaN           NaN  \n",
       "\n",
       "[5 rows x 45 columns]"
      ]
     },
     "execution_count": 31,
     "metadata": {},
     "output_type": "execute_result"
    }
   ],
   "source": [
    "df.head()"
   ]
  },
  {
   "cell_type": "code",
   "execution_count": 32,
   "metadata": {},
   "outputs": [],
   "source": [
    "df.rename(columns={'make_model_new': 'make_model'}, inplace=True)"
   ]
  },
  {
   "cell_type": "code",
   "execution_count": 33,
   "metadata": {},
   "outputs": [
    {
     "data": {
      "text/plain": [
       "make_model\n",
       "False    26862\n",
       "Name: count, dtype: int64"
      ]
     },
     "execution_count": 33,
     "metadata": {},
     "output_type": "execute_result"
    }
   ],
   "source": [
    "df[\"make_model\"].isna().value_counts()"
   ]
  },
  {
   "cell_type": "markdown",
   "metadata": {},
   "source": [
    "<a id=\"8\"></a>\n",
    "<div class=\"alert alert-info\" role=\"alert\">\n",
    "<h1>Column name :<span style=\"color:red\"> location </span></h1>\n",
    "</div>"
   ]
  },
  {
   "cell_type": "code",
   "execution_count": 34,
   "metadata": {},
   "outputs": [
    {
     "data": {
      "text/plain": [
       "location\n",
       "DE    11919\n",
       "ES     6101\n",
       "NL     2564\n",
       "IT     2419\n",
       "BE     1732\n",
       "FR     1450\n",
       "AT      640\n",
       "LU       34\n",
       "DK        1\n",
       "EE        1\n",
       "BG        1\n",
       "Name: count, dtype: int64"
      ]
     },
     "execution_count": 34,
     "metadata": {},
     "output_type": "execute_result"
    }
   ],
   "source": [
    "df[\"location\"] = df[\"location\"].astype(str).apply(lambda x: np.nan if x == 'nan' else x[-2:])\n",
    "\n",
    "df.location.value_counts(dropna=False)"
   ]
  },
  {
   "cell_type": "code",
   "execution_count": 35,
   "metadata": {},
   "outputs": [
    {
     "data": {
      "text/plain": [
       "location\n",
       "False    26862\n",
       "Name: count, dtype: int64"
      ]
     },
     "execution_count": 35,
     "metadata": {},
     "output_type": "execute_result"
    }
   ],
   "source": [
    "df[\"location\"].isna().value_counts()"
   ]
  },
  {
   "cell_type": "markdown",
   "metadata": {},
   "source": [
    "<a id=\"8\"></a>\n",
    "<div class=\"alert alert-info\" role=\"alert\">\n",
    "<h1>Column name :<span style=\"color:red\"> price </span></h1>\n",
    "</div>"
   ]
  },
  {
   "cell_type": "code",
   "execution_count": 36,
   "metadata": {},
   "outputs": [],
   "source": [
    "# price cleaning replace and convert dtype\n",
    "df.price = df.price.replace(['€', '.-', ','], \"\", regex=True)\n",
    "df.price = pd.to_numeric(df.price)"
   ]
  },
  {
   "cell_type": "code",
   "execution_count": 37,
   "metadata": {},
   "outputs": [
    {
     "data": {
      "text/plain": [
       "price\n",
       "12990    213\n",
       "14990    209\n",
       "16990    180\n",
       "19990    165\n",
       "18990    152\n",
       "        ... \n",
       "9099       1\n",
       "15630      1\n",
       "28100      1\n",
       "34199      1\n",
       "4440       1\n",
       "Name: count, Length: 5021, dtype: int64"
      ]
     },
     "execution_count": 37,
     "metadata": {},
     "output_type": "execute_result"
    }
   ],
   "source": [
    "df.price.value_counts(dropna=False)"
   ]
  },
  {
   "cell_type": "code",
   "execution_count": 38,
   "metadata": {},
   "outputs": [
    {
     "data": {
      "text/plain": [
       "price\n",
       "False    26862\n",
       "Name: count, dtype: int64"
      ]
     },
     "execution_count": 38,
     "metadata": {},
     "output_type": "execute_result"
    }
   ],
   "source": [
    "df[\"price\"].isna().value_counts()"
   ]
  },
  {
   "cell_type": "markdown",
   "metadata": {},
   "source": [
    "<a id=\"8\"></a>\n",
    "<div class=\"alert alert-info\" role=\"alert\">\n",
    "<h1>Column name :<span style=\"color:red\"> body_type </span></h1>\n",
    "</div>"
   ]
  },
  {
   "cell_type": "code",
   "execution_count": 39,
   "metadata": {},
   "outputs": [],
   "source": [
    "df.body_type = df.body_type.map(lambda x : x[0].split(\",\")[1].strip() if type(x) == list else x)"
   ]
  },
  {
   "cell_type": "code",
   "execution_count": 40,
   "metadata": {},
   "outputs": [
    {
     "data": {
      "text/plain": [
       "body_type\n",
       "Station wagon       5033\n",
       "Sedan               5015\n",
       "Off-Road/Pick-up    4995\n",
       "Compact             4988\n",
       "Coupe               3824\n",
       "Convertible         3007\n",
       "Name: count, dtype: int64"
      ]
     },
     "execution_count": 40,
     "metadata": {},
     "output_type": "execute_result"
    }
   ],
   "source": [
    "df.body_type.value_counts(dropna=False)"
   ]
  },
  {
   "cell_type": "code",
   "execution_count": 41,
   "metadata": {},
   "outputs": [
    {
     "data": {
      "text/plain": [
       "body_type\n",
       "False    26862\n",
       "Name: count, dtype: int64"
      ]
     },
     "execution_count": 41,
     "metadata": {},
     "output_type": "execute_result"
    }
   ],
   "source": [
    "df[\"body_type\"].isna().value_counts()"
   ]
  },
  {
   "cell_type": "markdown",
   "metadata": {},
   "source": [
    "<a id=\"8\"></a>\n",
    "<div class=\"alert alert-info\" role=\"alert\">\n",
    "<h1>Column name :<span style=\"color:red\"> type </span></h1>\n",
    "</div>"
   ]
  },
  {
   "cell_type": "code",
   "execution_count": 42,
   "metadata": {},
   "outputs": [],
   "source": [
    "df.type = df.type.map(lambda x : x[0].split(\",\")[1].strip() if type(x) == list else x)"
   ]
  },
  {
   "cell_type": "code",
   "execution_count": 43,
   "metadata": {},
   "outputs": [
    {
     "data": {
      "text/plain": [
       "type\n",
       "Used              23597\n",
       "Demonstration      1371\n",
       "Pre-registered     1360\n",
       "Employee's car      534\n",
       "Name: count, dtype: int64"
      ]
     },
     "execution_count": 43,
     "metadata": {},
     "output_type": "execute_result"
    }
   ],
   "source": [
    "df.type.value_counts(dropna=False)"
   ]
  },
  {
   "cell_type": "code",
   "execution_count": 44,
   "metadata": {},
   "outputs": [
    {
     "data": {
      "text/plain": [
       "type\n",
       "False    26862\n",
       "Name: count, dtype: int64"
      ]
     },
     "execution_count": 44,
     "metadata": {},
     "output_type": "execute_result"
    }
   ],
   "source": [
    "df[\"type\"].isna().value_counts()"
   ]
  },
  {
   "cell_type": "markdown",
   "metadata": {},
   "source": [
    "<a id=\"8\"></a>\n",
    "<div class=\"alert alert-info\" role=\"alert\">\n",
    "<h1>Column name :<span style=\"color:red\"> doors </span></h1>\n",
    "</div>"
   ]
  },
  {
   "cell_type": "markdown",
   "metadata": {},
   "source": [
    "* 2 ve 3 ==>> 1.grup\n",
    "* 4 ve 5 ==>> 2.grup\n",
    "* 6 ve 1 olanlar değiştirilebilir "
   ]
  },
  {
   "cell_type": "code",
   "execution_count": 45,
   "metadata": {},
   "outputs": [],
   "source": [
    "# df['doors'] = df.groupby(['make', 'model'])['doors'].transform(lambda x: x.fillna(x.mode() if not x.mode().empty else x))"
   ]
  },
  {
   "cell_type": "code",
   "execution_count": 46,
   "metadata": {},
   "outputs": [
    {
     "data": {
      "text/plain": [
       "doors\n",
       "[\\n, 5, \\n]    16417\n",
       "[\\n, 2, \\n]     5078\n",
       "[\\n, 4, \\n]     2846\n",
       "[\\n, 3, \\n]     2173\n",
       "NaN              341\n",
       "[\\n, 6, \\n]        5\n",
       "[\\n, 1, \\n]        2\n",
       "Name: count, dtype: int64"
      ]
     },
     "execution_count": 46,
     "metadata": {},
     "output_type": "execute_result"
    }
   ],
   "source": [
    "df[\"doors\"].value_counts(dropna=False)"
   ]
  },
  {
   "cell_type": "code",
   "execution_count": 47,
   "metadata": {},
   "outputs": [],
   "source": [
    "df[\"doors\"] = df[\"doors\"].str[0].str.strip(\"\\n, \")"
   ]
  },
  {
   "cell_type": "code",
   "execution_count": 48,
   "metadata": {},
   "outputs": [
    {
     "data": {
      "text/plain": [
       "doors\n",
       "5      16417\n",
       "2       5078\n",
       "4       2846\n",
       "3       2173\n",
       "NaN      341\n",
       "6          5\n",
       "1          2\n",
       "Name: count, dtype: int64"
      ]
     },
     "execution_count": 48,
     "metadata": {},
     "output_type": "execute_result"
    }
   ],
   "source": [
    "df[\"doors\"].value_counts(dropna=False)"
   ]
  },
  {
   "cell_type": "code",
   "execution_count": 49,
   "metadata": {},
   "outputs": [
    {
     "data": {
      "text/plain": [
       "doors\n",
       "False    26521\n",
       "True       341\n",
       "Name: count, dtype: int64"
      ]
     },
     "execution_count": 49,
     "metadata": {},
     "output_type": "execute_result"
    }
   ],
   "source": [
    "df[\"doors\"].isna().value_counts()"
   ]
  },
  {
   "cell_type": "markdown",
   "metadata": {},
   "source": [
    "<a id=\"8\"></a>\n",
    "<div class=\"alert alert-info\" role=\"alert\">\n",
    "<h1>Column name :<span style=\"color:red\"> country_version </span></h1>\n",
    "</div>"
   ]
  },
  {
   "cell_type": "code",
   "execution_count": 50,
   "metadata": {},
   "outputs": [],
   "source": [
    "df[\"country_version\"] = df[\"country_version\"].str[0].str.strip(\"\\n, \")"
   ]
  },
  {
   "cell_type": "code",
   "execution_count": 51,
   "metadata": {},
   "outputs": [
    {
     "data": {
      "text/plain": [
       "country_version\n",
       "NaN               10915\n",
       "Germany            7489\n",
       "Spain              5974\n",
       "Italy               663\n",
       "Belgium             614\n",
       "European Union      338\n",
       "Netherlands         284\n",
       "Austria             262\n",
       "France               97\n",
       "United States        53\n",
       "Czechia              47\n",
       "Poland               30\n",
       "Hungary              20\n",
       "Denmark              18\n",
       "Romania              12\n",
       "Japan                12\n",
       "Luxembourg            9\n",
       "Switzerland           5\n",
       "Slovenia              5\n",
       "Slovakia              4\n",
       "Sweden                4\n",
       "Croatia               3\n",
       "Bulgaria              1\n",
       "Malta                 1\n",
       "Canada                1\n",
       "Mexico                1\n",
       "Name: count, dtype: int64"
      ]
     },
     "execution_count": 51,
     "metadata": {},
     "output_type": "execute_result"
    }
   ],
   "source": [
    "df[\"country_version\"].value_counts(dropna = False)"
   ]
  },
  {
   "cell_type": "code",
   "execution_count": 52,
   "metadata": {},
   "outputs": [
    {
     "data": {
      "text/plain": [
       "country_version\n",
       "False    15947\n",
       "True     10915\n",
       "Name: count, dtype: int64"
      ]
     },
     "execution_count": 52,
     "metadata": {},
     "output_type": "execute_result"
    }
   ],
   "source": [
    "df[\"country_version\"].isna().value_counts()"
   ]
  },
  {
   "cell_type": "code",
   "execution_count": 53,
   "metadata": {},
   "outputs": [],
   "source": [
    "# df.drop(\"country_version\", axis=1, inplace=True)"
   ]
  },
  {
   "cell_type": "markdown",
   "metadata": {},
   "source": [
    "<a id=\"8\"></a>\n",
    "<div class=\"alert alert-info\" role=\"alert\">\n",
    "<h1>Column name :<span style=\"color:red\"> offer_number </span></h1>\n",
    "</div>"
   ]
  },
  {
   "cell_type": "code",
   "execution_count": 54,
   "metadata": {},
   "outputs": [],
   "source": [
    "df[\"offer_number\"] = df[\"offer_number\"].str[0].str.strip(\"\\n, \")"
   ]
  },
  {
   "cell_type": "code",
   "execution_count": 55,
   "metadata": {},
   "outputs": [
    {
     "data": {
      "text/plain": [
       "offer_number\n",
       "NaN                            5180\n",
       "1                                28\n",
       "L-Vorlauf 2023                   10\n",
       "30                                9\n",
       "20                                8\n",
       "                               ... \n",
       "10-ZP-FH                          1\n",
       "pe64c2-GH-161-VE_ST37236693       1\n",
       "KY114671                          1\n",
       "7464643                           1\n",
       "43-JR-LR                          1\n",
       "Name: count, Length: 20946, dtype: int64"
      ]
     },
     "execution_count": 55,
     "metadata": {},
     "output_type": "execute_result"
    }
   ],
   "source": [
    "df[\"offer_number\"].value_counts(dropna = False)"
   ]
  },
  {
   "cell_type": "code",
   "execution_count": 56,
   "metadata": {},
   "outputs": [
    {
     "data": {
      "text/plain": [
       "offer_number\n",
       "False    21682\n",
       "True      5180\n",
       "Name: count, dtype: int64"
      ]
     },
     "execution_count": 56,
     "metadata": {},
     "output_type": "execute_result"
    }
   ],
   "source": [
    "df[\"offer_number\"].isna().value_counts()"
   ]
  },
  {
   "cell_type": "code",
   "execution_count": 57,
   "metadata": {},
   "outputs": [],
   "source": [
    "#Herhangi bir etkisi olmadığı düşünüldüğünden drop edildi\n",
    "df.drop(\"offer_number\", axis=1, inplace=True)"
   ]
  },
  {
   "cell_type": "markdown",
   "metadata": {},
   "source": [
    "<a id=\"8\"></a>\n",
    "<div class=\"alert alert-info\" role=\"alert\">\n",
    "<h1>Column name :<span style=\"color:red\"> warranty </span></h1>\n",
    "</div>"
   ]
  },
  {
   "cell_type": "markdown",
   "metadata": {},
   "source": [
    "* Yes olanlar 12 ile değiştirilebilir\n",
    "* 1 yıl, 2 yıl, 2 yıl üstü şeklinde 3 gruba ayrılabilir"
   ]
  },
  {
   "cell_type": "code",
   "execution_count": 58,
   "metadata": {},
   "outputs": [
    {
     "data": {
      "text/plain": [
       "['\\n, 24 months, \\n']"
      ]
     },
     "execution_count": 58,
     "metadata": {},
     "output_type": "execute_result"
    }
   ],
   "source": [
    "df[\"warranty\"][0]"
   ]
  },
  {
   "cell_type": "code",
   "execution_count": 59,
   "metadata": {},
   "outputs": [],
   "source": [
    "df[\"warranty\"] = df[\"warranty\"].str[0].str.strip(\"\\n, \").str.replace(\" months\",\"\")"
   ]
  },
  {
   "cell_type": "code",
   "execution_count": 60,
   "metadata": {},
   "outputs": [
    {
     "data": {
      "text/plain": [
       "warranty\n",
       "12     8927\n",
       "Yes    2187\n",
       "24     1372\n",
       "60      957\n",
       "6       375\n",
       "       ... \n",
       "39        1\n",
       "142       1\n",
       "65        1\n",
       "43        1\n",
       "4         1\n",
       "Name: count, Length: 65, dtype: int64"
      ]
     },
     "execution_count": 60,
     "metadata": {},
     "output_type": "execute_result"
    }
   ],
   "source": [
    "df[\"warranty\"].value_counts()"
   ]
  },
  {
   "cell_type": "code",
   "execution_count": 61,
   "metadata": {},
   "outputs": [
    {
     "data": {
      "text/plain": [
       "warranty\n",
       "False    14803\n",
       "True     12059\n",
       "Name: count, dtype: int64"
      ]
     },
     "execution_count": 61,
     "metadata": {},
     "output_type": "execute_result"
    }
   ],
   "source": [
    "df[\"warranty\"].isna().value_counts()"
   ]
  },
  {
   "cell_type": "markdown",
   "metadata": {},
   "source": [
    "0 ve null değerler \"no\" olacak\n",
    "12 ay ve üzeri şeklinde de gruplama yapılabilir "
   ]
  },
  {
   "cell_type": "markdown",
   "metadata": {},
   "source": [
    "<a id=\"8\"></a>\n",
    "<div class=\"alert alert-info\" role=\"alert\">\n",
    "<h1>Column name :<span style=\"color:red\"> mileage </span></h1>\n",
    "</div>"
   ]
  },
  {
   "cell_type": "code",
   "execution_count": 62,
   "metadata": {},
   "outputs": [
    {
     "data": {
      "text/plain": [
       "mileage\n",
       "10 km         582\n",
       "1 km          168\n",
       "50 km         133\n",
       "5,000 km      118\n",
       "100 km        116\n",
       "             ... \n",
       "113,266 km      1\n",
       "30,705 km       1\n",
       "41,484 km       1\n",
       "40,687 km       1\n",
       "230,047 km      1\n",
       "Name: count, Length: 14183, dtype: int64"
      ]
     },
     "execution_count": 62,
     "metadata": {},
     "output_type": "execute_result"
    }
   ],
   "source": [
    "df['mileage'].value_counts()"
   ]
  },
  {
   "cell_type": "code",
   "execution_count": 63,
   "metadata": {},
   "outputs": [],
   "source": [
    "df['mileage'] = df['mileage'].str.rstrip(' km').str.replace(\",\", \"\").astype(float)"
   ]
  },
  {
   "cell_type": "code",
   "execution_count": 64,
   "metadata": {},
   "outputs": [
    {
     "data": {
      "text/plain": [
       "mileage\n",
       "10.0        582\n",
       "1.0         168\n",
       "50.0        133\n",
       "5000.0      118\n",
       "100.0       116\n",
       "           ... \n",
       "113266.0      1\n",
       "30705.0       1\n",
       "41484.0       1\n",
       "40687.0       1\n",
       "230047.0      1\n",
       "Name: count, Length: 14183, dtype: int64"
      ]
     },
     "execution_count": 64,
     "metadata": {},
     "output_type": "execute_result"
    }
   ],
   "source": [
    "df['mileage'].value_counts()"
   ]
  },
  {
   "cell_type": "code",
   "execution_count": 65,
   "metadata": {},
   "outputs": [
    {
     "data": {
      "text/plain": [
       "mileage\n",
       "False    26861\n",
       "True         1\n",
       "Name: count, dtype: int64"
      ]
     },
     "execution_count": 65,
     "metadata": {},
     "output_type": "execute_result"
    }
   ],
   "source": [
    "df['mileage'].isna().value_counts()"
   ]
  },
  {
   "cell_type": "markdown",
   "metadata": {},
   "source": [
    "<a id=\"8\"></a>\n",
    "<div class=\"alert alert-info\" role=\"alert\">\n",
    "<h1>Column name :<span style=\"color:red\"> first_registration </span></h1>\n",
    "</div>"
   ]
  },
  {
   "cell_type": "code",
   "execution_count": 66,
   "metadata": {},
   "outputs": [],
   "source": [
    "df[\"first_registration\"] = df[\"first_registration\"].str.extract(\"/(\\d+)\")"
   ]
  },
  {
   "cell_type": "code",
   "execution_count": 67,
   "metadata": {},
   "outputs": [
    {
     "data": {
      "text/plain": [
       "first_registration\n",
       "2019    3432\n",
       "2018    3228\n",
       "2022    3032\n",
       "2021    2731\n",
       "2020    2354\n",
       "        ... \n",
       "2025       1\n",
       "1946       1\n",
       "1956       1\n",
       "1950       1\n",
       "1953       1\n",
       "Name: count, Length: 83, dtype: int64"
      ]
     },
     "execution_count": 67,
     "metadata": {},
     "output_type": "execute_result"
    }
   ],
   "source": [
    "df[\"first_registration\"].value_counts()"
   ]
  },
  {
   "cell_type": "code",
   "execution_count": 68,
   "metadata": {},
   "outputs": [
    {
     "data": {
      "text/plain": [
       "first_registration\n",
       "False    26860\n",
       "True         2\n",
       "Name: count, dtype: int64"
      ]
     },
     "execution_count": 68,
     "metadata": {},
     "output_type": "execute_result"
    }
   ],
   "source": [
    "df[\"first_registration\"].isna().value_counts()"
   ]
  },
  {
   "cell_type": "code",
   "execution_count": 69,
   "metadata": {},
   "outputs": [],
   "source": [
    "df['first_registration'] = df['first_registration'].astype(float)"
   ]
  },
  {
   "cell_type": "code",
   "execution_count": 70,
   "metadata": {},
   "outputs": [],
   "source": [
    "# Son yıldan ilk kayıt tarihini çıkararak \"age\" sütununu oluşturduk ve first_registration drop edilecek\n",
    "df[\"age\"] = 2022 - df[\"first_registration\"]"
   ]
  },
  {
   "cell_type": "code",
   "execution_count": 71,
   "metadata": {},
   "outputs": [
    {
     "data": {
      "text/plain": [
       "age\n",
       "False    26860\n",
       "True         2\n",
       "Name: count, dtype: int64"
      ]
     },
     "execution_count": 71,
     "metadata": {},
     "output_type": "execute_result"
    }
   ],
   "source": [
    "df[\"age\"].isna().value_counts()"
   ]
  },
  {
   "cell_type": "code",
   "execution_count": 72,
   "metadata": {},
   "outputs": [],
   "source": [
    "df.drop(\"first_registration\", axis=1, inplace=True)"
   ]
  },
  {
   "cell_type": "markdown",
   "metadata": {},
   "source": [
    "<a id=\"8\"></a>\n",
    "<div class=\"alert alert-info\" role=\"alert\">\n",
    "<h1>Column name :<span style=\"color:red\"> gearbox </span></h1>\n",
    "</div>"
   ]
  },
  {
   "cell_type": "code",
   "execution_count": 73,
   "metadata": {},
   "outputs": [
    {
     "data": {
      "text/plain": [
       "gearbox\n",
       "[\\nManual\\n]            16311\n",
       "[\\nAutomatic\\n]         10253\n",
       "NaN                       234\n",
       "[\\nSemi-automatic\\n]       64\n",
       "Name: count, dtype: int64"
      ]
     },
     "execution_count": 73,
     "metadata": {},
     "output_type": "execute_result"
    }
   ],
   "source": [
    "df[\"gearbox\"].value_counts(dropna=False)"
   ]
  },
  {
   "cell_type": "code",
   "execution_count": 74,
   "metadata": {},
   "outputs": [],
   "source": [
    "df[\"gearbox\"] = df[\"gearbox\"].astype(str).apply(lambda x: np.nan if x==\"nan\" else x[4:-4])"
   ]
  },
  {
   "cell_type": "code",
   "execution_count": 75,
   "metadata": {},
   "outputs": [
    {
     "data": {
      "text/plain": [
       "gearbox\n",
       "Manual            16311\n",
       "Automatic         10253\n",
       "NaN                 234\n",
       "Semi-automatic       64\n",
       "Name: count, dtype: int64"
      ]
     },
     "execution_count": 75,
     "metadata": {},
     "output_type": "execute_result"
    }
   ],
   "source": [
    "df[\"gearbox\"].value_counts(dropna=False)"
   ]
  },
  {
   "cell_type": "code",
   "execution_count": 76,
   "metadata": {},
   "outputs": [
    {
     "data": {
      "text/plain": [
       "gearbox\n",
       "False    26628\n",
       "True       234\n",
       "Name: count, dtype: int64"
      ]
     },
     "execution_count": 76,
     "metadata": {},
     "output_type": "execute_result"
    }
   ],
   "source": [
    "df[\"gearbox\"].isna().value_counts()"
   ]
  },
  {
   "cell_type": "markdown",
   "metadata": {},
   "source": [
    "<a id=\"8\"></a>\n",
    "<div class=\"alert alert-info\" role=\"alert\">\n",
    "<h1>Column name :<span style=\"color:red\"> fuel_type </span></h1>\n",
    "</div>"
   ]
  },
  {
   "cell_type": "code",
   "execution_count": 77,
   "metadata": {},
   "outputs": [
    {
     "data": {
      "text/plain": [
       "fuel_type\n",
       "Gasoline                                                                                              8167\n",
       "Diesel                                                                                                5271\n",
       "Super 95                                                                                              3339\n",
       "Diesel (Particle filter)                                                                              2557\n",
       "Regular/Benzine 91                                                                                    1991\n",
       "NaN                                                                                                   1679\n",
       "Super E10 95                                                                                           994\n",
       "Regular/Benzine 91 (Particle filter)                                                                   539\n",
       "Super 95 (Particle filter)                                                                             513\n",
       "Super E10 95 (Particle filter)                                                                         314\n",
       "Regular/Benzine E10 91                                                                                 273\n",
       "Others                                                                                                 195\n",
       "Gasoline (Particle filter)                                                                             191\n",
       "Electric                                                                                               182\n",
       "Super Plus 98                                                                                          169\n",
       "Liquid petroleum gas (LPG)                                                                             141\n",
       "CNG                                                                                                     86\n",
       "LPG                                                                                                     67\n",
       "Super Plus E10 98                                                                                       42\n",
       "Super Plus E10 98 (Particle filter)                                                                     34\n",
       "Domestic gas H                                                                                          24\n",
       "Others (Particle filter)                                                                                16\n",
       "Super Plus 98 (Particle filter)                                                                         15\n",
       "Domestic gas L                                                                                          10\n",
       "CNG (Particle filter)                                                                                    8\n",
       "Regular/Benzine E10 91 (Particle filter)                                                                 7\n",
       "LPG (Particle filter)                                                                                    4\n",
       "Hydrogen                                                                                                 3\n",
       "Ethanol                                                                                                  3\n",
       "Electric (Particle filter)                                                                               3\n",
       "Liquid petroleum gas (LPG) (Particle filter) / Super 95 / Super E10 95                                   3\n",
       "Liquid petroleum gas (LPG) / Super 95 / Super Plus 98 / Super Plus E10 98 / Super E10 95                 2\n",
       "Liquid petroleum gas (LPG) / Super 95 / Super E10 95                                                     2\n",
       "Domestic gas L (Particle filter)                                                                         2\n",
       "Liquid petroleum gas (LPG) (Particle filter)                                                             2\n",
       "Liquid petroleum gas (LPG) / Super 95                                                                    2\n",
       "Liquid petroleum gas (LPG) / Super 95 / Super E10 95 / Super Plus 98                                     2\n",
       "Liquid petroleum gas (LPG) / Super 95 / Super Plus 98                                                    1\n",
       "Super 95 (Particle filter) / Super E10 95 / Ethanol                                                      1\n",
       "Liquid petroleum gas (LPG) / Super E10 95 / Super Plus E10 98 / Super Plus 98 / Super 95                 1\n",
       "Liquid petroleum gas (LPG) / Super E10 95                                                                1\n",
       "Biogas                                                                                                   1\n",
       "Super 95 / Super Plus 98 / Liquid petroleum gas (LPG)                                                    1\n",
       "Domestic gas L / Super 95 / Domestic gas H                                                               1\n",
       "Domestic gas H / Super E10 95 / Super Plus E10 98 / Super 95 / Super Plus 98 / Domestic gas L            1\n",
       "Liquid petroleum gas (LPG) / Super E10 95 / Regular/Benzine 91 / Super 95 / Super Plus 98 / Biogas       1\n",
       "Super 95 / Liquid petroleum gas (LPG)                                                                    1\n",
       "Name: count, dtype: int64"
      ]
     },
     "execution_count": 77,
     "metadata": {},
     "output_type": "execute_result"
    }
   ],
   "source": [
    "df[\"fuel_type\"].value_counts(dropna=False)"
   ]
  },
  {
   "cell_type": "code",
   "execution_count": 78,
   "metadata": {},
   "outputs": [],
   "source": [
    "df['fuel_type'] = df['fuel_type'].str.split(\"/\").str[0].str.strip()"
   ]
  },
  {
   "cell_type": "code",
   "execution_count": 79,
   "metadata": {},
   "outputs": [
    {
     "data": {
      "text/plain": [
       "fuel_type\n",
       "Gasoline                                        8167\n",
       "Diesel                                          5271\n",
       "Super 95                                        3341\n",
       "Regular                                         2810\n",
       "Diesel (Particle filter)                        2557\n",
       "NaN                                             1679\n",
       "Super E10 95                                     994\n",
       "Super 95 (Particle filter)                       514\n",
       "Super E10 95 (Particle filter)                   314\n",
       "Others                                           195\n",
       "Gasoline (Particle filter)                       191\n",
       "Electric                                         182\n",
       "Super Plus 98                                    169\n",
       "Liquid petroleum gas (LPG)                       153\n",
       "CNG                                               86\n",
       "LPG                                               67\n",
       "Super Plus E10 98                                 42\n",
       "Super Plus E10 98 (Particle filter)               34\n",
       "Domestic gas H                                    25\n",
       "Others (Particle filter)                          16\n",
       "Super Plus 98 (Particle filter)                   15\n",
       "Domestic gas L                                    11\n",
       "CNG (Particle filter)                              8\n",
       "Liquid petroleum gas (LPG) (Particle filter)       5\n",
       "LPG (Particle filter)                              4\n",
       "Ethanol                                            3\n",
       "Electric (Particle filter)                         3\n",
       "Hydrogen                                           3\n",
       "Domestic gas L (Particle filter)                   2\n",
       "Biogas                                             1\n",
       "Name: count, dtype: int64"
      ]
     },
     "execution_count": 79,
     "metadata": {},
     "output_type": "execute_result"
    }
   ],
   "source": [
    "df['fuel_type'].value_counts(dropna=False)"
   ]
  },
  {
   "cell_type": "markdown",
   "metadata": {},
   "source": [
    "## benzin, dizel, lpg, other ve elektric olarak gruplanacak"
   ]
  },
  {
   "cell_type": "code",
   "execution_count": 80,
   "metadata": {},
   "outputs": [],
   "source": [
    "benzin = [\"Gasoline\",\"Gasoline (Particle filter)\", \"Super 95\",\"Regular\",\n",
    "           \"Super E10 95\",\"Super Plus 98\",\"Super Plus E10 98\",\"Super Plus E10 98 (Particle filter)\", \n",
    "           \"Super 95 (Particle filter)\",\"Super Plus 98 (Particle filter)\",\n",
    "           \"Super E10 95 (Particle filter)\"]\n",
    "diesel = [\"Diesel\",\"Diesel (Particle filter)\"]\n",
    "lpg = [\"LPG\",\"LPG (Particle filter)\",\"Liquid petroleum gas (LPG)\",\n",
    "       \"Liquid petroleum gas (LPG) (Particle filter)\", \n",
    "       \"CNG\", \"Biogas\", \"Domestic gas H\",\"Domestic gas L\",\"Domestic gas L (Particle filter)\",\n",
    "       \"CNG (Particle filter)\"]\n",
    "other =[\"Others\",\"Others (Particle filter)\",\"Ethanol\",\"Hydrogen\"]\n",
    "electric = [\"Electric\",\"Electric (Particle filter)\"]\n",
    "def fueltype(x):\n",
    "    if x in benzin:\n",
    "        return \"Benzin\"\n",
    "    elif x in diesel:\n",
    "        return \"Diesel\"\n",
    "    elif x in lpg:\n",
    "        return \"LPG/CNG\"\n",
    "    elif x in other:\n",
    "        return \"Other\"\n",
    "    elif x in electric:\n",
    "        return \"Electric\"\n",
    "    else:\n",
    "        return x\n",
    "df[\"fuel_type\"] = df[\"fuel_type\"].apply(fueltype)"
   ]
  },
  {
   "cell_type": "code",
   "execution_count": 81,
   "metadata": {},
   "outputs": [
    {
     "data": {
      "text/plain": [
       "fuel_type\n",
       "Benzin      16591\n",
       "Diesel       7828\n",
       "NaN          1679\n",
       "LPG/CNG       362\n",
       "Other         217\n",
       "Electric      185\n",
       "Name: count, dtype: int64"
      ]
     },
     "execution_count": 81,
     "metadata": {},
     "output_type": "execute_result"
    }
   ],
   "source": [
    "df[\"fuel_type\"].value_counts(dropna=False)"
   ]
  },
  {
   "cell_type": "markdown",
   "metadata": {},
   "source": [
    "<a id=\"8\"></a>\n",
    "<div class=\"alert alert-info\" role=\"alert\">\n",
    "<h1>Column name :<span style=\"color:red\"> colour </span></h1>\n",
    "</div>"
   ]
  },
  {
   "cell_type": "markdown",
   "metadata": {},
   "source": [
    "* Renk datalari temiz bir sekilde girilmis. Olasi mantikli gruplamalar..\n",
    "* NaN value lari doldurmak icin cok ilintili bir feature yok gibi gozukuyor. NaN lar other veya unknown yapabilabilir"
   ]
  },
  {
   "cell_type": "code",
   "execution_count": 82,
   "metadata": {},
   "outputs": [
    {
     "data": {
      "text/plain": [
       "colour\n",
       "Black     5906\n",
       "Grey      5640\n",
       "White     4937\n",
       "Blue      3204\n",
       "Red       2147\n",
       "Silver    1526\n",
       "Green      429\n",
       "Brown      420\n",
       "Orange     280\n",
       "Beige      262\n",
       "Yellow     226\n",
       "Violet      94\n",
       "Bronze      62\n",
       "Gold        55\n",
       "Name: count, dtype: int64"
      ]
     },
     "execution_count": 82,
     "metadata": {},
     "output_type": "execute_result"
    }
   ],
   "source": [
    "df[\"colour\"].value_counts()"
   ]
  },
  {
   "cell_type": "code",
   "execution_count": 83,
   "metadata": {},
   "outputs": [
    {
     "data": {
      "text/plain": [
       "colour\n",
       "False    25188\n",
       "True      1674\n",
       "Name: count, dtype: int64"
      ]
     },
     "execution_count": 83,
     "metadata": {},
     "output_type": "execute_result"
    }
   ],
   "source": [
    "df[\"colour\"].isna().value_counts()"
   ]
  },
  {
   "cell_type": "code",
   "execution_count": 84,
   "metadata": {},
   "outputs": [],
   "source": [
    "#df.loc[df.colour.isnull(), [\"make\", \"model\", \"model_code\", \"colour\"]].sample(50)"
   ]
  },
  {
   "cell_type": "markdown",
   "metadata": {},
   "source": [
    "<a id=\"8\"></a>\n",
    "<div class=\"alert alert-info\" role=\"alert\">\n",
    "<h1>Column name :<span style=\"color:red\"> paint </span></h1>\n",
    "</div>"
   ]
  },
  {
   "cell_type": "markdown",
   "metadata": {},
   "source": [
    "Yariya yakini NaN value. NaN lar ile ilgili regular yorumunu yapmistik ama tam bilinemedigi icin  'unknown' veya 'other' demek en mantikli gibi duruyor"
   ]
  },
  {
   "cell_type": "code",
   "execution_count": 85,
   "metadata": {},
   "outputs": [
    {
     "data": {
      "text/plain": [
       "paint\n",
       "Metallic     13488\n",
       "NaN          13373\n",
       "Uni/basic        1\n",
       "Name: count, dtype: int64"
      ]
     },
     "execution_count": 85,
     "metadata": {},
     "output_type": "execute_result"
    }
   ],
   "source": [
    "df[\"paint\"].value_counts(dropna=False)"
   ]
  },
  {
   "cell_type": "markdown",
   "metadata": {},
   "source": [
    "<a id=\"8\"></a>\n",
    "<div class=\"alert alert-info\" role=\"alert\">\n",
    "<h1>Column name :<span style=\"color:red\"> desc </span></h1>\n",
    "</div>"
   ]
  },
  {
   "cell_type": "code",
   "execution_count": 86,
   "metadata": {},
   "outputs": [],
   "source": [
    "df[\"desc\"] = df.desc.apply(lambda x : \"\".join(x).strip() if type(x) == list else x).str.title()"
   ]
  },
  {
   "cell_type": "code",
   "execution_count": 87,
   "metadata": {},
   "outputs": [
    {
     "data": {
      "text/plain": [
       "desc\n",
       "False    26305\n",
       "True       557\n",
       "Name: count, dtype: int64"
      ]
     },
     "execution_count": 87,
     "metadata": {},
     "output_type": "execute_result"
    }
   ],
   "source": [
    "df[\"desc\"].isna().value_counts()"
   ]
  },
  {
   "cell_type": "code",
   "execution_count": 88,
   "metadata": {},
   "outputs": [],
   "source": [
    "df['desc'] = df['desc'].apply(lambda x: re.sub(r'[¡//*_!<>+#🔴✅✔️🔺📞O➡️]', '', x) if isinstance(x, str) else x)"
   ]
  },
  {
   "cell_type": "code",
   "execution_count": 89,
   "metadata": {},
   "outputs": [
    {
     "data": {
      "text/plain": [
       "0        Precio Al Contado: 16950 Euros  Vehículo Con H...\n",
       "1        Precio Al Contado: 88900 Euros Auto ja S.A. - ...\n",
       "2        Gris Manufaktur Mountaingrau Magno LineaEstilo...\n",
       "3        Precio Al Contado: 48990 Euros  Bonificacion P...\n",
       "4        Precio Al Contado: 17400 Euros Vehículo En Per...\n",
       "                               ...                        \n",
       "29474    Precio Al Contado: 41400 Euros s Presento Esta...\n",
       "29475    Een Goed Rijdende Auto Met Apk  Nap  Elektrisc...\n",
       "29476     Volvo C30 2011 Tres Propre En Parfait Etat Av...\n",
       "29477    Bekijk Deze Auto In Unieke 360 Graden Presenta...\n",
       "29478    Youngtimer Bedrijfsinformatieneem Voor U Wilt ...\n",
       "Name: desc, Length: 26862, dtype: object"
      ]
     },
     "execution_count": 89,
     "metadata": {},
     "output_type": "execute_result"
    }
   ],
   "source": [
    "df[\"desc\"]"
   ]
  },
  {
   "cell_type": "code",
   "execution_count": 90,
   "metadata": {},
   "outputs": [],
   "source": [
    "## df.drop([\"desc\"], axis=1, inplace = True)            NaN lar doldurulduktan sonra"
   ]
  },
  {
   "cell_type": "markdown",
   "metadata": {},
   "source": [
    "<a id=\"8\"></a>\n",
    "<div class=\"alert alert-info\" role=\"alert\">\n",
    "<h1>Column name :<span style=\"color:red\"> seller </span></h1>\n",
    "</div>"
   ]
  },
  {
   "cell_type": "markdown",
   "metadata": {},
   "source": [
    "Araba fiyatını etkileyen faktörler arasında satıcı tipi de önemli bir rol oynar. Bayiler genellikle daha yüksek fiyatlarla satış yaparlar çünkü genellikle daha fazla hizmet ve güvence sunarlar (garanti, servis, vb.). Bireysel satıcılar ise genellikle daha düşük fiyatlarla satış yaparlar, ancak alıcılar genellikle daha az hizmet ve güvence alırlar."
   ]
  },
  {
   "cell_type": "code",
   "execution_count": 91,
   "metadata": {},
   "outputs": [
    {
     "data": {
      "text/plain": [
       "seller\n",
       "Dealer            24749\n",
       "Private seller     2113\n",
       "Name: count, dtype: int64"
      ]
     },
     "execution_count": 91,
     "metadata": {},
     "output_type": "execute_result"
    }
   ],
   "source": [
    "df['seller'].value_counts(dropna=False)"
   ]
  },
  {
   "cell_type": "code",
   "execution_count": 92,
   "metadata": {},
   "outputs": [
    {
     "data": {
      "text/plain": [
       "seller\n",
       "False    26862\n",
       "Name: count, dtype: int64"
      ]
     },
     "execution_count": 92,
     "metadata": {},
     "output_type": "execute_result"
    }
   ],
   "source": [
    "df[\"seller\"].isna().value_counts()"
   ]
  },
  {
   "cell_type": "markdown",
   "metadata": {},
   "source": [
    "<a id=\"8\"></a>\n",
    "<div class=\"alert alert-info\" role=\"alert\">\n",
    "<h1>Column name :<span style=\"color:red\"> seats </span></h1>\n",
    "</div>"
   ]
  },
  {
   "cell_type": "markdown",
   "metadata": {},
   "source": [
    "marka model ve model code a göre doldurulabilir koltuk sayısına göre gruplama yapılabilir"
   ]
  },
  {
   "cell_type": "code",
   "execution_count": 93,
   "metadata": {},
   "outputs": [
    {
     "data": {
      "text/plain": [
       "0        NaN\n",
       "1          5\n",
       "2          5\n",
       "3          5\n",
       "4          5\n",
       "        ... \n",
       "29474      4\n",
       "29475      5\n",
       "29476      4\n",
       "29477      5\n",
       "29478      5\n",
       "Name: seats, Length: 26862, dtype: object"
      ]
     },
     "execution_count": 93,
     "metadata": {},
     "output_type": "execute_result"
    }
   ],
   "source": [
    "df[\"seats\"] = df.seats.apply(lambda x: x[0].strip(\"\\n, \") if type(x)==list else x)\n",
    "df[\"seats\"]"
   ]
  },
  {
   "cell_type": "code",
   "execution_count": 94,
   "metadata": {},
   "outputs": [],
   "source": [
    "df.seats = df.seats.astype(float)"
   ]
  },
  {
   "cell_type": "code",
   "execution_count": 95,
   "metadata": {},
   "outputs": [
    {
     "data": {
      "text/plain": [
       "seats\n",
       "5.0     17211\n",
       "4.0      4915\n",
       "NaN      3000\n",
       "2.0      1177\n",
       "7.0       428\n",
       "8.0        43\n",
       "9.0        35\n",
       "3.0        24\n",
       "6.0        12\n",
       "0.0         9\n",
       "1.0         6\n",
       "17.0        2\n",
       "Name: count, dtype: int64"
      ]
     },
     "execution_count": 95,
     "metadata": {},
     "output_type": "execute_result"
    }
   ],
   "source": [
    "df[\"seats\"].value_counts(dropna=False)"
   ]
  },
  {
   "cell_type": "markdown",
   "metadata": {},
   "source": [
    "<a id=\"8\"></a>\n",
    "<div class=\"alert alert-info\" role=\"alert\">\n",
    "<h1>Column name :<span style=\"color:red\"> power </span></h1>\n",
    "</div>"
   ]
  },
  {
   "cell_type": "markdown",
   "metadata": {},
   "source": [
    "* high-medium-low gruplama yapılabilir\n",
    "* Power outlier gorunenler outlier olamayabilir! Domain knowledge!"
   ]
  },
  {
   "cell_type": "code",
   "execution_count": 96,
   "metadata": {},
   "outputs": [
    {
     "data": {
      "text/plain": [
       "0                    NaN\n",
       "1        215 kW (292 hp)\n",
       "2        310 kW (421 hp)\n",
       "3        225 kW (306 hp)\n",
       "4        100 kW (136 hp)\n",
       "              ...       \n",
       "29474    288 kW (392 hp)\n",
       "29475    125 kW (170 hp)\n",
       "29476     84 kW (114 hp)\n",
       "29477    187 kW (254 hp)\n",
       "29478    147 kW (200 hp)\n",
       "Name: power, Length: 26862, dtype: object"
      ]
     },
     "execution_count": 96,
     "metadata": {},
     "output_type": "execute_result"
    }
   ],
   "source": [
    "df[\"power\"] = df[\"power\"].apply(lambda x: x[0].strip(\"\\n\") if type(x)==list else x)\n",
    "df.power"
   ]
  },
  {
   "cell_type": "code",
   "execution_count": 97,
   "metadata": {},
   "outputs": [
    {
     "data": {
      "text/plain": [
       "0        NaN\n",
       "1        215\n",
       "2        310\n",
       "3        225\n",
       "4        100\n",
       "        ... \n",
       "29474    288\n",
       "29475    125\n",
       "29476     84\n",
       "29477    187\n",
       "29478    147\n",
       "Name: power, Length: 26862, dtype: object"
      ]
     },
     "execution_count": 97,
     "metadata": {},
     "output_type": "execute_result"
    }
   ],
   "source": [
    "df[\"power\"] = df[\"power\"].str.split().str[0]\n",
    "df.power"
   ]
  },
  {
   "cell_type": "code",
   "execution_count": 98,
   "metadata": {},
   "outputs": [],
   "source": [
    "df[\"power\"] = df[\"power\"].astype(float)"
   ]
  },
  {
   "cell_type": "code",
   "execution_count": 99,
   "metadata": {},
   "outputs": [
    {
     "data": {
      "text/plain": [
       "power\n",
       "110.0    1818\n",
       "96.0     1346\n",
       "81.0     1149\n",
       "66.0     1105\n",
       "88.0     1038\n",
       "         ... \n",
       "164.0       1\n",
       "409.0       1\n",
       "746.0       1\n",
       "570.0       1\n",
       "10.0        1\n",
       "Name: count, Length: 352, dtype: int64"
      ]
     },
     "execution_count": 99,
     "metadata": {},
     "output_type": "execute_result"
    }
   ],
   "source": [
    "df[\"power\"].value_counts(dropna=False)"
   ]
  },
  {
   "cell_type": "code",
   "execution_count": 100,
   "metadata": {},
   "outputs": [
    {
     "data": {
      "text/plain": [
       "power\n",
       "False    26301\n",
       "True       561\n",
       "Name: count, dtype: int64"
      ]
     },
     "execution_count": 100,
     "metadata": {},
     "output_type": "execute_result"
    }
   ],
   "source": [
    "df.power.isna().value_counts()"
   ]
  },
  {
   "cell_type": "markdown",
   "metadata": {},
   "source": [
    "<a id=\"8\"></a>\n",
    "<div class=\"alert alert-info\" role=\"alert\">\n",
    "<h1>Column name :<span style=\"color:red\"> engine_size </span></h1>\n",
    "</div>"
   ]
  },
  {
   "cell_type": "markdown",
   "metadata": {},
   "source": [
    "gruplama yapılabilir"
   ]
  },
  {
   "cell_type": "code",
   "execution_count": 101,
   "metadata": {},
   "outputs": [
    {
     "data": {
      "text/plain": [
       "0             NaN\n",
       "1            1 cc\n",
       "2        1,991 cc\n",
       "3        1,991 cc\n",
       "4        2,143 cc\n",
       "           ...   \n",
       "29474    1,969 cc\n",
       "29475    2,435 cc\n",
       "29476    1,560 cc\n",
       "29477    1,969 cc\n",
       "29478    2,922 cc\n",
       "Name: engine_size, Length: 26862, dtype: object"
      ]
     },
     "execution_count": 101,
     "metadata": {},
     "output_type": "execute_result"
    }
   ],
   "source": [
    "df[\"engine_size\"] = df[\"engine_size\"].apply(lambda x: x[0].strip(\"\\n\") if type(x)==list else x)\n",
    "df[\"engine_size\"]"
   ]
  },
  {
   "cell_type": "code",
   "execution_count": 102,
   "metadata": {},
   "outputs": [],
   "source": [
    "df[\"engine_size\"] = df.engine_size.str.split().str[0]\n",
    "df[\"engine_size\"] = df.engine_size.str.replace(\",\", \"\").astype(float)"
   ]
  },
  {
   "cell_type": "code",
   "execution_count": 103,
   "metadata": {},
   "outputs": [
    {
     "data": {
      "text/plain": [
       "engine_size\n",
       "1598.0    2097\n",
       "999.0     2061\n",
       "NaN       1355\n",
       "1461.0    1101\n",
       "1969.0    1099\n",
       "          ... \n",
       "2495.0       1\n",
       "200.0        1\n",
       "2935.0       1\n",
       "3224.0       1\n",
       "2473.0       1\n",
       "Name: count, Length: 468, dtype: int64"
      ]
     },
     "execution_count": 103,
     "metadata": {},
     "output_type": "execute_result"
    }
   ],
   "source": [
    "df[\"engine_size\"].value_counts(dropna=False)"
   ]
  },
  {
   "cell_type": "code",
   "execution_count": 104,
   "metadata": {},
   "outputs": [
    {
     "data": {
      "text/plain": [
       "engine_size\n",
       "False    25507\n",
       "True      1355\n",
       "Name: count, dtype: int64"
      ]
     },
     "execution_count": 104,
     "metadata": {},
     "output_type": "execute_result"
    }
   ],
   "source": [
    "df[\"engine_size\"].isna().value_counts()"
   ]
  },
  {
   "cell_type": "markdown",
   "metadata": {},
   "source": [
    "<a id=\"8\"></a>\n",
    "<div class=\"alert alert-info\" role=\"alert\">\n",
    "<h1>Column name :<span style=\"color:red\"> gears </span></h1>\n",
    "</div>"
   ]
  },
  {
   "cell_type": "markdown",
   "metadata": {},
   "source": [
    "marka model ve model code a göre doldurulabilir\n",
    "duruma göre atılabilir ya da gruplandırarak gearbox ile kullanılabilir"
   ]
  },
  {
   "cell_type": "code",
   "execution_count": 105,
   "metadata": {},
   "outputs": [
    {
     "data": {
      "text/plain": [
       "0        NaN\n",
       "1        9.0\n",
       "2        8.0\n",
       "3        7.0\n",
       "4        7.0\n",
       "        ... \n",
       "29474    8.0\n",
       "29475    5.0\n",
       "29476    6.0\n",
       "29477    8.0\n",
       "29478    NaN\n",
       "Name: gears, Length: 26862, dtype: float64"
      ]
     },
     "execution_count": 105,
     "metadata": {},
     "output_type": "execute_result"
    }
   ],
   "source": [
    "df[\"gears\"] = df.gears.apply(lambda x: x[0].strip(\"\\n\") if type(x)==list else x).astype(float)\n",
    "df.gears"
   ]
  },
  {
   "cell_type": "code",
   "execution_count": 106,
   "metadata": {},
   "outputs": [
    {
     "data": {
      "text/plain": [
       "gears\n",
       "NaN     9149\n",
       "6.0     7920\n",
       "5.0     5065\n",
       "7.0     1706\n",
       "8.0     1288\n",
       "1.0      698\n",
       "9.0      637\n",
       "4.0      233\n",
       "10.0     112\n",
       "0.0       30\n",
       "3.0       22\n",
       "2.0        2\n",
       "Name: count, dtype: int64"
      ]
     },
     "execution_count": 106,
     "metadata": {},
     "output_type": "execute_result"
    }
   ],
   "source": [
    "df[\"gears\"].value_counts(dropna=False)"
   ]
  },
  {
   "cell_type": "code",
   "execution_count": 107,
   "metadata": {},
   "outputs": [
    {
     "data": {
      "text/plain": [
       "gears\n",
       "False    17713\n",
       "True      9149\n",
       "Name: count, dtype: int64"
      ]
     },
     "execution_count": 107,
     "metadata": {},
     "output_type": "execute_result"
    }
   ],
   "source": [
    "df[\"gears\"].isna().value_counts()"
   ]
  },
  {
   "cell_type": "markdown",
   "metadata": {},
   "source": [
    "<a id=\"8\"></a>\n",
    "<div class=\"alert alert-info\" role=\"alert\">\n",
    "<h1>Column name :<span style=\"color:red\"> co_emissions </span></h1>\n",
    "</div>"
   ]
  },
  {
   "cell_type": "markdown",
   "metadata": {},
   "source": [
    "* Some of the 0.0s may be NaN !!\n",
    "* CO2 emission seems 0.0 g/km for 1040 rows. Some of them have fuel_type as \"Super 95\", \"Regular/Benzine 91\" etc."
   ]
  },
  {
   "cell_type": "code",
   "execution_count": 108,
   "metadata": {},
   "outputs": [
    {
     "data": {
      "text/plain": [
       "co_emissions\n",
       "NaN                 9461\n",
       "0 g/km (comb.)      1012\n",
       "119 g/km (comb.)     366\n",
       "124 g/km (comb.)     325\n",
       "99 g/km (comb.)      302\n",
       "                    ... \n",
       "400 g/km (comb.)       1\n",
       "343 g/km (comb.)       1\n",
       "13 g/km (comb.)        1\n",
       "73 g/km (comb.)        1\n",
       "53 g/km (comb.)        1\n",
       "Name: count, Length: 348, dtype: int64"
      ]
     },
     "execution_count": 108,
     "metadata": {},
     "output_type": "execute_result"
    }
   ],
   "source": [
    "df['co_emissions'].value_counts(dropna=False)"
   ]
  },
  {
   "cell_type": "code",
   "execution_count": 109,
   "metadata": {},
   "outputs": [],
   "source": [
    "df['co_emissions'] = df['co_emissions'].map(lambda x: x.replace(\" \",\"\"), na_action=\"ignore\")\n",
    "df['co_emissions'] = df['co_emissions'].map(lambda x: x.replace(\"g/km(comb.)\",\"\"), na_action=\"ignore\")\n",
    "# '1,060', '15,168', '1,390', '1,320', '1,410', '9,954', '1,000' and '1,000' -> need to replace \",\" to \"\" in order to convert them to int\n",
    "df['co_emissions'] = df['co_emissions'].map(lambda x: x.replace(\",\",\"\"), na_action=\"ignore\")\n",
    "df['co_emissions'] = df['co_emissions'].map(lambda x: int(x), na_action=\"ignore\")  # turn float64, not int. cause of NaN values."
   ]
  },
  {
   "cell_type": "code",
   "execution_count": 110,
   "metadata": {},
   "outputs": [
    {
     "data": {
      "text/plain": [
       "co_emissions\n",
       "NaN       9461\n",
       "0.0       1014\n",
       "119.0      366\n",
       "124.0      325\n",
       "99.0       302\n",
       "          ... \n",
       "343.0        1\n",
       "73.0         1\n",
       "1410.0       1\n",
       "70.0         1\n",
       "53.0         1\n",
       "Name: count, Length: 334, dtype: int64"
      ]
     },
     "execution_count": 110,
     "metadata": {},
     "output_type": "execute_result"
    }
   ],
   "source": [
    "df['co_emissions'].value_counts(dropna=False)"
   ]
  },
  {
   "cell_type": "code",
   "execution_count": 111,
   "metadata": {},
   "outputs": [
    {
     "data": {
      "text/plain": [
       "co_emissions\n",
       "False    17401\n",
       "True      9461\n",
       "Name: count, dtype: int64"
      ]
     },
     "execution_count": 111,
     "metadata": {},
     "output_type": "execute_result"
    }
   ],
   "source": [
    "df[\"co_emissions\"].isna().value_counts()"
   ]
  },
  {
   "cell_type": "markdown",
   "metadata": {},
   "source": [
    "nasıl gruplanır domain araştırması\n",
    "yaş ve diğer ilgili sütunlara (euro5-6) göre doldurulabilir"
   ]
  },
  {
   "cell_type": "markdown",
   "metadata": {},
   "source": [
    "<a id=\"8\"></a>\n",
    "<div class=\"alert alert-info\" role=\"alert\">\n",
    "<h1>Column name :<span style=\"color:red\"> manufacturer_colour </span></h1>\n",
    "</div>"
   ]
  },
  {
   "cell_type": "markdown",
   "metadata": {},
   "source": [
    "* There are 4950 unique data in it. I don't know how can I clean it. Need time!"
   ]
  },
  {
   "cell_type": "code",
   "execution_count": 112,
   "metadata": {},
   "outputs": [
    {
     "data": {
      "text/plain": [
       "manufacturer_colour\n",
       "NaN                               6481\n",
       "Blanco                            1160\n",
       "Gris                               636\n",
       "Azul                               496\n",
       "Negro                              474\n",
       "                                  ... \n",
       "Rose Gold (metalizado)               1\n",
       "Colore esterno (snowflake whit       1\n",
       "Pompeigraumetallic                   1\n",
       "Cararragrau                          1\n",
       "Denim Blue metallic (blauw met       1\n",
       "Name: count, Length: 4950, dtype: int64"
      ]
     },
     "execution_count": 112,
     "metadata": {},
     "output_type": "execute_result"
    }
   ],
   "source": [
    "df[\"manufacturer_colour\"].value_counts(dropna=False)"
   ]
  },
  {
   "cell_type": "code",
   "execution_count": 113,
   "metadata": {},
   "outputs": [
    {
     "data": {
      "text/plain": [
       "manufacturer_colour\n",
       "False    20381\n",
       "True      6481\n",
       "Name: count, dtype: int64"
      ]
     },
     "execution_count": 113,
     "metadata": {},
     "output_type": "execute_result"
    }
   ],
   "source": [
    "df[\"manufacturer_colour\"].isna().value_counts()"
   ]
  },
  {
   "cell_type": "markdown",
   "metadata": {},
   "source": [
    "<a id=\"8\"></a>\n",
    "<div class=\"alert alert-info\" role=\"alert\">\n",
    "<h1>Column name :<span style=\"color:red\"> drivetrain </span></h1>\n",
    "</div>"
   ]
  },
  {
   "cell_type": "code",
   "execution_count": 114,
   "metadata": {},
   "outputs": [
    {
     "data": {
      "text/plain": [
       "drivetrain\n",
       "[\\n, Front, \\n]    11271\n",
       "NaN                11231\n",
       "[\\n, 4WD, \\n]       2814\n",
       "[\\n, Rear, \\n]      1546\n",
       "Name: count, dtype: int64"
      ]
     },
     "execution_count": 114,
     "metadata": {},
     "output_type": "execute_result"
    }
   ],
   "source": [
    "df[\"drivetrain\"].value_counts(dropna=False)"
   ]
  },
  {
   "cell_type": "code",
   "execution_count": 115,
   "metadata": {},
   "outputs": [],
   "source": [
    "df[\"drivetrain\"] = df[\"drivetrain\"].astype(str).apply( lambda x: np.nan if x==\"nan\" else x[6:-6])"
   ]
  },
  {
   "cell_type": "code",
   "execution_count": 116,
   "metadata": {},
   "outputs": [
    {
     "data": {
      "text/plain": [
       "drivetrain\n",
       "Front    11271\n",
       "NaN      11231\n",
       "4WD       2814\n",
       "Rear      1546\n",
       "Name: count, dtype: int64"
      ]
     },
     "execution_count": 116,
     "metadata": {},
     "output_type": "execute_result"
    }
   ],
   "source": [
    "df[\"drivetrain\"].value_counts(dropna=False)"
   ]
  },
  {
   "cell_type": "code",
   "execution_count": 117,
   "metadata": {},
   "outputs": [
    {
     "data": {
      "text/plain": [
       "drivetrain\n",
       "False    15631\n",
       "True     11231\n",
       "Name: count, dtype: int64"
      ]
     },
     "execution_count": 117,
     "metadata": {},
     "output_type": "execute_result"
    }
   ],
   "source": [
    "df[\"drivetrain\"].isna().value_counts()"
   ]
  },
  {
   "cell_type": "markdown",
   "metadata": {},
   "source": [
    "marka modele göre doldurulabilir"
   ]
  },
  {
   "cell_type": "markdown",
   "metadata": {},
   "source": [
    "<a id=\"8\"></a>\n",
    "<div class=\"alert alert-info\" role=\"alert\">\n",
    "<h1>Column name :<span style=\"color:red\"> cylinders </span></h1>\n",
    "</div>"
   ]
  },
  {
   "cell_type": "markdown",
   "metadata": {},
   "source": [
    "* Some of NaN values can be filled with using 'power' and 'engine_size' features' data !!\n",
    "* These three features could be interrelated."
   ]
  },
  {
   "cell_type": "markdown",
   "metadata": {},
   "source": [
    "silindir sayısı eski ve yeni araçlar arasında karışıklığa neden olabilir\n",
    "çıkartılabilir"
   ]
  },
  {
   "cell_type": "code",
   "execution_count": 118,
   "metadata": {},
   "outputs": [
    {
     "data": {
      "text/plain": [
       "cylinders\n",
       "[\\n4\\n]     12151\n",
       "NaN          9328\n",
       "[\\n3\\n]      3210\n",
       "[\\n6\\n]      1002\n",
       "[\\n8\\n]       538\n",
       "[\\n5\\n]       461\n",
       "[\\n2\\n]       102\n",
       "[\\n0\\n]        33\n",
       "[\\n1\\n]        21\n",
       "[\\n12\\n]        8\n",
       "[\\n7\\n]         6\n",
       "[\\n26\\n]        1\n",
       "[\\n16\\n]        1\n",
       "Name: count, dtype: int64"
      ]
     },
     "execution_count": 118,
     "metadata": {},
     "output_type": "execute_result"
    }
   ],
   "source": [
    "df.cylinders.value_counts(dropna=False)"
   ]
  },
  {
   "cell_type": "code",
   "execution_count": 119,
   "metadata": {},
   "outputs": [],
   "source": [
    "df[\"cylinders\"] = df[\"cylinders\"].astype(str).apply( lambda x: np.nan if x==\"nan\" else x[4:-4]).astype(float)"
   ]
  },
  {
   "cell_type": "code",
   "execution_count": 120,
   "metadata": {},
   "outputs": [
    {
     "data": {
      "text/plain": [
       "cylinders\n",
       "4.0     12151\n",
       "NaN      9328\n",
       "3.0      3210\n",
       "6.0      1002\n",
       "8.0       538\n",
       "5.0       461\n",
       "2.0       102\n",
       "0.0        33\n",
       "1.0        21\n",
       "12.0        8\n",
       "7.0         6\n",
       "26.0        1\n",
       "16.0        1\n",
       "Name: count, dtype: int64"
      ]
     },
     "execution_count": 120,
     "metadata": {},
     "output_type": "execute_result"
    }
   ],
   "source": [
    "df.cylinders.value_counts(dropna=False)"
   ]
  },
  {
   "cell_type": "code",
   "execution_count": 121,
   "metadata": {},
   "outputs": [
    {
     "data": {
      "text/plain": [
       "cylinders\n",
       "False    17534\n",
       "True      9328\n",
       "Name: count, dtype: int64"
      ]
     },
     "execution_count": 121,
     "metadata": {},
     "output_type": "execute_result"
    }
   ],
   "source": [
    "df[\"cylinders\"].isna().value_counts()"
   ]
  },
  {
   "cell_type": "markdown",
   "metadata": {},
   "source": [
    "<a id=\"8\"></a>\n",
    "<div class=\"alert alert-info\" role=\"alert\">\n",
    "<h1>Column name :<span style=\"color:red\"> fuel_consumption </span></h1>\n",
    "</div>"
   ]
  },
  {
   "cell_type": "markdown",
   "metadata": {},
   "source": [
    "city / country ikilemi\n",
    "for döngüsü ile comb city country çekilecek, sonra comb'a eşitlenecek"
   ]
  },
  {
   "cell_type": "code",
   "execution_count": 122,
   "metadata": {},
   "outputs": [
    {
     "data": {
      "text/plain": [
       "fuel_consumption\n",
       "NaN                                                                            5030\n",
       "[[0 l/100 km (comb.)]]                                                          326\n",
       "[[0 l/100 km (comb.)], [0 l/100 km (city)], [0 l/100 km (country)]]             299\n",
       "[[4 l/100 km (comb.)]]                                                          148\n",
       "[[3.9 l/100 km (comb.)]]                                                        133\n",
       "                                                                               ... \n",
       "[[3.3 l/100 km (comb.)], [3.7 l/100 km (city)], [3 l/100 km (country)]]           1\n",
       "[[5.4 l/100 km (country)]]                                                        1\n",
       "[[6.4 l/100 km (comb.)], [6.5 l/100 km (city)], [6.2 l/100 km (country)]]         1\n",
       "[[4.2 l/100 km (comb.)], [4.8 l/100 km (city)], [3.7 l/100 km (country)]]         1\n",
       "[[10.4 l/100 km (comb.)], [15.3 l/100 km (city)], [7.6 l/100 km (country)]]       1\n",
       "Name: count, Length: 3453, dtype: int64"
      ]
     },
     "execution_count": 122,
     "metadata": {},
     "output_type": "execute_result"
    }
   ],
   "source": [
    "df['fuel_consumption'].value_counts(dropna=False)"
   ]
  },
  {
   "cell_type": "code",
   "execution_count": 123,
   "metadata": {},
   "outputs": [],
   "source": [
    "#extract fuel consumption as average-comb\n",
    "df['fuel_consumption'] = df['fuel_consumption'].astype(str)  # Convert to string type\n",
    "df['fuel_consumption'] = df['fuel_consumption'].str.replace(r'[\\[\\]]', '', regex=True)  # Remove square brackets\n",
    "\n",
    "df['fuel_consumption_comb'] = df['fuel_consumption'].str.extract(r'(\\d+\\.\\d+|\\d+) l/100 km \\(comb\\.\\)').astype(float)\n",
    "df['fuel_consumption_city'] = df['fuel_consumption'].str.extract(r'(\\d+\\.\\d+|\\d+) l/100 km \\(city\\)').astype(float)\n",
    "df['fuel_consumption_country'] = df['fuel_consumption'].str.extract(r'(\\d+\\.\\d+|\\d+) l/100 km \\(country\\)').astype(float)"
   ]
  },
  {
   "cell_type": "code",
   "execution_count": 124,
   "metadata": {},
   "outputs": [],
   "source": [
    "df['fuel_consumption_comb'].replace(0, np.nan, inplace=True)\n",
    "df['fuel_consumption_city'].replace(0, np.nan, inplace=True)\n",
    "df['fuel_consumption_country'].replace(0, np.nan, inplace=True)"
   ]
  },
  {
   "cell_type": "code",
   "execution_count": 125,
   "metadata": {},
   "outputs": [
    {
     "data": {
      "text/plain": [
       "fuel_consumption_comb\n",
       "NaN     5829\n",
       "5.0      782\n",
       "4.9      765\n",
       "4.5      625\n",
       "5.1      624\n",
       "        ... \n",
       "16.0       1\n",
       "57.0       1\n",
       "61.0       1\n",
       "14.5       1\n",
       "2.7        1\n",
       "Name: count, Length: 160, dtype: int64"
      ]
     },
     "execution_count": 125,
     "metadata": {},
     "output_type": "execute_result"
    }
   ],
   "source": [
    "df['fuel_consumption_comb'].value_counts(dropna=False)"
   ]
  },
  {
   "cell_type": "code",
   "execution_count": 126,
   "metadata": {},
   "outputs": [
    {
     "data": {
      "text/plain": [
       "fuel_consumption_city\n",
       "NaN     8571\n",
       "5.8      475\n",
       "6.4      456\n",
       "5.7      430\n",
       "5.3      427\n",
       "        ... \n",
       "22.6       1\n",
       "19.7       1\n",
       "46.0       1\n",
       "0.5        1\n",
       "76.1       1\n",
       "Name: count, Length: 193, dtype: int64"
      ]
     },
     "execution_count": 126,
     "metadata": {},
     "output_type": "execute_result"
    }
   ],
   "source": [
    "df['fuel_consumption_city'].value_counts(dropna=False)"
   ]
  },
  {
   "cell_type": "code",
   "execution_count": 127,
   "metadata": {},
   "outputs": [
    {
     "data": {
      "text/plain": [
       "fuel_consumption_country\n",
       "NaN     8555\n",
       "4.3      840\n",
       "4.0      761\n",
       "4.2      712\n",
       "5.0      694\n",
       "        ... \n",
       "11.7       1\n",
       "14.4       1\n",
       "10.1       1\n",
       "11.5       1\n",
       "12.4       1\n",
       "Name: count, Length: 111, dtype: int64"
      ]
     },
     "execution_count": 127,
     "metadata": {},
     "output_type": "execute_result"
    }
   ],
   "source": [
    "df['fuel_consumption_country'].value_counts(dropna=False)"
   ]
  },
  {
   "cell_type": "code",
   "execution_count": 128,
   "metadata": {},
   "outputs": [],
   "source": [
    "df.drop('fuel_consumption', axis=1, inplace=True)"
   ]
  },
  {
   "cell_type": "markdown",
   "metadata": {},
   "source": [
    "<a id=\"8\"></a>\n",
    "<div class=\"alert alert-info\" role=\"alert\">\n",
    "<h1>Column name :<span style=\"color:red\"> comfort_convenience </span></h1>\n",
    "</div>"
   ]
  },
  {
   "cell_type": "code",
   "execution_count": 129,
   "metadata": {},
   "outputs": [],
   "source": [
    "#comfort_convenience sütunu temizlendi\n",
    "df[\"comfort_convenience\"] = df[\"comfort_convenience\"].apply(lambda x : x[0] if type(x) == list else x).str.title()"
   ]
  },
  {
   "cell_type": "code",
   "execution_count": 130,
   "metadata": {},
   "outputs": [
    {
     "data": {
      "text/plain": [
       "comfort_convenience\n",
       "NaN                                                                                                                                                                                                                                                                                                                                                                                                                                                                                                                    3090\n",
       "Air Conditioning, Automatic Climate Control, Cruise Control                                                                                                                                                                                                                                                                                                                                                                                                                                                             166\n",
       "Air Conditioning, Automatic Climate Control, Cruise Control, Electrical Side Mirrors, Multi-Function Steering Wheel, Power Windows                                                                                                                                                                                                                                                                                                                                                                                      166\n",
       "Air Conditioning                                                                                                                                                                                                                                                                                                                                                                                                                                                                                                        152\n",
       "Air Conditioning, Automatic Climate Control, Electrical Side Mirrors, Multi-Function Steering Wheel, Power Windows                                                                                                                                                                                                                                                                                                                                                                                                      150\n",
       "                                                                                                                                                                                                                                                                                                                                                                                                                                                                                                                       ... \n",
       "Armrest, Automatic Climate Control, 2 Zones, Electric Tailgate, Electrical Side Mirrors, Fold Flat Passenger Seat, Hill Holder, Keyless Central Door Lock, Leather Steering Wheel, Light Sensor, Lumbar Support, Multi-Function Steering Wheel, Navigation System, Parking Assist System Camera, Parking Assist System Sensors Front, Parking Assist System Sensors Rear, Power Windows, Rain Sensor, Seat Heating, Split Rear Seats, Start-Stop System, Tinted Windows                                                   1\n",
       "Air Conditioning, Armrest, Automatic Climate Control, Cruise Control, Electrical Side Mirrors, Hill Holder, Leather Steering Wheel, Light Sensor, Multi-Function Steering Wheel, Navigation System, Parking Assist System Self-Steering, Parking Assist System Sensors Front, Parking Assist System Sensors Rear, Power Windows, Rain Sensor, Seat Heating, Split Rear Seats, Sunroof                                                                                                                                     1\n",
       "Air Conditioning, Armrest, Automatic Climate Control, 2 Zones, Cruise Control, Electric Tailgate, Fold Flat Passenger Seat, Hill Holder, Leather Steering Wheel, Light Sensor, Lumbar Support, Multi-Function Steering Wheel, Navigation System, Parking Assist System Camera, Parking Assist System Sensors Front, Parking Assist System Sensors Rear, Power Windows, Rain Sensor, Seat Heating, Start-Stop System                                                                                                       1\n",
       "360° Camera, Air Conditioning, Armrest, Automatic Climate Control, 2 Zones, Cruise Control, Electrically Adjustable Seats, Electrically Heated Windshield, Hill Holder, Keyless Central Door Lock, Leather Steering Wheel, Light Sensor, Lumbar Support, Multi-Function Steering Wheel, Navigation System, Parking Assist System Camera, Parking Assist System Self-Steering, Parking Assist System Sensors Front, Parking Assist System Sensors Rear, Rain Sensor, Seat Heating, Start-Stop System, Tinted Windows       1\n",
       "Air Conditioning, Armrest, Cruise Control, Electrical Side Mirrors, Leather Steering Wheel, Lumbar Support, Multi-Function Steering Wheel, Navigation System, Power Windows, Seat Heating, Tinted Windows                                                                                                                                                                                                                                                                                                                 1\n",
       "Name: count, Length: 14439, dtype: int64"
      ]
     },
     "execution_count": 130,
     "metadata": {},
     "output_type": "execute_result"
    }
   ],
   "source": [
    "df[\"comfort_convenience\"].value_counts(dropna=False)"
   ]
  },
  {
   "cell_type": "code",
   "execution_count": 131,
   "metadata": {},
   "outputs": [],
   "source": [
    "df[\"comfort_convenience_count\"] = df[\"comfort_convenience\"].apply(lambda x: 0 if pd.isna(x) else len(x.split(\",\")))"
   ]
  },
  {
   "cell_type": "code",
   "execution_count": 132,
   "metadata": {},
   "outputs": [
    {
     "data": {
      "text/plain": [
       "comfort_convenience_count\n",
       "0     3090\n",
       "1      568\n",
       "2      730\n",
       "3     1153\n",
       "4     1034\n",
       "5     1265\n",
       "6     1279\n",
       "7     1133\n",
       "8     1030\n",
       "9      837\n",
       "10     955\n",
       "11     912\n",
       "12     908\n",
       "13     869\n",
       "14    1008\n",
       "15    1034\n",
       "16    1004\n",
       "17    1038\n",
       "18    1009\n",
       "19    1005\n",
       "20     964\n",
       "21     820\n",
       "22     766\n",
       "23     659\n",
       "24     585\n",
       "25     375\n",
       "26     310\n",
       "27     176\n",
       "28     132\n",
       "29      99\n",
       "30      59\n",
       "31      33\n",
       "32      12\n",
       "33       9\n",
       "34       2\n",
       "Name: count, dtype: int64"
      ]
     },
     "execution_count": 132,
     "metadata": {},
     "output_type": "execute_result"
    }
   ],
   "source": [
    "df[\"comfort_convenience_count\"].value_counts(dropna=False).sort_index()"
   ]
  },
  {
   "cell_type": "code",
   "execution_count": 133,
   "metadata": {},
   "outputs": [
    {
     "data": {
      "text/plain": [
       "comfort_convenience_count\n",
       "False    26862\n",
       "Name: count, dtype: int64"
      ]
     },
     "execution_count": 133,
     "metadata": {},
     "output_type": "execute_result"
    }
   ],
   "source": [
    "df[\"comfort_convenience_count\"].isna().value_counts()"
   ]
  },
  {
   "cell_type": "markdown",
   "metadata": {},
   "source": [
    "<a id=\"8\"></a>\n",
    "<div class=\"alert alert-info\" role=\"alert\">\n",
    "<h1>Column name :<span style=\"color:red\"> entertainment_media </span></h1>\n",
    "</div>"
   ]
  },
  {
   "cell_type": "code",
   "execution_count": 134,
   "metadata": {},
   "outputs": [],
   "source": [
    "#entertainment_media sütunu temizlendi\n",
    "df[\"entertainment_media\"] = df[\"entertainment_media\"].apply(lambda x : x[0] if type(x) == list else x).str.title()"
   ]
  },
  {
   "cell_type": "code",
   "execution_count": 135,
   "metadata": {},
   "outputs": [
    {
     "data": {
      "text/plain": [
       "entertainment_media\n",
       "Android Auto                                                                                                                                                                                                                                                     3\n",
       "Android Auto, Apple Carplay                                                                                                                                                                                                                                      9\n",
       "Android Auto, Apple Carplay, Bluetooth                                                                                                                                                                                                                           1\n",
       "Android Auto, Apple Carplay, Bluetooth, Cd Player, Digital Cockpit, Digital Radio, Hands-Free Equipment, Induction Charging For Smartphones, Integrated Music Streaming, Mp3, On-Board Computer, Radio, Sound System, Television, Usb                            1\n",
       "Android Auto, Apple Carplay, Bluetooth, Cd Player, Digital Cockpit, Digital Radio, Hands-Free Equipment, Induction Charging For Smartphones, Integrated Music Streaming, Mp3, On-Board Computer, Radio, Sound System, Television, Usb, Wlan / Wifi Hotspot       4\n",
       "                                                                                                                                                                                                                                                              ... \n",
       "Sound System, Usb                                                                                                                                                                                                                                                3\n",
       "Sound System, Wlan / Wifi Hotspot                                                                                                                                                                                                                                3\n",
       "Usb                                                                                                                                                                                                                                                            111\n",
       "Wlan / Wifi Hotspot                                                                                                                                                                                                                                              4\n",
       "NaN                                                                                                                                                                                                                                                           4653\n",
       "Name: count, Length: 1945, dtype: int64"
      ]
     },
     "execution_count": 135,
     "metadata": {},
     "output_type": "execute_result"
    }
   ],
   "source": [
    "df[\"entertainment_media\"].value_counts(dropna=False).sort_index()"
   ]
  },
  {
   "cell_type": "code",
   "execution_count": 136,
   "metadata": {},
   "outputs": [],
   "source": [
    "df[\"entertainment_media\"] = df[\"entertainment_media\"].astype(str)"
   ]
  },
  {
   "cell_type": "code",
   "execution_count": 137,
   "metadata": {},
   "outputs": [],
   "source": [
    "df[\"entertainment_media_count\"] = df[\"entertainment_media\"].apply(lambda x: 0 if x == \"nan\" else len(x.split(\",\")))"
   ]
  },
  {
   "cell_type": "code",
   "execution_count": 138,
   "metadata": {},
   "outputs": [],
   "source": [
    "df[\"entertainment_media\"] = df[\"entertainment_media\"].replace(\"nan\", np.nan)"
   ]
  },
  {
   "cell_type": "code",
   "execution_count": 139,
   "metadata": {},
   "outputs": [
    {
     "data": {
      "text/plain": [
       "entertainment_media_count\n",
       "0     4653\n",
       "1     1955\n",
       "2     2442\n",
       "3     2268\n",
       "4     2097\n",
       "5     1924\n",
       "6     1959\n",
       "7     2024\n",
       "8     1954\n",
       "9     1699\n",
       "10    1492\n",
       "11    1093\n",
       "12     762\n",
       "13     408\n",
       "14     109\n",
       "15      19\n",
       "16       4\n",
       "Name: count, dtype: int64"
      ]
     },
     "execution_count": 139,
     "metadata": {},
     "output_type": "execute_result"
    }
   ],
   "source": [
    "df[\"entertainment_media_count\"].value_counts(dropna=False).sort_index()"
   ]
  },
  {
   "cell_type": "code",
   "execution_count": 140,
   "metadata": {},
   "outputs": [
    {
     "data": {
      "text/plain": [
       "entertainment_media_count\n",
       "False    26862\n",
       "Name: count, dtype: int64"
      ]
     },
     "execution_count": 140,
     "metadata": {},
     "output_type": "execute_result"
    }
   ],
   "source": [
    "df[\"entertainment_media_count\"].isna().value_counts()"
   ]
  },
  {
   "cell_type": "markdown",
   "metadata": {},
   "source": [
    "<a id=\"8\"></a>\n",
    "<div class=\"alert alert-info\" role=\"alert\">\n",
    "<h1>Column name :<span style=\"color:red\"> safety_security </span></h1>\n",
    "</div>"
   ]
  },
  {
   "cell_type": "code",
   "execution_count": 141,
   "metadata": {},
   "outputs": [],
   "source": [
    "#safety_security sütunu temizlendi\n",
    "df[\"safety_security\"] = df[\"safety_security\"].apply(lambda x : x[0] if type(x) == list else x).str.title()"
   ]
  },
  {
   "cell_type": "code",
   "execution_count": 142,
   "metadata": {},
   "outputs": [
    {
     "data": {
      "text/plain": [
       "0                                                      NaN\n",
       "1                                                      NaN\n",
       "2                                                      NaN\n",
       "3        Abs, Central Door Lock, Driver-Side Airbag, El...\n",
       "4        Abs, Central Door Lock, Driver-Side Airbag, El...\n",
       "                               ...                        \n",
       "29474    Abs, Central Door Lock, Driver-Side Airbag, El...\n",
       "29475    Abs, Central Door Lock, Central Door Lock With...\n",
       "29476    Abs, Alarm System, Central Door Lock With Remo...\n",
       "29477    Adaptive Cruise Control, Adaptive Headlights, ...\n",
       "29478    Abs, Alarm System, Central Door Lock, Central ...\n",
       "Name: safety_security, Length: 26862, dtype: object"
      ]
     },
     "execution_count": 142,
     "metadata": {},
     "output_type": "execute_result"
    }
   ],
   "source": [
    "df[\"safety_security\"]"
   ]
  },
  {
   "cell_type": "code",
   "execution_count": 143,
   "metadata": {},
   "outputs": [],
   "source": [
    "df[\"safety_security\"] = df[\"safety_security\"].astype(str)"
   ]
  },
  {
   "cell_type": "code",
   "execution_count": 144,
   "metadata": {},
   "outputs": [],
   "source": [
    "df[\"safety_security_count\"] = df[\"safety_security\"].apply(lambda x: 0 if x == \"nan\" else len(x.split(\",\")))"
   ]
  },
  {
   "cell_type": "code",
   "execution_count": 145,
   "metadata": {},
   "outputs": [],
   "source": [
    "df[\"safety_security\"] = df[\"safety_security\"].replace(\"nan\", np.nan)"
   ]
  },
  {
   "cell_type": "code",
   "execution_count": 146,
   "metadata": {},
   "outputs": [
    {
     "data": {
      "text/plain": [
       "safety_security_count\n",
       "0     3094\n",
       "1      618\n",
       "2      244\n",
       "3      384\n",
       "4      448\n",
       "5      414\n",
       "6      827\n",
       "7     1109\n",
       "8     1315\n",
       "9     1427\n",
       "10    1234\n",
       "11    1193\n",
       "12    1144\n",
       "13    1204\n",
       "14    1173\n",
       "15    1094\n",
       "16    1059\n",
       "17     893\n",
       "18     930\n",
       "19     879\n",
       "20     771\n",
       "21     823\n",
       "22     843\n",
       "23     767\n",
       "24     751\n",
       "25     676\n",
       "26     611\n",
       "27     332\n",
       "28     227\n",
       "29     132\n",
       "30     135\n",
       "31      54\n",
       "32      27\n",
       "33      12\n",
       "34      16\n",
       "35       1\n",
       "36       1\n",
       "Name: count, dtype: int64"
      ]
     },
     "execution_count": 146,
     "metadata": {},
     "output_type": "execute_result"
    }
   ],
   "source": [
    "df[\"safety_security_count\"].value_counts(dropna=False).sort_index()"
   ]
  },
  {
   "cell_type": "code",
   "execution_count": 147,
   "metadata": {},
   "outputs": [
    {
     "data": {
      "text/plain": [
       "safety_security_count\n",
       "False    26862\n",
       "Name: count, dtype: int64"
      ]
     },
     "execution_count": 147,
     "metadata": {},
     "output_type": "execute_result"
    }
   ],
   "source": [
    "df[\"safety_security_count\"].isna().value_counts()"
   ]
  },
  {
   "cell_type": "markdown",
   "metadata": {},
   "source": [
    "<a id=\"8\"></a>\n",
    "<div class=\"alert alert-info\" role=\"alert\">\n",
    "<h1>Column name :<span style=\"color:red\"> extras </span></h1>\n",
    "</div>"
   ]
  },
  {
   "cell_type": "markdown",
   "metadata": {},
   "source": [
    "* 26 tane ekstra ozellik var. Bunlara gore full paket vs gibi bi gruplama yapilabilir diye konustuk."
   ]
  },
  {
   "cell_type": "code",
   "execution_count": 148,
   "metadata": {},
   "outputs": [],
   "source": [
    "df['extras'] = df['extras'].astype(str).apply(lambda x: np.nan if x==\"nan\" else x[2:-2])"
   ]
  },
  {
   "cell_type": "code",
   "execution_count": 149,
   "metadata": {},
   "outputs": [],
   "source": [
    "df['extras'] = df['extras'].astype(str)"
   ]
  },
  {
   "cell_type": "code",
   "execution_count": 150,
   "metadata": {},
   "outputs": [],
   "source": [
    "df[\"extras_count\"] = df.extras.apply(lambda x: 0 if x == \"nan\" else len(x.split(',')))"
   ]
  },
  {
   "cell_type": "code",
   "execution_count": 151,
   "metadata": {},
   "outputs": [],
   "source": [
    "df['extras'] = df['extras'].replace(\"nan\", np.nan)"
   ]
  },
  {
   "cell_type": "code",
   "execution_count": 152,
   "metadata": {},
   "outputs": [
    {
     "data": {
      "text/plain": [
       "extras_count\n",
       "0     4958\n",
       "1     4473\n",
       "2     2915\n",
       "3     2628\n",
       "4     2145\n",
       "5     1898\n",
       "6     1500\n",
       "7     1405\n",
       "8     1084\n",
       "9      965\n",
       "10     831\n",
       "11     614\n",
       "12     524\n",
       "13     336\n",
       "14     238\n",
       "15     168\n",
       "16      95\n",
       "17      49\n",
       "18      23\n",
       "19      10\n",
       "20       2\n",
       "26       1\n",
       "Name: count, dtype: int64"
      ]
     },
     "execution_count": 152,
     "metadata": {},
     "output_type": "execute_result"
    }
   ],
   "source": [
    "df[\"extras_count\"].value_counts(dropna=False).sort_index()"
   ]
  },
  {
   "cell_type": "code",
   "execution_count": 153,
   "metadata": {},
   "outputs": [
    {
     "data": {
      "text/plain": [
       "extras_count\n",
       "False    26862\n",
       "Name: count, dtype: int64"
      ]
     },
     "execution_count": 153,
     "metadata": {},
     "output_type": "execute_result"
    }
   ],
   "source": [
    "df[\"extras_count\"].isna().value_counts()"
   ]
  },
  {
   "cell_type": "markdown",
   "metadata": {},
   "source": [
    "<a id=\"8\"></a>\n",
    "<div class=\"alert alert-info\" role=\"alert\">\n",
    "<h1>Column name :<span style=\"color:red\"> empty_weight </span></h1>\n",
    "</div>"
   ]
  },
  {
   "cell_type": "code",
   "execution_count": 154,
   "metadata": {},
   "outputs": [],
   "source": [
    "df['empty_weight'] = df['empty_weight'].astype(str).apply(lambda x: np.nan if x==\"nan\" else x.replace(',','')[4:-7])"
   ]
  },
  {
   "cell_type": "code",
   "execution_count": 155,
   "metadata": {},
   "outputs": [
    {
     "data": {
      "text/plain": [
       "empty_weight\n",
       "NaN     10367\n",
       "1395      233\n",
       "1055      224\n",
       "1165      197\n",
       "1320      191\n",
       "        ...  \n",
       "2288        1\n",
       "2306        1\n",
       "889         1\n",
       "1712        1\n",
       "1391        1\n",
       "Name: count, Length: 1219, dtype: int64"
      ]
     },
     "execution_count": 155,
     "metadata": {},
     "output_type": "execute_result"
    }
   ],
   "source": [
    "df['empty_weight'].value_counts(dropna=False)"
   ]
  },
  {
   "cell_type": "code",
   "execution_count": 156,
   "metadata": {},
   "outputs": [],
   "source": [
    "df.drop('empty_weight', axis=1, inplace=True)"
   ]
  },
  {
   "cell_type": "markdown",
   "metadata": {},
   "source": [
    "<a id=\"8\"></a>\n",
    "<div class=\"alert alert-info\" role=\"alert\">\n",
    "<h1>Column name :<span style=\"color:red\"> model_code </span></h1>\n",
    "</div>\n"
   ]
  },
  {
   "cell_type": "code",
   "execution_count": 157,
   "metadata": {},
   "outputs": [],
   "source": [
    "df[\"model_code\"] = df[\"model_code\"].astype(str).apply(lambda x: np.nan if x==\"nan\" else x[6:-6])"
   ]
  },
  {
   "cell_type": "code",
   "execution_count": 158,
   "metadata": {},
   "outputs": [
    {
     "data": {
      "text/plain": [
       "model_code\n",
       "NaN         18935\n",
       "8212/AFJ       75\n",
       "1727/AAM       63\n",
       "1349/AGI       61\n",
       "1889/ABU       54\n",
       "            ...  \n",
       "4136/BCB        1\n",
       "1004/ADT        1\n",
       "1727/AJU        1\n",
       "4001/108        1\n",
       "9101/449        1\n",
       "Name: count, Length: 2187, dtype: int64"
      ]
     },
     "execution_count": 158,
     "metadata": {},
     "output_type": "execute_result"
    }
   ],
   "source": [
    "df[\"model_code\"].value_counts(dropna=False)"
   ]
  },
  {
   "cell_type": "code",
   "execution_count": 159,
   "metadata": {},
   "outputs": [
    {
     "data": {
      "text/plain": [
       "model_code\n",
       "True     18935\n",
       "False     7927\n",
       "Name: count, dtype: int64"
      ]
     },
     "execution_count": 159,
     "metadata": {},
     "output_type": "execute_result"
    }
   ],
   "source": [
    "df[\"model_code\"].isna().value_counts()"
   ]
  },
  {
   "cell_type": "code",
   "execution_count": 160,
   "metadata": {},
   "outputs": [],
   "source": [
    "df.drop('model_code', axis=1, inplace=True)"
   ]
  },
  {
   "cell_type": "markdown",
   "metadata": {},
   "source": [
    "<a id=\"8\"></a>\n",
    "<div class=\"alert alert-info\" role=\"alert\">\n",
    "<h1>Column name :<span style=\"color:red\"> general_inspection </span></h1>\n",
    "</div>\n"
   ]
  },
  {
   "cell_type": "code",
   "execution_count": 161,
   "metadata": {},
   "outputs": [
    {
     "data": {
      "text/plain": [
       "general_inspection\n",
       "NaN        15383\n",
       "New         5568\n",
       "05/2023      255\n",
       "08/2023      255\n",
       "06/2023      246\n",
       "           ...  \n",
       "09/2017        1\n",
       "09/2020        1\n",
       "08/2018        1\n",
       "08/2020        1\n",
       "03/2021        1\n",
       "Name: count, Length: 92, dtype: int64"
      ]
     },
     "execution_count": 161,
     "metadata": {},
     "output_type": "execute_result"
    }
   ],
   "source": [
    "df.general_inspection.value_counts(dropna=False)  # ??"
   ]
  },
  {
   "cell_type": "code",
   "execution_count": 162,
   "metadata": {},
   "outputs": [
    {
     "data": {
      "text/plain": [
       "general_inspection\n",
       "True     15383\n",
       "False    11479\n",
       "Name: count, dtype: int64"
      ]
     },
     "execution_count": 162,
     "metadata": {},
     "output_type": "execute_result"
    }
   ],
   "source": [
    "df[\"general_inspection\"].isna().value_counts()"
   ]
  },
  {
   "cell_type": "code",
   "execution_count": 163,
   "metadata": {},
   "outputs": [],
   "source": [
    "df.drop('general_inspection', axis=1, inplace=True)"
   ]
  },
  {
   "cell_type": "markdown",
   "metadata": {},
   "source": [
    "<a id=\"8\"></a>\n",
    "<div class=\"alert alert-info\" role=\"alert\">\n",
    "<h1>Column name :<span style=\"color:red\"> full_service_history </span></h1>\n",
    "</div>"
   ]
  },
  {
   "cell_type": "code",
   "execution_count": 164,
   "metadata": {},
   "outputs": [
    {
     "data": {
      "text/plain": [
       "full_service_history\n",
       "NaN    15133\n",
       "Yes    11729\n",
       "Name: count, dtype: int64"
      ]
     },
     "execution_count": 164,
     "metadata": {},
     "output_type": "execute_result"
    }
   ],
   "source": [
    "df[\"full_service_history\"].value_counts(dropna=False)"
   ]
  },
  {
   "cell_type": "code",
   "execution_count": 165,
   "metadata": {},
   "outputs": [],
   "source": [
    "df[\"full_service_history\"] = df[\"full_service_history\"].fillna('No')"
   ]
  },
  {
   "cell_type": "code",
   "execution_count": 166,
   "metadata": {},
   "outputs": [
    {
     "data": {
      "text/plain": [
       "full_service_history\n",
       "No     15133\n",
       "Yes    11729\n",
       "Name: count, dtype: int64"
      ]
     },
     "execution_count": 166,
     "metadata": {},
     "output_type": "execute_result"
    }
   ],
   "source": [
    "df[\"full_service_history\"].value_counts(dropna=False)"
   ]
  },
  {
   "cell_type": "markdown",
   "metadata": {},
   "source": [
    "<a id=\"8\"></a>\n",
    "<div class=\"alert alert-info\" role=\"alert\">\n",
    "<h1>Column name :<span style=\"color:red\"> non_smoker_vehicle </span></h1>\n",
    "</div>"
   ]
  },
  {
   "cell_type": "code",
   "execution_count": 167,
   "metadata": {},
   "outputs": [
    {
     "data": {
      "text/plain": [
       "non_smoker_vehicle\n",
       "NaN    15943\n",
       "Yes    10919\n",
       "Name: count, dtype: int64"
      ]
     },
     "execution_count": 167,
     "metadata": {},
     "output_type": "execute_result"
    }
   ],
   "source": [
    "df[\"non_smoker_vehicle\"].value_counts(dropna = False)"
   ]
  },
  {
   "cell_type": "code",
   "execution_count": 168,
   "metadata": {},
   "outputs": [],
   "source": [
    "df[\"non_smoker_vehicle\"] = df[\"non_smoker_vehicle\"].fillna('No')"
   ]
  },
  {
   "cell_type": "code",
   "execution_count": 169,
   "metadata": {},
   "outputs": [
    {
     "data": {
      "text/plain": [
       "non_smoker_vehicle\n",
       "No     15943\n",
       "Yes    10919\n",
       "Name: count, dtype: int64"
      ]
     },
     "execution_count": 169,
     "metadata": {},
     "output_type": "execute_result"
    }
   ],
   "source": [
    "df[\"non_smoker_vehicle\"].value_counts(dropna = False)"
   ]
  },
  {
   "cell_type": "markdown",
   "metadata": {},
   "source": [
    "<a id=\"8\"></a>\n",
    "<div class=\"alert alert-info\" role=\"alert\">\n",
    "<h1>Column name :<span style=\"color:red\"> emission_class </span></h1>\n",
    "</div>"
   ]
  },
  {
   "cell_type": "markdown",
   "metadata": {},
   "source": [
    "yaş ve ilgili featurlara göre doldurulcak"
   ]
  },
  {
   "cell_type": "code",
   "execution_count": 170,
   "metadata": {},
   "outputs": [],
   "source": [
    "df[\"emission_class\"].replace({\"Euro 6d\":\"Euro 6\", \"Euro 6c\":\"Euro 6\", \"Euro 6TEMP\":\"Euro 6\"}, inplace=True)"
   ]
  },
  {
   "cell_type": "code",
   "execution_count": 171,
   "metadata": {},
   "outputs": [
    {
     "data": {
      "text/plain": [
       "emission_class\n",
       "Euro 6    12144\n",
       "NaN       10132\n",
       "Euro 5     2263\n",
       "Euro 4     1517\n",
       "Euro 3      449\n",
       "Euro 2      197\n",
       "Euro 1      160\n",
       "Name: count, dtype: int64"
      ]
     },
     "execution_count": 171,
     "metadata": {},
     "output_type": "execute_result"
    }
   ],
   "source": [
    "df[\"emission_class\"].value_counts(dropna = False)"
   ]
  },
  {
   "cell_type": "code",
   "execution_count": 172,
   "metadata": {},
   "outputs": [
    {
     "data": {
      "text/plain": [
       "emission_class\n",
       "False    16730\n",
       "True     10132\n",
       "Name: count, dtype: int64"
      ]
     },
     "execution_count": 172,
     "metadata": {},
     "output_type": "execute_result"
    }
   ],
   "source": [
    "df[\"emission_class\"].isna().value_counts()"
   ]
  },
  {
   "cell_type": "markdown",
   "metadata": {},
   "source": [
    "<a id=\"8\"></a>\n",
    "<div class=\"alert alert-info\" role=\"alert\">\n",
    "<h1>Column name :<span style=\"color:red\"> emissions_sticker </span></h1>\n",
    "</div>"
   ]
  },
  {
   "cell_type": "code",
   "execution_count": 173,
   "metadata": {},
   "outputs": [
    {
     "data": {
      "text/plain": [
       "emissions_sticker\n",
       "NaN               17871\n",
       "4 (Green)          8810\n",
       "1 (No sticker)      173\n",
       "3 (Yellow)            6\n",
       "2 (Red)               2\n",
       "Name: count, dtype: int64"
      ]
     },
     "execution_count": 173,
     "metadata": {},
     "output_type": "execute_result"
    }
   ],
   "source": [
    "df[\"emissions_sticker\"].value_counts(dropna = False)"
   ]
  },
  {
   "cell_type": "code",
   "execution_count": 174,
   "metadata": {},
   "outputs": [],
   "source": [
    "df[\"emissions_sticker\"] = df[\"emissions_sticker\"].str.strip(\"1234 \").str.strip(\"()\")"
   ]
  },
  {
   "cell_type": "code",
   "execution_count": 175,
   "metadata": {},
   "outputs": [
    {
     "data": {
      "text/plain": [
       "emissions_sticker\n",
       "NaN           17871\n",
       "Green          8810\n",
       "No sticker      173\n",
       "Yellow            6\n",
       "Red               2\n",
       "Name: count, dtype: int64"
      ]
     },
     "execution_count": 175,
     "metadata": {},
     "output_type": "execute_result"
    }
   ],
   "source": [
    "df[\"emissions_sticker\"].value_counts(dropna = False)"
   ]
  },
  {
   "cell_type": "code",
   "execution_count": 176,
   "metadata": {},
   "outputs": [
    {
     "data": {
      "text/plain": [
       "emissions_sticker\n",
       "True     17871\n",
       "False     8991\n",
       "Name: count, dtype: int64"
      ]
     },
     "execution_count": 176,
     "metadata": {},
     "output_type": "execute_result"
    }
   ],
   "source": [
    "df[\"emissions_sticker\"].isna().value_counts()"
   ]
  },
  {
   "cell_type": "markdown",
   "metadata": {},
   "source": [
    "<a id=\"8\"></a>\n",
    "<div class=\"alert alert-info\" role=\"alert\">\n",
    "<h1>Column name :<span style=\"color:red\"> upholstery_colour </span></h1>\n",
    "</div>"
   ]
  },
  {
   "cell_type": "code",
   "execution_count": 177,
   "metadata": {},
   "outputs": [
    {
     "data": {
      "text/plain": [
       "upholstery_colour\n",
       "NaN       13167\n",
       "Black      9874\n",
       "Grey       1914\n",
       "Other       934\n",
       "Beige       381\n",
       "Brown       245\n",
       "Red         152\n",
       "White        81\n",
       "Blue         79\n",
       "Orange       21\n",
       "Green         8\n",
       "Yellow        6\n",
       "Name: count, dtype: int64"
      ]
     },
     "execution_count": 177,
     "metadata": {},
     "output_type": "execute_result"
    }
   ],
   "source": [
    "df[\"upholstery_colour\"].value_counts(dropna = False)"
   ]
  },
  {
   "cell_type": "code",
   "execution_count": 178,
   "metadata": {},
   "outputs": [
    {
     "data": {
      "text/plain": [
       "upholstery_colour\n",
       "False    13695\n",
       "True     13167\n",
       "Name: count, dtype: int64"
      ]
     },
     "execution_count": 178,
     "metadata": {},
     "output_type": "execute_result"
    }
   ],
   "source": [
    "df[\"upholstery_colour\"].isna().value_counts()"
   ]
  },
  {
   "cell_type": "markdown",
   "metadata": {},
   "source": [
    "<a id=\"8\"></a>\n",
    "<div class=\"alert alert-info\" role=\"alert\">\n",
    "<h1>Column name :<span style=\"color:red\"> upholstery </span></h1>\n",
    "</div>"
   ]
  },
  {
   "cell_type": "markdown",
   "metadata": {},
   "source": [
    "leather lar birleşecek"
   ]
  },
  {
   "cell_type": "code",
   "execution_count": 179,
   "metadata": {},
   "outputs": [
    {
     "data": {
      "text/plain": [
       "upholstery\n",
       "NaN             9460\n",
       "Cloth           8500\n",
       "Full leather    4741\n",
       "Part leather    2610\n",
       "alcantara        730\n",
       "Other            617\n",
       "Velour           204\n",
       "Name: count, dtype: int64"
      ]
     },
     "execution_count": 179,
     "metadata": {},
     "output_type": "execute_result"
    }
   ],
   "source": [
    "df[\"upholstery\"].value_counts(dropna = False)"
   ]
  },
  {
   "cell_type": "code",
   "execution_count": 180,
   "metadata": {},
   "outputs": [],
   "source": [
    "leather = [\"Full leather\",\"Part leather\"]\n",
    "cloth =[\"Cloth\",\"alcantara\",\"Velour\"]\n",
    "def fueltype(x):\n",
    "    if x in leather:\n",
    "        return \"Leather\"\n",
    "    elif x in cloth:\n",
    "        return \"Cloth\"\n",
    "    else:\n",
    "        return x\n",
    "df[\"upholstery\"] = df[\"upholstery\"].apply(fueltype)"
   ]
  },
  {
   "cell_type": "code",
   "execution_count": 181,
   "metadata": {},
   "outputs": [
    {
     "data": {
      "text/plain": [
       "upholstery\n",
       "NaN        9460\n",
       "Cloth      9434\n",
       "Leather    7351\n",
       "Other       617\n",
       "Name: count, dtype: int64"
      ]
     },
     "execution_count": 181,
     "metadata": {},
     "output_type": "execute_result"
    }
   ],
   "source": [
    "df[\"upholstery\"].value_counts(dropna=False)"
   ]
  },
  {
   "cell_type": "code",
   "execution_count": 182,
   "metadata": {},
   "outputs": [
    {
     "data": {
      "text/plain": [
       "upholstery\n",
       "False    17402\n",
       "True      9460\n",
       "Name: count, dtype: int64"
      ]
     },
     "execution_count": 182,
     "metadata": {},
     "output_type": "execute_result"
    }
   ],
   "source": [
    "df[\"upholstery\"].isna().value_counts()"
   ]
  },
  {
   "cell_type": "markdown",
   "metadata": {},
   "source": [
    "<a id=\"8\"></a>\n",
    "<div class=\"alert alert-info\" role=\"alert\">\n",
    "<h1>Column name :<span style=\"color:red\"> production_date </span></h1>\n",
    "</div>"
   ]
  },
  {
   "cell_type": "code",
   "execution_count": 183,
   "metadata": {},
   "outputs": [
    {
     "data": {
      "text/plain": [
       "production_date\n",
       "NaN       21321\n",
       "2019.0     1075\n",
       "2021.0      916\n",
       "2022.0      875\n",
       "2020.0      711\n",
       "2018.0      701\n",
       "2017.0      370\n",
       "2016.0      230\n",
       "2015.0      114\n",
       "2014.0       89\n",
       "2013.0       73\n",
       "2010.0       48\n",
       "2012.0       41\n",
       "2011.0       41\n",
       "2008.0       26\n",
       "2009.0       24\n",
       "2007.0       17\n",
       "2006.0       15\n",
       "2002.0       14\n",
       "2004.0       13\n",
       "2003.0       13\n",
       "1967.0       12\n",
       "2001.0       12\n",
       "1966.0       11\n",
       "2005.0        9\n",
       "1965.0        9\n",
       "1999.0        8\n",
       "1994.0        8\n",
       "1970.0        8\n",
       "1997.0        7\n",
       "1968.0        7\n",
       "2000.0        7\n",
       "1998.0        5\n",
       "1990.0        3\n",
       "1973.0        3\n",
       "1987.0        3\n",
       "1993.0        3\n",
       "1996.0        3\n",
       "1995.0        2\n",
       "1969.0        2\n",
       "1978.0        2\n",
       "1982.0        2\n",
       "1991.0        2\n",
       "1961.0        1\n",
       "1954.0        1\n",
       "1988.0        1\n",
       "1962.0        1\n",
       "1981.0        1\n",
       "1985.0        1\n",
       "1976.0        1\n",
       "Name: count, dtype: int64"
      ]
     },
     "execution_count": 183,
     "metadata": {},
     "output_type": "execute_result"
    }
   ],
   "source": [
    "df[\"production_date\"].value_counts(dropna = False)"
   ]
  },
  {
   "cell_type": "code",
   "execution_count": 184,
   "metadata": {},
   "outputs": [
    {
     "data": {
      "text/plain": [
       "production_date\n",
       "True     21321\n",
       "False     5541\n",
       "Name: count, dtype: int64"
      ]
     },
     "execution_count": 184,
     "metadata": {},
     "output_type": "execute_result"
    }
   ],
   "source": [
    "df[\"production_date\"].isna().value_counts()"
   ]
  },
  {
   "cell_type": "code",
   "execution_count": 185,
   "metadata": {},
   "outputs": [],
   "source": [
    "#df.drop(['production_date'], axis=1, inplace=True)"
   ]
  },
  {
   "cell_type": "markdown",
   "metadata": {},
   "source": [
    "<a id=\"8\"></a>\n",
    "<div class=\"alert alert-info\" role=\"alert\">\n",
    "<h1>Column name :<span style=\"color:red\"> previous_owner </span></h1>\n",
    "</div>"
   ]
  },
  {
   "cell_type": "markdown",
   "metadata": {},
   "source": [
    "* daha once araci kac kisi kullanmis onu ayiklayalim dedik"
   ]
  },
  {
   "cell_type": "code",
   "execution_count": 186,
   "metadata": {},
   "outputs": [],
   "source": [
    "df['previous_owner']=df['previous_owner'].str[1].astype('float')"
   ]
  },
  {
   "cell_type": "code",
   "execution_count": 187,
   "metadata": {},
   "outputs": [
    {
     "data": {
      "text/plain": [
       "previous_owner\n",
       "NaN     13753\n",
       "1.0      9153\n",
       "2.0      3009\n",
       "3.0       641\n",
       "4.0       166\n",
       "5.0        62\n",
       "6.0        28\n",
       "7.0        20\n",
       "8.0        14\n",
       "9.0        10\n",
       "10.0        2\n",
       "12.0        2\n",
       "14.0        1\n",
       "13.0        1\n",
       "Name: count, dtype: int64"
      ]
     },
     "execution_count": 187,
     "metadata": {},
     "output_type": "execute_result"
    }
   ],
   "source": [
    "df['previous_owner'].value_counts(dropna=False)"
   ]
  },
  {
   "cell_type": "code",
   "execution_count": 188,
   "metadata": {},
   "outputs": [
    {
     "data": {
      "text/plain": [
       "previous_owner\n",
       "True     13753\n",
       "False    13109\n",
       "Name: count, dtype: int64"
      ]
     },
     "execution_count": 188,
     "metadata": {},
     "output_type": "execute_result"
    }
   ],
   "source": [
    "df[\"previous_owner\"].isna().value_counts()"
   ]
  },
  {
   "cell_type": "markdown",
   "metadata": {},
   "source": [
    "<a id=\"8\"></a>\n",
    "<div class=\"alert alert-info\" role=\"alert\">\n",
    "<h1>Column name :<span style=\"color:red\"> energy_efficiency_class </span></h1>\n",
    "</div>\n"
   ]
  },
  {
   "cell_type": "code",
   "execution_count": 189,
   "metadata": {
    "scrolled": true
   },
   "outputs": [
    {
     "data": {
      "text/plain": [
       "energy_efficiency_class\n",
       "NaN     19525\n",
       "B        2025\n",
       "A        1535\n",
       "C        1075\n",
       "A+        952\n",
       "D         630\n",
       "A+++      340\n",
       "G         307\n",
       "E         268\n",
       "F         141\n",
       "A++        64\n",
       "Name: count, dtype: int64"
      ]
     },
     "execution_count": 189,
     "metadata": {},
     "output_type": "execute_result"
    }
   ],
   "source": [
    "df[\"energy_efficiency_class\"].value_counts(dropna=False)"
   ]
  },
  {
   "cell_type": "code",
   "execution_count": 190,
   "metadata": {},
   "outputs": [
    {
     "data": {
      "text/plain": [
       "energy_efficiency_class\n",
       "True     19525\n",
       "False     7337\n",
       "Name: count, dtype: int64"
      ]
     },
     "execution_count": 190,
     "metadata": {},
     "output_type": "execute_result"
    }
   ],
   "source": [
    "df[\"energy_efficiency_class\"].isna().value_counts()"
   ]
  },
  {
   "cell_type": "markdown",
   "metadata": {},
   "source": [
    "efficient - non efficient\n",
    "marka model"
   ]
  },
  {
   "cell_type": "markdown",
   "metadata": {},
   "source": [
    "<a id=\"8\"></a>\n",
    "<div class=\"alert alert-info\" role=\"alert\">\n",
    "<h1>Column name :<span style=\"color:red\"> co_efficiency </span></h1>\n",
    "</div>\n"
   ]
  },
  {
   "cell_type": "code",
   "execution_count": 191,
   "metadata": {},
   "outputs": [
    {
     "data": {
      "text/plain": [
       "co_efficiency\n",
       "NaN                                                                                         19525\n",
       "Calculated on basis of measured COemissions taking into account the mass of the vehicle.     7337\n",
       "Name: count, dtype: int64"
      ]
     },
     "execution_count": 191,
     "metadata": {},
     "output_type": "execute_result"
    }
   ],
   "source": [
    "df[\"co_efficiency\"].value_counts(dropna=False)"
   ]
  },
  {
   "cell_type": "code",
   "execution_count": 192,
   "metadata": {},
   "outputs": [],
   "source": [
    "df.drop(\"co_efficiency\", axis=1, inplace=True)"
   ]
  },
  {
   "cell_type": "markdown",
   "metadata": {},
   "source": [
    "<a id=\"8\"></a>\n",
    "<div class=\"alert alert-info\" role=\"alert\">\n",
    "<h1>New Column :<span style=\"color:red\"> short_desc_translated </span></h1>\n",
    "</div>\n"
   ]
  },
  {
   "cell_type": "code",
   "execution_count": 1,
   "metadata": {},
   "outputs": [],
   "source": [
    "# warning! it takes time!\n",
    "# pip install deep-translator\n",
    "# from deep_translator import GoogleTranslator\n",
    "# df[\"short_desc_translated\"] = \"a\"\n",
    "# for i in range(len(df)):\n",
    "#    translated = GoogleTranslator(source='auto', target='english').translate(df[\"short_description\"][i])\n",
    "#    df[\"short_desc_translated\"][i] = translated"
   ]
  },
  {
   "cell_type": "code",
   "execution_count": 193,
   "metadata": {},
   "outputs": [],
   "source": [
    "df2 = pd.read_csv('short_desc_translated.csv')"
   ]
  },
  {
   "cell_type": "code",
   "execution_count": 194,
   "metadata": {},
   "outputs": [
    {
     "data": {
      "text/plain": [
       "(26862, 3)"
      ]
     },
     "execution_count": 194,
     "metadata": {},
     "output_type": "execute_result"
    }
   ],
   "source": [
    "df2.shape"
   ]
  },
  {
   "cell_type": "code",
   "execution_count": 195,
   "metadata": {},
   "outputs": [
    {
     "data": {
      "text/plain": [
       "(26862, 46)"
      ]
     },
     "execution_count": 195,
     "metadata": {},
     "output_type": "execute_result"
    }
   ],
   "source": [
    "df.shape"
   ]
  },
  {
   "cell_type": "code",
   "execution_count": 196,
   "metadata": {},
   "outputs": [],
   "source": [
    "df.reset_index(drop=True, inplace=True)"
   ]
  },
  {
   "cell_type": "code",
   "execution_count": 197,
   "metadata": {},
   "outputs": [],
   "source": [
    "df2.reset_index(drop=True, inplace=True)"
   ]
  },
  {
   "cell_type": "code",
   "execution_count": 198,
   "metadata": {},
   "outputs": [],
   "source": [
    "df = df.join(df2, how='left', rsuffix='right')"
   ]
  },
  {
   "cell_type": "code",
   "execution_count": 199,
   "metadata": {},
   "outputs": [
    {
     "data": {
      "text/plain": [
       "(26862, 49)"
      ]
     },
     "execution_count": 199,
     "metadata": {},
     "output_type": "execute_result"
    }
   ],
   "source": [
    "df.shape"
   ]
  },
  {
   "cell_type": "code",
   "execution_count": 200,
   "metadata": {},
   "outputs": [
    {
     "data": {
      "text/plain": [
       "Index(['make_model', 'short_description', 'make', 'location', 'price',\n",
       "       'body_type', 'type', 'doors', 'country_version', 'warranty', 'mileage',\n",
       "       'gearbox', 'fuel_type', 'colour', 'paint', 'desc', 'seller', 'seats',\n",
       "       'power', 'engine_size', 'gears', 'co_emissions', 'manufacturer_colour',\n",
       "       'drivetrain', 'cylinders', 'comfort_convenience', 'entertainment_media',\n",
       "       'safety_security', 'extras', 'full_service_history',\n",
       "       'non_smoker_vehicle', 'emission_class', 'emissions_sticker',\n",
       "       'upholstery_colour', 'upholstery', 'production_date', 'previous_owner',\n",
       "       'energy_efficiency_class', 'age', 'fuel_consumption_comb',\n",
       "       'fuel_consumption_city', 'fuel_consumption_country',\n",
       "       'comfort_convenience_count', 'entertainment_media_count',\n",
       "       'safety_security_count', 'extras_count', 'Unnamed: 0',\n",
       "       'short_desc_translated', 'short_descriptionright'],\n",
       "      dtype='object')"
      ]
     },
     "execution_count": 200,
     "metadata": {},
     "output_type": "execute_result"
    }
   ],
   "source": [
    "df.columns"
   ]
  },
  {
   "cell_type": "code",
   "execution_count": 201,
   "metadata": {},
   "outputs": [],
   "source": [
    "#Join ederken df2 den gelen fazladan iki sütunu sildik\n",
    "df.drop(['Unnamed: 0', 'short_descriptionright'], axis=1, inplace=True)"
   ]
  },
  {
   "cell_type": "code",
   "execution_count": 202,
   "metadata": {},
   "outputs": [
    {
     "data": {
      "text/plain": [
       "(26862, 47)"
      ]
     },
     "execution_count": 202,
     "metadata": {},
     "output_type": "execute_result"
    }
   ],
   "source": [
    "df.shape"
   ]
  },
  {
   "cell_type": "markdown",
   "metadata": {},
   "source": [
    "<a id=\"8\"></a>\n",
    "<div class=\"alert alert-info\" role=\"alert\">\n",
    "<h1> CONCLUDE :<span style=\"color:red\">  </span></h1>\n",
    "</div>\n"
   ]
  },
  {
   "cell_type": "markdown",
   "metadata": {},
   "source": [
    "## HANGİ DUPLİKELER SİLİNECEK?"
   ]
  },
  {
   "cell_type": "code",
   "execution_count": 203,
   "metadata": {},
   "outputs": [
    {
     "name": "stdout",
     "output_type": "stream",
     "text": [
      "2793\n"
     ]
    }
   ],
   "source": [
    "print(df.astype(str).duplicated(keep=False).sum())"
   ]
  },
  {
   "cell_type": "code",
   "execution_count": 204,
   "metadata": {},
   "outputs": [],
   "source": [
    "df['merged_col'] = df.apply(lambda x: ','.join(x.dropna().astype(str)), axis=1)"
   ]
  },
  {
   "cell_type": "code",
   "execution_count": 205,
   "metadata": {},
   "outputs": [],
   "source": [
    "df = df.drop_duplicates(subset=['merged_col'])"
   ]
  },
  {
   "cell_type": "code",
   "execution_count": 206,
   "metadata": {},
   "outputs": [],
   "source": [
    "df.drop([\"merged_col\"], axis=1, inplace = True)"
   ]
  },
  {
   "cell_type": "code",
   "execution_count": 207,
   "metadata": {},
   "outputs": [
    {
     "data": {
      "text/plain": [
       "(24739, 47)"
      ]
     },
     "execution_count": 207,
     "metadata": {},
     "output_type": "execute_result"
    }
   ],
   "source": [
    "df.shape"
   ]
  },
  {
   "cell_type": "markdown",
   "metadata": {},
   "source": [
    "## Temizlediğimiz Datayı CSV ye Aktarma"
   ]
  },
  {
   "cell_type": "code",
   "execution_count": 223,
   "metadata": {},
   "outputs": [],
   "source": [
    "df.to_csv('AutoScout_Part_1.csv', index=False)"
   ]
  },
  {
   "cell_type": "code",
   "execution_count": 208,
   "metadata": {},
   "outputs": [
    {
     "name": "stdout",
     "output_type": "stream",
     "text": [
      "<class 'pandas.core.frame.DataFrame'>\n",
      "Index: 24739 entries, 0 to 26861\n",
      "Data columns (total 47 columns):\n",
      " #   Column                     Non-Null Count  Dtype  \n",
      "---  ------                     --------------  -----  \n",
      " 0   make_model                 24739 non-null  object \n",
      " 1   short_description          24739 non-null  object \n",
      " 2   make                       24739 non-null  object \n",
      " 3   location                   24739 non-null  object \n",
      " 4   price                      24739 non-null  int64  \n",
      " 5   body_type                  24739 non-null  object \n",
      " 6   type                       24739 non-null  object \n",
      " 7   doors                      24400 non-null  object \n",
      " 8   country_version            13859 non-null  object \n",
      " 9   warranty                   12813 non-null  object \n",
      " 10  mileage                    24738 non-null  float64\n",
      " 11  gearbox                    24505 non-null  object \n",
      " 12  fuel_type                  23149 non-null  object \n",
      " 13  colour                     23291 non-null  object \n",
      " 14  paint                      13349 non-null  object \n",
      " 15  desc                       24183 non-null  object \n",
      " 16  seller                     24739 non-null  object \n",
      " 17  seats                      22174 non-null  float64\n",
      " 18  power                      24181 non-null  float64\n",
      " 19  engine_size                23456 non-null  float64\n",
      " 20  gears                      16234 non-null  float64\n",
      " 21  co_emissions               17108 non-null  float64\n",
      " 22  manufacturer_colour        18418 non-null  object \n",
      " 23  drivetrain                 14207 non-null  object \n",
      " 24  cylinders                  16245 non-null  float64\n",
      " 25  comfort_convenience        22268 non-null  object \n",
      " 26  entertainment_media        20914 non-null  object \n",
      " 27  safety_security            22264 non-null  object \n",
      " 28  extras                     20639 non-null  object \n",
      " 29  full_service_history       24739 non-null  object \n",
      " 30  non_smoker_vehicle         24739 non-null  object \n",
      " 31  emission_class             16501 non-null  object \n",
      " 32  emissions_sticker          8881 non-null   object \n",
      " 33  upholstery_colour          13557 non-null  object \n",
      " 34  upholstery                 17118 non-null  object \n",
      " 35  production_date            5475 non-null   float64\n",
      " 36  previous_owner             13004 non-null  float64\n",
      " 37  energy_efficiency_class    7268 non-null   object \n",
      " 38  age                        24737 non-null  float64\n",
      " 39  fuel_consumption_comb      19207 non-null  float64\n",
      " 40  fuel_consumption_city      16596 non-null  float64\n",
      " 41  fuel_consumption_country   16612 non-null  float64\n",
      " 42  comfort_convenience_count  24739 non-null  int64  \n",
      " 43  entertainment_media_count  24739 non-null  int64  \n",
      " 44  safety_security_count      24739 non-null  int64  \n",
      " 45  extras_count               24739 non-null  int64  \n",
      " 46  short_desc_translated      24534 non-null  object \n",
      "dtypes: float64(13), int64(5), object(29)\n",
      "memory usage: 9.1+ MB\n"
     ]
    }
   ],
   "source": [
    "df.info()"
   ]
  },
  {
   "cell_type": "code",
   "execution_count": 209,
   "metadata": {},
   "outputs": [
    {
     "data": {
      "text/html": [
       "<div>\n",
       "<style scoped>\n",
       "    .dataframe tbody tr th:only-of-type {\n",
       "        vertical-align: middle;\n",
       "    }\n",
       "\n",
       "    .dataframe tbody tr th {\n",
       "        vertical-align: top;\n",
       "    }\n",
       "\n",
       "    .dataframe thead th {\n",
       "        text-align: right;\n",
       "    }\n",
       "</style>\n",
       "<table border=\"1\" class=\"dataframe\">\n",
       "  <thead>\n",
       "    <tr style=\"text-align: right;\">\n",
       "      <th></th>\n",
       "      <th>0</th>\n",
       "      <th>1</th>\n",
       "      <th>2</th>\n",
       "      <th>3</th>\n",
       "      <th>4</th>\n",
       "      <th>5</th>\n",
       "      <th>6</th>\n",
       "      <th>7</th>\n",
       "      <th>8</th>\n",
       "      <th>9</th>\n",
       "      <th>...</th>\n",
       "      <th>26850</th>\n",
       "      <th>26851</th>\n",
       "      <th>26852</th>\n",
       "      <th>26855</th>\n",
       "      <th>26856</th>\n",
       "      <th>26857</th>\n",
       "      <th>26858</th>\n",
       "      <th>26859</th>\n",
       "      <th>26860</th>\n",
       "      <th>26861</th>\n",
       "    </tr>\n",
       "  </thead>\n",
       "  <tbody>\n",
       "    <tr>\n",
       "      <th>make_model</th>\n",
       "      <td>Mercedes Benz A 160</td>\n",
       "      <td>Mercedes Benz EQE 350</td>\n",
       "      <td>Mercedes Benz A 45 AMG</td>\n",
       "      <td>Mercedes Benz A 35 AMG</td>\n",
       "      <td>Mercedes Benz A 45 AMG</td>\n",
       "      <td>Mercedes Benz C 160</td>\n",
       "      <td>Mercedes Benz CLA 180</td>\n",
       "      <td>Mercedes Benz A 220</td>\n",
       "      <td>Mercedes Benz A 35 AMG</td>\n",
       "      <td>Mercedes Benz A 200</td>\n",
       "      <td>...</td>\n",
       "      <td>Volvo S90</td>\n",
       "      <td>Volvo S60</td>\n",
       "      <td>Volvo S90</td>\n",
       "      <td>Volvo V40</td>\n",
       "      <td>Volvo S60</td>\n",
       "      <td>Volvo S90</td>\n",
       "      <td>Volvo S40</td>\n",
       "      <td>Volvo C30</td>\n",
       "      <td>Volvo S90</td>\n",
       "      <td>Volvo S80</td>\n",
       "    </tr>\n",
       "    <tr>\n",
       "      <th>short_description</th>\n",
       "      <td>CDi</td>\n",
       "      <td>350+</td>\n",
       "      <td>S 4Matic+ 8DCT</td>\n",
       "      <td>4Matic+ 7DCT</td>\n",
       "      <td>200CDI BE Line 4M 7DCT</td>\n",
       "      <td>Sp. Ed. Klasse Sportcoupe!TÜV N.!24 Mon. Gew.</td>\n",
       "      <td>180D</td>\n",
       "      <td>7DCT</td>\n",
       "      <td>4MATIC</td>\n",
       "      <td>200CDI Autotronic</td>\n",
       "      <td>...</td>\n",
       "      <td>T8 Twin Inscription AWD Aut.</td>\n",
       "      <td>2.0*T6*AWD*Design*Geartronic*Full Options*led*</td>\n",
       "      <td>T6 AWD Geartronic R Design Vol!!</td>\n",
       "      <td>2.0 D2 Kinetic</td>\n",
       "      <td>2.5 T Momentum</td>\n",
       "      <td>T8 Twin Business Plus AWD Aut.</td>\n",
       "      <td>2.4i Momentum/ Airco/ NAP/ APK/ Elek. Ramen</td>\n",
       "      <td>1.6 D DRIVe Start/Stop design</td>\n",
       "      <td>T5 AUT(8) MOMENTUM BUSINESS SCHUIFDAK 360GR CA...</td>\n",
       "      <td>2.9 Executive G. NETTE AUTO! LEER! NAVI! CRUIS...</td>\n",
       "    </tr>\n",
       "    <tr>\n",
       "      <th>make</th>\n",
       "      <td>Mercedes Benz</td>\n",
       "      <td>Mercedes Benz</td>\n",
       "      <td>Mercedes Benz</td>\n",
       "      <td>Mercedes Benz</td>\n",
       "      <td>Mercedes Benz</td>\n",
       "      <td>Mercedes Benz</td>\n",
       "      <td>Mercedes Benz</td>\n",
       "      <td>Mercedes Benz</td>\n",
       "      <td>Mercedes Benz</td>\n",
       "      <td>Mercedes Benz</td>\n",
       "      <td>...</td>\n",
       "      <td>Volvo</td>\n",
       "      <td>Volvo</td>\n",
       "      <td>Volvo</td>\n",
       "      <td>Volvo</td>\n",
       "      <td>Volvo</td>\n",
       "      <td>Volvo</td>\n",
       "      <td>Volvo</td>\n",
       "      <td>Volvo</td>\n",
       "      <td>Volvo</td>\n",
       "      <td>Volvo</td>\n",
       "    </tr>\n",
       "    <tr>\n",
       "      <th>location</th>\n",
       "      <td>ES</td>\n",
       "      <td>ES</td>\n",
       "      <td>ES</td>\n",
       "      <td>ES</td>\n",
       "      <td>ES</td>\n",
       "      <td>DE</td>\n",
       "      <td>ES</td>\n",
       "      <td>ES</td>\n",
       "      <td>BE</td>\n",
       "      <td>ES</td>\n",
       "      <td>...</td>\n",
       "      <td>ES</td>\n",
       "      <td>BE</td>\n",
       "      <td>NL</td>\n",
       "      <td>BE</td>\n",
       "      <td>ES</td>\n",
       "      <td>ES</td>\n",
       "      <td>NL</td>\n",
       "      <td>BE</td>\n",
       "      <td>NL</td>\n",
       "      <td>NL</td>\n",
       "    </tr>\n",
       "    <tr>\n",
       "      <th>price</th>\n",
       "      <td>16950</td>\n",
       "      <td>80900</td>\n",
       "      <td>69900</td>\n",
       "      <td>46990</td>\n",
       "      <td>16800</td>\n",
       "      <td>4690</td>\n",
       "      <td>22550</td>\n",
       "      <td>26900</td>\n",
       "      <td>44999</td>\n",
       "      <td>23900</td>\n",
       "      <td>...</td>\n",
       "      <td>46500</td>\n",
       "      <td>33500</td>\n",
       "      <td>38000</td>\n",
       "      <td>13000</td>\n",
       "      <td>4999</td>\n",
       "      <td>37600</td>\n",
       "      <td>5499</td>\n",
       "      <td>7300</td>\n",
       "      <td>29900</td>\n",
       "      <td>4440</td>\n",
       "    </tr>\n",
       "    <tr>\n",
       "      <th>body_type</th>\n",
       "      <td>Compact</td>\n",
       "      <td>Compact</td>\n",
       "      <td>Compact</td>\n",
       "      <td>Compact</td>\n",
       "      <td>Compact</td>\n",
       "      <td>Compact</td>\n",
       "      <td>Compact</td>\n",
       "      <td>Compact</td>\n",
       "      <td>Compact</td>\n",
       "      <td>Compact</td>\n",
       "      <td>...</td>\n",
       "      <td>Sedan</td>\n",
       "      <td>Sedan</td>\n",
       "      <td>Sedan</td>\n",
       "      <td>Sedan</td>\n",
       "      <td>Sedan</td>\n",
       "      <td>Sedan</td>\n",
       "      <td>Sedan</td>\n",
       "      <td>Sedan</td>\n",
       "      <td>Sedan</td>\n",
       "      <td>Sedan</td>\n",
       "    </tr>\n",
       "    <tr>\n",
       "      <th>type</th>\n",
       "      <td>Used</td>\n",
       "      <td>Pre-registered</td>\n",
       "      <td>Used</td>\n",
       "      <td>Used</td>\n",
       "      <td>Used</td>\n",
       "      <td>Used</td>\n",
       "      <td>Used</td>\n",
       "      <td>Used</td>\n",
       "      <td>Used</td>\n",
       "      <td>Used</td>\n",
       "      <td>...</td>\n",
       "      <td>Used</td>\n",
       "      <td>Used</td>\n",
       "      <td>Used</td>\n",
       "      <td>Used</td>\n",
       "      <td>Used</td>\n",
       "      <td>Used</td>\n",
       "      <td>Used</td>\n",
       "      <td>Used</td>\n",
       "      <td>Used</td>\n",
       "      <td>Used</td>\n",
       "    </tr>\n",
       "    <tr>\n",
       "      <th>doors</th>\n",
       "      <td>5</td>\n",
       "      <td>4</td>\n",
       "      <td>5</td>\n",
       "      <td>5</td>\n",
       "      <td>5</td>\n",
       "      <td>3</td>\n",
       "      <td>5</td>\n",
       "      <td>5</td>\n",
       "      <td>5</td>\n",
       "      <td>5</td>\n",
       "      <td>...</td>\n",
       "      <td>4</td>\n",
       "      <td>4</td>\n",
       "      <td>4</td>\n",
       "      <td>5</td>\n",
       "      <td>4</td>\n",
       "      <td>4</td>\n",
       "      <td>4</td>\n",
       "      <td>3</td>\n",
       "      <td>4</td>\n",
       "      <td>4</td>\n",
       "    </tr>\n",
       "    <tr>\n",
       "      <th>country_version</th>\n",
       "      <td>Spain</td>\n",
       "      <td>Spain</td>\n",
       "      <td>Spain</td>\n",
       "      <td>Spain</td>\n",
       "      <td>Spain</td>\n",
       "      <td>Germany</td>\n",
       "      <td>Spain</td>\n",
       "      <td>Spain</td>\n",
       "      <td>NaN</td>\n",
       "      <td>Spain</td>\n",
       "      <td>...</td>\n",
       "      <td>Spain</td>\n",
       "      <td>NaN</td>\n",
       "      <td>NaN</td>\n",
       "      <td>NaN</td>\n",
       "      <td>Spain</td>\n",
       "      <td>Spain</td>\n",
       "      <td>NaN</td>\n",
       "      <td>Belgium</td>\n",
       "      <td>NaN</td>\n",
       "      <td>NaN</td>\n",
       "    </tr>\n",
       "    <tr>\n",
       "      <th>warranty</th>\n",
       "      <td>24</td>\n",
       "      <td>24</td>\n",
       "      <td>12</td>\n",
       "      <td>12</td>\n",
       "      <td>12</td>\n",
       "      <td>NaN</td>\n",
       "      <td>12</td>\n",
       "      <td>24</td>\n",
       "      <td>NaN</td>\n",
       "      <td>12</td>\n",
       "      <td>...</td>\n",
       "      <td>12</td>\n",
       "      <td>12</td>\n",
       "      <td>NaN</td>\n",
       "      <td>NaN</td>\n",
       "      <td>12</td>\n",
       "      <td>12</td>\n",
       "      <td>NaN</td>\n",
       "      <td>13</td>\n",
       "      <td>12</td>\n",
       "      <td>NaN</td>\n",
       "    </tr>\n",
       "    <tr>\n",
       "      <th>mileage</th>\n",
       "      <td>120200.0</td>\n",
       "      <td>5000.0</td>\n",
       "      <td>18900.0</td>\n",
       "      <td>18995.0</td>\n",
       "      <td>197000.0</td>\n",
       "      <td>165000.0</td>\n",
       "      <td>83339.0</td>\n",
       "      <td>48900.0</td>\n",
       "      <td>56876.0</td>\n",
       "      <td>21854.0</td>\n",
       "      <td>...</td>\n",
       "      <td>14000.0</td>\n",
       "      <td>53000.0</td>\n",
       "      <td>44873.0</td>\n",
       "      <td>114000.0</td>\n",
       "      <td>166512.0</td>\n",
       "      <td>40345.0</td>\n",
       "      <td>145000.0</td>\n",
       "      <td>96000.0</td>\n",
       "      <td>94343.0</td>\n",
       "      <td>230047.0</td>\n",
       "    </tr>\n",
       "    <tr>\n",
       "      <th>gearbox</th>\n",
       "      <td>Manual</td>\n",
       "      <td>Automatic</td>\n",
       "      <td>Automatic</td>\n",
       "      <td>Automatic</td>\n",
       "      <td>Automatic</td>\n",
       "      <td>Manual</td>\n",
       "      <td>Manual</td>\n",
       "      <td>Automatic</td>\n",
       "      <td>Automatic</td>\n",
       "      <td>Automatic</td>\n",
       "      <td>...</td>\n",
       "      <td>Automatic</td>\n",
       "      <td>Automatic</td>\n",
       "      <td>Automatic</td>\n",
       "      <td>Manual</td>\n",
       "      <td>Manual</td>\n",
       "      <td>Automatic</td>\n",
       "      <td>Automatic</td>\n",
       "      <td>Manual</td>\n",
       "      <td>Automatic</td>\n",
       "      <td>Automatic</td>\n",
       "    </tr>\n",
       "    <tr>\n",
       "      <th>fuel_type</th>\n",
       "      <td>Diesel</td>\n",
       "      <td>Electric</td>\n",
       "      <td>Benzin</td>\n",
       "      <td>Benzin</td>\n",
       "      <td>Diesel</td>\n",
       "      <td>Benzin</td>\n",
       "      <td>Diesel</td>\n",
       "      <td>Benzin</td>\n",
       "      <td>Benzin</td>\n",
       "      <td>Diesel</td>\n",
       "      <td>...</td>\n",
       "      <td>NaN</td>\n",
       "      <td>Benzin</td>\n",
       "      <td>Benzin</td>\n",
       "      <td>Diesel</td>\n",
       "      <td>Benzin</td>\n",
       "      <td>NaN</td>\n",
       "      <td>Benzin</td>\n",
       "      <td>Diesel</td>\n",
       "      <td>Benzin</td>\n",
       "      <td>Benzin</td>\n",
       "    </tr>\n",
       "    <tr>\n",
       "      <th>colour</th>\n",
       "      <td>Black</td>\n",
       "      <td>NaN</td>\n",
       "      <td>Grey</td>\n",
       "      <td>Yellow</td>\n",
       "      <td>White</td>\n",
       "      <td>Black</td>\n",
       "      <td>Silver</td>\n",
       "      <td>Grey</td>\n",
       "      <td>Grey</td>\n",
       "      <td>White</td>\n",
       "      <td>...</td>\n",
       "      <td>Blue</td>\n",
       "      <td>Red</td>\n",
       "      <td>Black</td>\n",
       "      <td>Grey</td>\n",
       "      <td>Black</td>\n",
       "      <td>Black</td>\n",
       "      <td>Grey</td>\n",
       "      <td>Grey</td>\n",
       "      <td>Blue</td>\n",
       "      <td>Grey</td>\n",
       "    </tr>\n",
       "    <tr>\n",
       "      <th>paint</th>\n",
       "      <td>Metallic</td>\n",
       "      <td>NaN</td>\n",
       "      <td>NaN</td>\n",
       "      <td>NaN</td>\n",
       "      <td>Metallic</td>\n",
       "      <td>Metallic</td>\n",
       "      <td>NaN</td>\n",
       "      <td>Metallic</td>\n",
       "      <td>NaN</td>\n",
       "      <td>NaN</td>\n",
       "      <td>...</td>\n",
       "      <td>NaN</td>\n",
       "      <td>Metallic</td>\n",
       "      <td>Metallic</td>\n",
       "      <td>Metallic</td>\n",
       "      <td>NaN</td>\n",
       "      <td>NaN</td>\n",
       "      <td>NaN</td>\n",
       "      <td>Metallic</td>\n",
       "      <td>Metallic</td>\n",
       "      <td>NaN</td>\n",
       "    </tr>\n",
       "    <tr>\n",
       "      <th>desc</th>\n",
       "      <td>Precio Al Contado: 16950 Euros  Vehículo Con H...</td>\n",
       "      <td>Precio Al Contado: 88900 Euros Auto ja S.A. - ...</td>\n",
       "      <td>Gris Manufaktur Mountaingrau Magno LineaEstilo...</td>\n",
       "      <td>Precio Al Contado: 48990 Euros  Bonificacion P...</td>\n",
       "      <td>Precio Al Contado: 17400 Euros Vehículo En Per...</td>\n",
       "      <td>Sonderausstattung:Panorama-Schiebedach Elektri...</td>\n",
       "      <td>Precio Al Contado: 24900 Euros Liquidación Sep...</td>\n",
       "      <td>Precio Al Contado: 28900 Euros portunidad Espe...</td>\n",
       "      <td>440 - Snelheidsregelaar Tempomat Met Variabele...</td>\n",
       "      <td>Precio Al Contado: 25900 Euros  Extras  Equipa...</td>\n",
       "      <td>...</td>\n",
       "      <td>Precio Al Contado: 49990 Euros -Business Packs...</td>\n",
       "      <td>Tres Belle Voiture Interieur Comme Exterieur R...</td>\n",
       "      <td>Btw VerrekenbaarZeer Mooie Auto Met Vol pties ...</td>\n",
       "      <td>Volvo V40 Kinetic D2. Kmstand: 114000. 2De Eig...</td>\n",
       "      <td>Precio Al Contado: 4999 Euros %Back To School%...</td>\n",
       "      <td>Precio Al Contado: 41400 Euros s Presento Esta...</td>\n",
       "      <td>Een Goed Rijdende Auto Met Apk  Nap  Elektrisc...</td>\n",
       "      <td>Volvo C30 2011 Tres Propre En Parfait Etat Av...</td>\n",
       "      <td>Bekijk Deze Auto In Unieke 360 Graden Presenta...</td>\n",
       "      <td>Youngtimer Bedrijfsinformatieneem Voor U Wilt ...</td>\n",
       "    </tr>\n",
       "    <tr>\n",
       "      <th>seller</th>\n",
       "      <td>Dealer</td>\n",
       "      <td>Dealer</td>\n",
       "      <td>Dealer</td>\n",
       "      <td>Dealer</td>\n",
       "      <td>Dealer</td>\n",
       "      <td>Dealer</td>\n",
       "      <td>Dealer</td>\n",
       "      <td>Dealer</td>\n",
       "      <td>Dealer</td>\n",
       "      <td>Dealer</td>\n",
       "      <td>...</td>\n",
       "      <td>Dealer</td>\n",
       "      <td>Dealer</td>\n",
       "      <td>Private seller</td>\n",
       "      <td>Private seller</td>\n",
       "      <td>Dealer</td>\n",
       "      <td>Dealer</td>\n",
       "      <td>Dealer</td>\n",
       "      <td>Dealer</td>\n",
       "      <td>Dealer</td>\n",
       "      <td>Dealer</td>\n",
       "    </tr>\n",
       "    <tr>\n",
       "      <th>seats</th>\n",
       "      <td>NaN</td>\n",
       "      <td>5.0</td>\n",
       "      <td>5.0</td>\n",
       "      <td>5.0</td>\n",
       "      <td>5.0</td>\n",
       "      <td>4.0</td>\n",
       "      <td>NaN</td>\n",
       "      <td>5.0</td>\n",
       "      <td>NaN</td>\n",
       "      <td>5.0</td>\n",
       "      <td>...</td>\n",
       "      <td>4.0</td>\n",
       "      <td>5.0</td>\n",
       "      <td>5.0</td>\n",
       "      <td>5.0</td>\n",
       "      <td>5.0</td>\n",
       "      <td>4.0</td>\n",
       "      <td>5.0</td>\n",
       "      <td>4.0</td>\n",
       "      <td>5.0</td>\n",
       "      <td>5.0</td>\n",
       "    </tr>\n",
       "    <tr>\n",
       "      <th>power</th>\n",
       "      <td>NaN</td>\n",
       "      <td>215.0</td>\n",
       "      <td>310.0</td>\n",
       "      <td>225.0</td>\n",
       "      <td>100.0</td>\n",
       "      <td>90.0</td>\n",
       "      <td>NaN</td>\n",
       "      <td>140.0</td>\n",
       "      <td>225.0</td>\n",
       "      <td>102.0</td>\n",
       "      <td>...</td>\n",
       "      <td>288.0</td>\n",
       "      <td>228.0</td>\n",
       "      <td>228.0</td>\n",
       "      <td>88.0</td>\n",
       "      <td>154.0</td>\n",
       "      <td>288.0</td>\n",
       "      <td>125.0</td>\n",
       "      <td>84.0</td>\n",
       "      <td>187.0</td>\n",
       "      <td>147.0</td>\n",
       "    </tr>\n",
       "    <tr>\n",
       "      <th>engine_size</th>\n",
       "      <td>NaN</td>\n",
       "      <td>1.0</td>\n",
       "      <td>1991.0</td>\n",
       "      <td>1991.0</td>\n",
       "      <td>2143.0</td>\n",
       "      <td>1799.0</td>\n",
       "      <td>NaN</td>\n",
       "      <td>1991.0</td>\n",
       "      <td>1991.0</td>\n",
       "      <td>1991.0</td>\n",
       "      <td>...</td>\n",
       "      <td>1969.0</td>\n",
       "      <td>1969.0</td>\n",
       "      <td>1969.0</td>\n",
       "      <td>1969.0</td>\n",
       "      <td>2521.0</td>\n",
       "      <td>1969.0</td>\n",
       "      <td>2435.0</td>\n",
       "      <td>1560.0</td>\n",
       "      <td>1969.0</td>\n",
       "      <td>2922.0</td>\n",
       "    </tr>\n",
       "    <tr>\n",
       "      <th>gears</th>\n",
       "      <td>NaN</td>\n",
       "      <td>9.0</td>\n",
       "      <td>8.0</td>\n",
       "      <td>7.0</td>\n",
       "      <td>7.0</td>\n",
       "      <td>6.0</td>\n",
       "      <td>NaN</td>\n",
       "      <td>7.0</td>\n",
       "      <td>NaN</td>\n",
       "      <td>1.0</td>\n",
       "      <td>...</td>\n",
       "      <td>8.0</td>\n",
       "      <td>8.0</td>\n",
       "      <td>8.0</td>\n",
       "      <td>6.0</td>\n",
       "      <td>5.0</td>\n",
       "      <td>8.0</td>\n",
       "      <td>5.0</td>\n",
       "      <td>6.0</td>\n",
       "      <td>8.0</td>\n",
       "      <td>NaN</td>\n",
       "    </tr>\n",
       "    <tr>\n",
       "      <th>co_emissions</th>\n",
       "      <td>NaN</td>\n",
       "      <td>0.0</td>\n",
       "      <td>NaN</td>\n",
       "      <td>NaN</td>\n",
       "      <td>NaN</td>\n",
       "      <td>196.0</td>\n",
       "      <td>NaN</td>\n",
       "      <td>NaN</td>\n",
       "      <td>168.0</td>\n",
       "      <td>NaN</td>\n",
       "      <td>...</td>\n",
       "      <td>NaN</td>\n",
       "      <td>168.0</td>\n",
       "      <td>NaN</td>\n",
       "      <td>94.0</td>\n",
       "      <td>NaN</td>\n",
       "      <td>NaN</td>\n",
       "      <td>217.0</td>\n",
       "      <td>99.0</td>\n",
       "      <td>149.0</td>\n",
       "      <td>251.0</td>\n",
       "    </tr>\n",
       "    <tr>\n",
       "      <th>manufacturer_colour</th>\n",
       "      <td>NaN</td>\n",
       "      <td>Negro Obsidiana</td>\n",
       "      <td>Mountaingrau magno</td>\n",
       "      <td>Amarillo Sol</td>\n",
       "      <td>NaN</td>\n",
       "      <td>Diamant schwarz  metallic</td>\n",
       "      <td>NaN</td>\n",
       "      <td>Gris Montaña</td>\n",
       "      <td>NaN</td>\n",
       "      <td>Blanco Cirro (sólido)</td>\n",
       "      <td>...</td>\n",
       "      <td>DEMIN BLUE</td>\n",
       "      <td>NaN</td>\n",
       "      <td>NaN</td>\n",
       "      <td>NaN</td>\n",
       "      <td>Negro</td>\n",
       "      <td>NaN</td>\n",
       "      <td>Grijs</td>\n",
       "      <td>NaN</td>\n",
       "      <td>Denim Blue metallic (blauw met</td>\n",
       "      <td>Grijs</td>\n",
       "    </tr>\n",
       "    <tr>\n",
       "      <th>drivetrain</th>\n",
       "      <td>NaN</td>\n",
       "      <td>NaN</td>\n",
       "      <td>4WD</td>\n",
       "      <td>4WD</td>\n",
       "      <td>4WD</td>\n",
       "      <td>Rear</td>\n",
       "      <td>NaN</td>\n",
       "      <td>Front</td>\n",
       "      <td>NaN</td>\n",
       "      <td>Front</td>\n",
       "      <td>...</td>\n",
       "      <td>4WD</td>\n",
       "      <td>4WD</td>\n",
       "      <td>NaN</td>\n",
       "      <td>Front</td>\n",
       "      <td>Front</td>\n",
       "      <td>4WD</td>\n",
       "      <td>Front</td>\n",
       "      <td>Front</td>\n",
       "      <td>NaN</td>\n",
       "      <td>Front</td>\n",
       "    </tr>\n",
       "    <tr>\n",
       "      <th>cylinders</th>\n",
       "      <td>NaN</td>\n",
       "      <td>NaN</td>\n",
       "      <td>4.0</td>\n",
       "      <td>4.0</td>\n",
       "      <td>4.0</td>\n",
       "      <td>4.0</td>\n",
       "      <td>NaN</td>\n",
       "      <td>4.0</td>\n",
       "      <td>NaN</td>\n",
       "      <td>4.0</td>\n",
       "      <td>...</td>\n",
       "      <td>4.0</td>\n",
       "      <td>4.0</td>\n",
       "      <td>4.0</td>\n",
       "      <td>4.0</td>\n",
       "      <td>5.0</td>\n",
       "      <td>4.0</td>\n",
       "      <td>5.0</td>\n",
       "      <td>4.0</td>\n",
       "      <td>4.0</td>\n",
       "      <td>6.0</td>\n",
       "    </tr>\n",
       "    <tr>\n",
       "      <th>comfort_convenience</th>\n",
       "      <td>NaN</td>\n",
       "      <td>NaN</td>\n",
       "      <td>NaN</td>\n",
       "      <td>Air Conditioning, Automatic Climate Control, P...</td>\n",
       "      <td>Air Conditioning, Electrical Side Mirrors, Mul...</td>\n",
       "      <td>Air Conditioning, Armrest, Automatic Climate C...</td>\n",
       "      <td>NaN</td>\n",
       "      <td>Air Conditioning, Automatic Climate Control, P...</td>\n",
       "      <td>Multi-Function Steering Wheel, Navigation Syst...</td>\n",
       "      <td>Air Conditioning, Automatic Climate Control, E...</td>\n",
       "      <td>...</td>\n",
       "      <td>Air Conditioning, Automatic Climate Control, M...</td>\n",
       "      <td>360° Camera, Air Conditioning, Armrest, Automa...</td>\n",
       "      <td>360° Camera, Air Conditioning, Armrest, Automa...</td>\n",
       "      <td>Air Conditioning, Armrest, Automatic Climate C...</td>\n",
       "      <td>Air Conditioning, Automatic Climate Control, E...</td>\n",
       "      <td>Air Conditioning, Automatic Climate Control, M...</td>\n",
       "      <td>Air Conditioning, Armrest, Automatic Climate C...</td>\n",
       "      <td>Air Conditioning, Armrest, Automatic Climate C...</td>\n",
       "      <td>Air Conditioning, Armrest, Automatic Climate C...</td>\n",
       "      <td>Air Conditioning, Armrest, Cruise Control, Ele...</td>\n",
       "    </tr>\n",
       "    <tr>\n",
       "      <th>entertainment_media</th>\n",
       "      <td>NaN</td>\n",
       "      <td>NaN</td>\n",
       "      <td>NaN</td>\n",
       "      <td>Usb</td>\n",
       "      <td>Bluetooth, Cd Player, Mp3, Usb</td>\n",
       "      <td>Cd Player, On-Board Computer, Radio</td>\n",
       "      <td>NaN</td>\n",
       "      <td>Usb</td>\n",
       "      <td>NaN</td>\n",
       "      <td>NaN</td>\n",
       "      <td>...</td>\n",
       "      <td>Bluetooth, Usb</td>\n",
       "      <td>Apple Carplay, Bluetooth, Digital Cockpit, Dig...</td>\n",
       "      <td>Android Auto, Apple Carplay, Bluetooth, Cd Pla...</td>\n",
       "      <td>Bluetooth, Hands-Free Equipment, On-Board Comp...</td>\n",
       "      <td>On-Board Computer</td>\n",
       "      <td>Bluetooth, Usb</td>\n",
       "      <td>On-Board Computer, Radio</td>\n",
       "      <td>Bluetooth, Cd Player, Hands-Free Equipment, Mp...</td>\n",
       "      <td>Android Auto, Apple Carplay, Bluetooth, Hands-...</td>\n",
       "      <td>On-Board Computer</td>\n",
       "    </tr>\n",
       "    <tr>\n",
       "      <th>safety_security</th>\n",
       "      <td>NaN</td>\n",
       "      <td>NaN</td>\n",
       "      <td>NaN</td>\n",
       "      <td>Abs, Central Door Lock, Driver-Side Airbag, El...</td>\n",
       "      <td>Abs, Central Door Lock, Driver-Side Airbag, El...</td>\n",
       "      <td>Abs, Bi-Xenon Headlights, Central Door Lock, D...</td>\n",
       "      <td>NaN</td>\n",
       "      <td>Abs, Central Door Lock, Driver-Side Airbag, El...</td>\n",
       "      <td>Emergency Brake Assistant</td>\n",
       "      <td>Abs, Central Door Lock, Driver-Side Airbag, El...</td>\n",
       "      <td>...</td>\n",
       "      <td>Abs, Central Door Lock, Driver-Side Airbag, El...</td>\n",
       "      <td>Abs, Blind Spot Monitor, Central Door Lock, Ce...</td>\n",
       "      <td>Abs, Adaptive Cruise Control, Adaptive Headlig...</td>\n",
       "      <td>Abs, Alarm System, Central Door Lock With Remo...</td>\n",
       "      <td>Abs, Central Door Lock, Driver-Side Airbag, El...</td>\n",
       "      <td>Abs, Central Door Lock, Driver-Side Airbag, El...</td>\n",
       "      <td>Abs, Central Door Lock, Central Door Lock With...</td>\n",
       "      <td>Abs, Alarm System, Central Door Lock With Remo...</td>\n",
       "      <td>Adaptive Cruise Control, Adaptive Headlights, ...</td>\n",
       "      <td>Abs, Alarm System, Central Door Lock, Central ...</td>\n",
       "    </tr>\n",
       "    <tr>\n",
       "      <th>extras</th>\n",
       "      <td>NaN</td>\n",
       "      <td>NaN</td>\n",
       "      <td>NaN</td>\n",
       "      <td>Sport seats</td>\n",
       "      <td>NaN</td>\n",
       "      <td>Alloy wheels (17\"), Catalytic Converter, Emerg...</td>\n",
       "      <td>NaN</td>\n",
       "      <td>NaN</td>\n",
       "      <td>Sport package</td>\n",
       "      <td>Alloy wheels</td>\n",
       "      <td>...</td>\n",
       "      <td>Alloy wheels</td>\n",
       "      <td>Alloy wheels (19\"), Automatically dimming inte...</td>\n",
       "      <td>Alloy wheels (21\"), Ambient lighting, Automati...</td>\n",
       "      <td>All season tyres, Ambient lighting, Cargo barr...</td>\n",
       "      <td>Alloy wheels</td>\n",
       "      <td>Alloy wheels</td>\n",
       "      <td>Alloy wheels (16\"), Trailer hitch</td>\n",
       "      <td>Alloy wheels, Automatically dimming interior m...</td>\n",
       "      <td>Alloy wheels (18\"), Automatically dimming inte...</td>\n",
       "      <td>Alloy wheels, Automatically dimming interior m...</td>\n",
       "    </tr>\n",
       "    <tr>\n",
       "      <th>full_service_history</th>\n",
       "      <td>No</td>\n",
       "      <td>No</td>\n",
       "      <td>No</td>\n",
       "      <td>No</td>\n",
       "      <td>No</td>\n",
       "      <td>Yes</td>\n",
       "      <td>No</td>\n",
       "      <td>No</td>\n",
       "      <td>No</td>\n",
       "      <td>No</td>\n",
       "      <td>...</td>\n",
       "      <td>No</td>\n",
       "      <td>Yes</td>\n",
       "      <td>Yes</td>\n",
       "      <td>Yes</td>\n",
       "      <td>No</td>\n",
       "      <td>No</td>\n",
       "      <td>Yes</td>\n",
       "      <td>Yes</td>\n",
       "      <td>Yes</td>\n",
       "      <td>No</td>\n",
       "    </tr>\n",
       "    <tr>\n",
       "      <th>non_smoker_vehicle</th>\n",
       "      <td>No</td>\n",
       "      <td>No</td>\n",
       "      <td>No</td>\n",
       "      <td>No</td>\n",
       "      <td>No</td>\n",
       "      <td>Yes</td>\n",
       "      <td>No</td>\n",
       "      <td>No</td>\n",
       "      <td>No</td>\n",
       "      <td>No</td>\n",
       "      <td>...</td>\n",
       "      <td>No</td>\n",
       "      <td>No</td>\n",
       "      <td>Yes</td>\n",
       "      <td>No</td>\n",
       "      <td>No</td>\n",
       "      <td>No</td>\n",
       "      <td>No</td>\n",
       "      <td>No</td>\n",
       "      <td>No</td>\n",
       "      <td>No</td>\n",
       "    </tr>\n",
       "    <tr>\n",
       "      <th>emission_class</th>\n",
       "      <td>NaN</td>\n",
       "      <td>NaN</td>\n",
       "      <td>NaN</td>\n",
       "      <td>NaN</td>\n",
       "      <td>NaN</td>\n",
       "      <td>Euro 4</td>\n",
       "      <td>NaN</td>\n",
       "      <td>NaN</td>\n",
       "      <td>Euro 6</td>\n",
       "      <td>NaN</td>\n",
       "      <td>...</td>\n",
       "      <td>NaN</td>\n",
       "      <td>Euro 6</td>\n",
       "      <td>Euro 6</td>\n",
       "      <td>Euro 6</td>\n",
       "      <td>NaN</td>\n",
       "      <td>NaN</td>\n",
       "      <td>Euro 4</td>\n",
       "      <td>Euro 5</td>\n",
       "      <td>Euro 6</td>\n",
       "      <td>Euro 3</td>\n",
       "    </tr>\n",
       "    <tr>\n",
       "      <th>emissions_sticker</th>\n",
       "      <td>NaN</td>\n",
       "      <td>NaN</td>\n",
       "      <td>NaN</td>\n",
       "      <td>NaN</td>\n",
       "      <td>NaN</td>\n",
       "      <td>Green</td>\n",
       "      <td>NaN</td>\n",
       "      <td>NaN</td>\n",
       "      <td>NaN</td>\n",
       "      <td>NaN</td>\n",
       "      <td>...</td>\n",
       "      <td>NaN</td>\n",
       "      <td>NaN</td>\n",
       "      <td>NaN</td>\n",
       "      <td>NaN</td>\n",
       "      <td>NaN</td>\n",
       "      <td>NaN</td>\n",
       "      <td>NaN</td>\n",
       "      <td>NaN</td>\n",
       "      <td>NaN</td>\n",
       "      <td>NaN</td>\n",
       "    </tr>\n",
       "    <tr>\n",
       "      <th>upholstery_colour</th>\n",
       "      <td>NaN</td>\n",
       "      <td>NaN</td>\n",
       "      <td>NaN</td>\n",
       "      <td>NaN</td>\n",
       "      <td>NaN</td>\n",
       "      <td>Black</td>\n",
       "      <td>NaN</td>\n",
       "      <td>NaN</td>\n",
       "      <td>Black</td>\n",
       "      <td>NaN</td>\n",
       "      <td>...</td>\n",
       "      <td>NaN</td>\n",
       "      <td>Black</td>\n",
       "      <td>Black</td>\n",
       "      <td>Black</td>\n",
       "      <td>NaN</td>\n",
       "      <td>NaN</td>\n",
       "      <td>NaN</td>\n",
       "      <td>Black</td>\n",
       "      <td>Other</td>\n",
       "      <td>Beige</td>\n",
       "    </tr>\n",
       "    <tr>\n",
       "      <th>upholstery</th>\n",
       "      <td>NaN</td>\n",
       "      <td>NaN</td>\n",
       "      <td>NaN</td>\n",
       "      <td>NaN</td>\n",
       "      <td>NaN</td>\n",
       "      <td>Cloth</td>\n",
       "      <td>NaN</td>\n",
       "      <td>NaN</td>\n",
       "      <td>Leather</td>\n",
       "      <td>NaN</td>\n",
       "      <td>...</td>\n",
       "      <td>NaN</td>\n",
       "      <td>Leather</td>\n",
       "      <td>Leather</td>\n",
       "      <td>Cloth</td>\n",
       "      <td>NaN</td>\n",
       "      <td>NaN</td>\n",
       "      <td>NaN</td>\n",
       "      <td>NaN</td>\n",
       "      <td>Leather</td>\n",
       "      <td>Leather</td>\n",
       "    </tr>\n",
       "    <tr>\n",
       "      <th>production_date</th>\n",
       "      <td>NaN</td>\n",
       "      <td>NaN</td>\n",
       "      <td>NaN</td>\n",
       "      <td>NaN</td>\n",
       "      <td>NaN</td>\n",
       "      <td>NaN</td>\n",
       "      <td>NaN</td>\n",
       "      <td>NaN</td>\n",
       "      <td>2019.0</td>\n",
       "      <td>NaN</td>\n",
       "      <td>...</td>\n",
       "      <td>NaN</td>\n",
       "      <td>NaN</td>\n",
       "      <td>NaN</td>\n",
       "      <td>NaN</td>\n",
       "      <td>NaN</td>\n",
       "      <td>NaN</td>\n",
       "      <td>NaN</td>\n",
       "      <td>NaN</td>\n",
       "      <td>NaN</td>\n",
       "      <td>NaN</td>\n",
       "    </tr>\n",
       "    <tr>\n",
       "      <th>previous_owner</th>\n",
       "      <td>NaN</td>\n",
       "      <td>NaN</td>\n",
       "      <td>NaN</td>\n",
       "      <td>NaN</td>\n",
       "      <td>NaN</td>\n",
       "      <td>NaN</td>\n",
       "      <td>NaN</td>\n",
       "      <td>NaN</td>\n",
       "      <td>NaN</td>\n",
       "      <td>NaN</td>\n",
       "      <td>...</td>\n",
       "      <td>NaN</td>\n",
       "      <td>NaN</td>\n",
       "      <td>1.0</td>\n",
       "      <td>1.0</td>\n",
       "      <td>NaN</td>\n",
       "      <td>NaN</td>\n",
       "      <td>NaN</td>\n",
       "      <td>1.0</td>\n",
       "      <td>NaN</td>\n",
       "      <td>5.0</td>\n",
       "    </tr>\n",
       "    <tr>\n",
       "      <th>energy_efficiency_class</th>\n",
       "      <td>NaN</td>\n",
       "      <td>NaN</td>\n",
       "      <td>NaN</td>\n",
       "      <td>NaN</td>\n",
       "      <td>NaN</td>\n",
       "      <td>NaN</td>\n",
       "      <td>NaN</td>\n",
       "      <td>NaN</td>\n",
       "      <td>NaN</td>\n",
       "      <td>NaN</td>\n",
       "      <td>...</td>\n",
       "      <td>NaN</td>\n",
       "      <td>NaN</td>\n",
       "      <td>NaN</td>\n",
       "      <td>NaN</td>\n",
       "      <td>NaN</td>\n",
       "      <td>NaN</td>\n",
       "      <td>NaN</td>\n",
       "      <td>NaN</td>\n",
       "      <td>NaN</td>\n",
       "      <td>NaN</td>\n",
       "    </tr>\n",
       "    <tr>\n",
       "      <th>age</th>\n",
       "      <td>6.0</td>\n",
       "      <td>0.0</td>\n",
       "      <td>2.0</td>\n",
       "      <td>2.0</td>\n",
       "      <td>7.0</td>\n",
       "      <td>17.0</td>\n",
       "      <td>4.0</td>\n",
       "      <td>3.0</td>\n",
       "      <td>3.0</td>\n",
       "      <td>4.0</td>\n",
       "      <td>...</td>\n",
       "      <td>3.0</td>\n",
       "      <td>3.0</td>\n",
       "      <td>4.0</td>\n",
       "      <td>4.0</td>\n",
       "      <td>18.0</td>\n",
       "      <td>3.0</td>\n",
       "      <td>18.0</td>\n",
       "      <td>11.0</td>\n",
       "      <td>5.0</td>\n",
       "      <td>20.0</td>\n",
       "    </tr>\n",
       "    <tr>\n",
       "      <th>fuel_consumption_comb</th>\n",
       "      <td>NaN</td>\n",
       "      <td>NaN</td>\n",
       "      <td>8.4</td>\n",
       "      <td>7.3</td>\n",
       "      <td>4.9</td>\n",
       "      <td>8.2</td>\n",
       "      <td>NaN</td>\n",
       "      <td>6.1</td>\n",
       "      <td>NaN</td>\n",
       "      <td>5.4</td>\n",
       "      <td>...</td>\n",
       "      <td>1.9</td>\n",
       "      <td>7.4</td>\n",
       "      <td>7.6</td>\n",
       "      <td>3.6</td>\n",
       "      <td>9.1</td>\n",
       "      <td>2.0</td>\n",
       "      <td>9.1</td>\n",
       "      <td>3.8</td>\n",
       "      <td>6.5</td>\n",
       "      <td>10.4</td>\n",
       "    </tr>\n",
       "    <tr>\n",
       "      <th>fuel_consumption_city</th>\n",
       "      <td>NaN</td>\n",
       "      <td>NaN</td>\n",
       "      <td>10.9</td>\n",
       "      <td>9.3</td>\n",
       "      <td>5.7</td>\n",
       "      <td>11.6</td>\n",
       "      <td>NaN</td>\n",
       "      <td>8.1</td>\n",
       "      <td>NaN</td>\n",
       "      <td>6.9</td>\n",
       "      <td>...</td>\n",
       "      <td>NaN</td>\n",
       "      <td>9.7</td>\n",
       "      <td>9.8</td>\n",
       "      <td>4.0</td>\n",
       "      <td>12.9</td>\n",
       "      <td>NaN</td>\n",
       "      <td>13.2</td>\n",
       "      <td>4.3</td>\n",
       "      <td>8.6</td>\n",
       "      <td>15.3</td>\n",
       "    </tr>\n",
       "    <tr>\n",
       "      <th>fuel_consumption_country</th>\n",
       "      <td>NaN</td>\n",
       "      <td>NaN</td>\n",
       "      <td>5.8</td>\n",
       "      <td>6.1</td>\n",
       "      <td>4.4</td>\n",
       "      <td>6.2</td>\n",
       "      <td>NaN</td>\n",
       "      <td>5.1</td>\n",
       "      <td>NaN</td>\n",
       "      <td>4.5</td>\n",
       "      <td>...</td>\n",
       "      <td>NaN</td>\n",
       "      <td>6.1</td>\n",
       "      <td>6.4</td>\n",
       "      <td>3.3</td>\n",
       "      <td>6.9</td>\n",
       "      <td>NaN</td>\n",
       "      <td>6.7</td>\n",
       "      <td>3.5</td>\n",
       "      <td>5.3</td>\n",
       "      <td>7.6</td>\n",
       "    </tr>\n",
       "    <tr>\n",
       "      <th>comfort_convenience_count</th>\n",
       "      <td>0</td>\n",
       "      <td>0</td>\n",
       "      <td>0</td>\n",
       "      <td>4</td>\n",
       "      <td>5</td>\n",
       "      <td>14</td>\n",
       "      <td>0</td>\n",
       "      <td>4</td>\n",
       "      <td>6</td>\n",
       "      <td>5</td>\n",
       "      <td>...</td>\n",
       "      <td>5</td>\n",
       "      <td>28</td>\n",
       "      <td>30</td>\n",
       "      <td>14</td>\n",
       "      <td>5</td>\n",
       "      <td>5</td>\n",
       "      <td>9</td>\n",
       "      <td>10</td>\n",
       "      <td>16</td>\n",
       "      <td>11</td>\n",
       "    </tr>\n",
       "    <tr>\n",
       "      <th>entertainment_media_count</th>\n",
       "      <td>0</td>\n",
       "      <td>0</td>\n",
       "      <td>0</td>\n",
       "      <td>1</td>\n",
       "      <td>4</td>\n",
       "      <td>3</td>\n",
       "      <td>0</td>\n",
       "      <td>1</td>\n",
       "      <td>0</td>\n",
       "      <td>0</td>\n",
       "      <td>...</td>\n",
       "      <td>2</td>\n",
       "      <td>7</td>\n",
       "      <td>14</td>\n",
       "      <td>6</td>\n",
       "      <td>1</td>\n",
       "      <td>2</td>\n",
       "      <td>2</td>\n",
       "      <td>7</td>\n",
       "      <td>8</td>\n",
       "      <td>1</td>\n",
       "    </tr>\n",
       "    <tr>\n",
       "      <th>safety_security_count</th>\n",
       "      <td>0</td>\n",
       "      <td>0</td>\n",
       "      <td>0</td>\n",
       "      <td>5</td>\n",
       "      <td>6</td>\n",
       "      <td>14</td>\n",
       "      <td>0</td>\n",
       "      <td>6</td>\n",
       "      <td>1</td>\n",
       "      <td>5</td>\n",
       "      <td>...</td>\n",
       "      <td>9</td>\n",
       "      <td>26</td>\n",
       "      <td>32</td>\n",
       "      <td>21</td>\n",
       "      <td>10</td>\n",
       "      <td>8</td>\n",
       "      <td>10</td>\n",
       "      <td>15</td>\n",
       "      <td>9</td>\n",
       "      <td>12</td>\n",
       "    </tr>\n",
       "    <tr>\n",
       "      <th>extras_count</th>\n",
       "      <td>0</td>\n",
       "      <td>0</td>\n",
       "      <td>0</td>\n",
       "      <td>1</td>\n",
       "      <td>0</td>\n",
       "      <td>7</td>\n",
       "      <td>0</td>\n",
       "      <td>0</td>\n",
       "      <td>1</td>\n",
       "      <td>1</td>\n",
       "      <td>...</td>\n",
       "      <td>1</td>\n",
       "      <td>9</td>\n",
       "      <td>17</td>\n",
       "      <td>9</td>\n",
       "      <td>1</td>\n",
       "      <td>1</td>\n",
       "      <td>2</td>\n",
       "      <td>3</td>\n",
       "      <td>2</td>\n",
       "      <td>4</td>\n",
       "    </tr>\n",
       "    <tr>\n",
       "      <th>short_desc_translated</th>\n",
       "      <td>CDi</td>\n",
       "      <td>350+</td>\n",
       "      <td>S 4Matic+ 8DCT</td>\n",
       "      <td>4Matic+ 7DCT</td>\n",
       "      <td>200CDI BE Line 4M 7DCT</td>\n",
       "      <td>Sp. Ed. Class Sports Coupe!TÜV N.!24 Mon. Weight</td>\n",
       "      <td>180D</td>\n",
       "      <td>7DCT</td>\n",
       "      <td>4MATIC</td>\n",
       "      <td>200CDI Autotronic</td>\n",
       "      <td>...</td>\n",
       "      <td>T8 Twin Inscription AWD Aut.</td>\n",
       "      <td>2.0*T6*AWD*Design*Geartronic*Full Options*led*</td>\n",
       "      <td>T6 AWD Geartronic R Design Vol!!</td>\n",
       "      <td>2.0 D2 Kinetic</td>\n",
       "      <td>2.5 T Momentum</td>\n",
       "      <td>T8 Twin Business Plus AWD Aut.</td>\n",
       "      <td>2.4i Momentum/ Airco/ NAP/ APK/ Electric Windows</td>\n",
       "      <td>1.6 D DRIVe Start/Stop design</td>\n",
       "      <td>T5 AUT(8) MOMENTUM BUSINESS SLIDING ROOF 360GR...</td>\n",
       "      <td>2.9 Executive G. NETTE AUTO! LEER! NAVI! CRUIS...</td>\n",
       "    </tr>\n",
       "  </tbody>\n",
       "</table>\n",
       "<p>47 rows × 24739 columns</p>\n",
       "</div>"
      ],
      "text/plain": [
       "                                                                       0      \\\n",
       "make_model                                               Mercedes Benz A 160   \n",
       "short_description                                                        CDi   \n",
       "make                                                           Mercedes Benz   \n",
       "location                                                                  ES   \n",
       "price                                                                  16950   \n",
       "body_type                                                            Compact   \n",
       "type                                                                    Used   \n",
       "doors                                                                      5   \n",
       "country_version                                                        Spain   \n",
       "warranty                                                                  24   \n",
       "mileage                                                             120200.0   \n",
       "gearbox                                                               Manual   \n",
       "fuel_type                                                             Diesel   \n",
       "colour                                                                 Black   \n",
       "paint                                                               Metallic   \n",
       "desc                       Precio Al Contado: 16950 Euros  Vehículo Con H...   \n",
       "seller                                                                Dealer   \n",
       "seats                                                                    NaN   \n",
       "power                                                                    NaN   \n",
       "engine_size                                                              NaN   \n",
       "gears                                                                    NaN   \n",
       "co_emissions                                                             NaN   \n",
       "manufacturer_colour                                                      NaN   \n",
       "drivetrain                                                               NaN   \n",
       "cylinders                                                                NaN   \n",
       "comfort_convenience                                                      NaN   \n",
       "entertainment_media                                                      NaN   \n",
       "safety_security                                                          NaN   \n",
       "extras                                                                   NaN   \n",
       "full_service_history                                                      No   \n",
       "non_smoker_vehicle                                                        No   \n",
       "emission_class                                                           NaN   \n",
       "emissions_sticker                                                        NaN   \n",
       "upholstery_colour                                                        NaN   \n",
       "upholstery                                                               NaN   \n",
       "production_date                                                          NaN   \n",
       "previous_owner                                                           NaN   \n",
       "energy_efficiency_class                                                  NaN   \n",
       "age                                                                      6.0   \n",
       "fuel_consumption_comb                                                    NaN   \n",
       "fuel_consumption_city                                                    NaN   \n",
       "fuel_consumption_country                                                 NaN   \n",
       "comfort_convenience_count                                                  0   \n",
       "entertainment_media_count                                                  0   \n",
       "safety_security_count                                                      0   \n",
       "extras_count                                                               0   \n",
       "short_desc_translated                                                    CDi   \n",
       "\n",
       "                                                                       1      \\\n",
       "make_model                                             Mercedes Benz EQE 350   \n",
       "short_description                                                       350+   \n",
       "make                                                           Mercedes Benz   \n",
       "location                                                                  ES   \n",
       "price                                                                  80900   \n",
       "body_type                                                            Compact   \n",
       "type                                                          Pre-registered   \n",
       "doors                                                                      4   \n",
       "country_version                                                        Spain   \n",
       "warranty                                                                  24   \n",
       "mileage                                                               5000.0   \n",
       "gearbox                                                            Automatic   \n",
       "fuel_type                                                           Electric   \n",
       "colour                                                                   NaN   \n",
       "paint                                                                    NaN   \n",
       "desc                       Precio Al Contado: 88900 Euros Auto ja S.A. - ...   \n",
       "seller                                                                Dealer   \n",
       "seats                                                                    5.0   \n",
       "power                                                                  215.0   \n",
       "engine_size                                                              1.0   \n",
       "gears                                                                    9.0   \n",
       "co_emissions                                                             0.0   \n",
       "manufacturer_colour                                          Negro Obsidiana   \n",
       "drivetrain                                                               NaN   \n",
       "cylinders                                                                NaN   \n",
       "comfort_convenience                                                      NaN   \n",
       "entertainment_media                                                      NaN   \n",
       "safety_security                                                          NaN   \n",
       "extras                                                                   NaN   \n",
       "full_service_history                                                      No   \n",
       "non_smoker_vehicle                                                        No   \n",
       "emission_class                                                           NaN   \n",
       "emissions_sticker                                                        NaN   \n",
       "upholstery_colour                                                        NaN   \n",
       "upholstery                                                               NaN   \n",
       "production_date                                                          NaN   \n",
       "previous_owner                                                           NaN   \n",
       "energy_efficiency_class                                                  NaN   \n",
       "age                                                                      0.0   \n",
       "fuel_consumption_comb                                                    NaN   \n",
       "fuel_consumption_city                                                    NaN   \n",
       "fuel_consumption_country                                                 NaN   \n",
       "comfort_convenience_count                                                  0   \n",
       "entertainment_media_count                                                  0   \n",
       "safety_security_count                                                      0   \n",
       "extras_count                                                               0   \n",
       "short_desc_translated                                                   350+   \n",
       "\n",
       "                                                                       2      \\\n",
       "make_model                                            Mercedes Benz A 45 AMG   \n",
       "short_description                                             S 4Matic+ 8DCT   \n",
       "make                                                           Mercedes Benz   \n",
       "location                                                                  ES   \n",
       "price                                                                  69900   \n",
       "body_type                                                            Compact   \n",
       "type                                                                    Used   \n",
       "doors                                                                      5   \n",
       "country_version                                                        Spain   \n",
       "warranty                                                                  12   \n",
       "mileage                                                              18900.0   \n",
       "gearbox                                                            Automatic   \n",
       "fuel_type                                                             Benzin   \n",
       "colour                                                                  Grey   \n",
       "paint                                                                    NaN   \n",
       "desc                       Gris Manufaktur Mountaingrau Magno LineaEstilo...   \n",
       "seller                                                                Dealer   \n",
       "seats                                                                    5.0   \n",
       "power                                                                  310.0   \n",
       "engine_size                                                           1991.0   \n",
       "gears                                                                    8.0   \n",
       "co_emissions                                                             NaN   \n",
       "manufacturer_colour                                       Mountaingrau magno   \n",
       "drivetrain                                                               4WD   \n",
       "cylinders                                                                4.0   \n",
       "comfort_convenience                                                      NaN   \n",
       "entertainment_media                                                      NaN   \n",
       "safety_security                                                          NaN   \n",
       "extras                                                                   NaN   \n",
       "full_service_history                                                      No   \n",
       "non_smoker_vehicle                                                        No   \n",
       "emission_class                                                           NaN   \n",
       "emissions_sticker                                                        NaN   \n",
       "upholstery_colour                                                        NaN   \n",
       "upholstery                                                               NaN   \n",
       "production_date                                                          NaN   \n",
       "previous_owner                                                           NaN   \n",
       "energy_efficiency_class                                                  NaN   \n",
       "age                                                                      2.0   \n",
       "fuel_consumption_comb                                                    8.4   \n",
       "fuel_consumption_city                                                   10.9   \n",
       "fuel_consumption_country                                                 5.8   \n",
       "comfort_convenience_count                                                  0   \n",
       "entertainment_media_count                                                  0   \n",
       "safety_security_count                                                      0   \n",
       "extras_count                                                               0   \n",
       "short_desc_translated                                         S 4Matic+ 8DCT   \n",
       "\n",
       "                                                                       3      \\\n",
       "make_model                                            Mercedes Benz A 35 AMG   \n",
       "short_description                                               4Matic+ 7DCT   \n",
       "make                                                           Mercedes Benz   \n",
       "location                                                                  ES   \n",
       "price                                                                  46990   \n",
       "body_type                                                            Compact   \n",
       "type                                                                    Used   \n",
       "doors                                                                      5   \n",
       "country_version                                                        Spain   \n",
       "warranty                                                                  12   \n",
       "mileage                                                              18995.0   \n",
       "gearbox                                                            Automatic   \n",
       "fuel_type                                                             Benzin   \n",
       "colour                                                                Yellow   \n",
       "paint                                                                    NaN   \n",
       "desc                       Precio Al Contado: 48990 Euros  Bonificacion P...   \n",
       "seller                                                                Dealer   \n",
       "seats                                                                    5.0   \n",
       "power                                                                  225.0   \n",
       "engine_size                                                           1991.0   \n",
       "gears                                                                    7.0   \n",
       "co_emissions                                                             NaN   \n",
       "manufacturer_colour                                             Amarillo Sol   \n",
       "drivetrain                                                               4WD   \n",
       "cylinders                                                                4.0   \n",
       "comfort_convenience        Air Conditioning, Automatic Climate Control, P...   \n",
       "entertainment_media                                                      Usb   \n",
       "safety_security            Abs, Central Door Lock, Driver-Side Airbag, El...   \n",
       "extras                                                           Sport seats   \n",
       "full_service_history                                                      No   \n",
       "non_smoker_vehicle                                                        No   \n",
       "emission_class                                                           NaN   \n",
       "emissions_sticker                                                        NaN   \n",
       "upholstery_colour                                                        NaN   \n",
       "upholstery                                                               NaN   \n",
       "production_date                                                          NaN   \n",
       "previous_owner                                                           NaN   \n",
       "energy_efficiency_class                                                  NaN   \n",
       "age                                                                      2.0   \n",
       "fuel_consumption_comb                                                    7.3   \n",
       "fuel_consumption_city                                                    9.3   \n",
       "fuel_consumption_country                                                 6.1   \n",
       "comfort_convenience_count                                                  4   \n",
       "entertainment_media_count                                                  1   \n",
       "safety_security_count                                                      5   \n",
       "extras_count                                                               1   \n",
       "short_desc_translated                                           4Matic+ 7DCT   \n",
       "\n",
       "                                                                       4      \\\n",
       "make_model                                            Mercedes Benz A 45 AMG   \n",
       "short_description                                     200CDI BE Line 4M 7DCT   \n",
       "make                                                           Mercedes Benz   \n",
       "location                                                                  ES   \n",
       "price                                                                  16800   \n",
       "body_type                                                            Compact   \n",
       "type                                                                    Used   \n",
       "doors                                                                      5   \n",
       "country_version                                                        Spain   \n",
       "warranty                                                                  12   \n",
       "mileage                                                             197000.0   \n",
       "gearbox                                                            Automatic   \n",
       "fuel_type                                                             Diesel   \n",
       "colour                                                                 White   \n",
       "paint                                                               Metallic   \n",
       "desc                       Precio Al Contado: 17400 Euros Vehículo En Per...   \n",
       "seller                                                                Dealer   \n",
       "seats                                                                    5.0   \n",
       "power                                                                  100.0   \n",
       "engine_size                                                           2143.0   \n",
       "gears                                                                    7.0   \n",
       "co_emissions                                                             NaN   \n",
       "manufacturer_colour                                                      NaN   \n",
       "drivetrain                                                               4WD   \n",
       "cylinders                                                                4.0   \n",
       "comfort_convenience        Air Conditioning, Electrical Side Mirrors, Mul...   \n",
       "entertainment_media                           Bluetooth, Cd Player, Mp3, Usb   \n",
       "safety_security            Abs, Central Door Lock, Driver-Side Airbag, El...   \n",
       "extras                                                                   NaN   \n",
       "full_service_history                                                      No   \n",
       "non_smoker_vehicle                                                        No   \n",
       "emission_class                                                           NaN   \n",
       "emissions_sticker                                                        NaN   \n",
       "upholstery_colour                                                        NaN   \n",
       "upholstery                                                               NaN   \n",
       "production_date                                                          NaN   \n",
       "previous_owner                                                           NaN   \n",
       "energy_efficiency_class                                                  NaN   \n",
       "age                                                                      7.0   \n",
       "fuel_consumption_comb                                                    4.9   \n",
       "fuel_consumption_city                                                    5.7   \n",
       "fuel_consumption_country                                                 4.4   \n",
       "comfort_convenience_count                                                  5   \n",
       "entertainment_media_count                                                  4   \n",
       "safety_security_count                                                      6   \n",
       "extras_count                                                               0   \n",
       "short_desc_translated                                 200CDI BE Line 4M 7DCT   \n",
       "\n",
       "                                                                       5      \\\n",
       "make_model                                               Mercedes Benz C 160   \n",
       "short_description              Sp. Ed. Klasse Sportcoupe!TÜV N.!24 Mon. Gew.   \n",
       "make                                                           Mercedes Benz   \n",
       "location                                                                  DE   \n",
       "price                                                                   4690   \n",
       "body_type                                                            Compact   \n",
       "type                                                                    Used   \n",
       "doors                                                                      3   \n",
       "country_version                                                      Germany   \n",
       "warranty                                                                 NaN   \n",
       "mileage                                                             165000.0   \n",
       "gearbox                                                               Manual   \n",
       "fuel_type                                                             Benzin   \n",
       "colour                                                                 Black   \n",
       "paint                                                               Metallic   \n",
       "desc                       Sonderausstattung:Panorama-Schiebedach Elektri...   \n",
       "seller                                                                Dealer   \n",
       "seats                                                                    4.0   \n",
       "power                                                                   90.0   \n",
       "engine_size                                                           1799.0   \n",
       "gears                                                                    6.0   \n",
       "co_emissions                                                           196.0   \n",
       "manufacturer_colour                                Diamant schwarz  metallic   \n",
       "drivetrain                                                              Rear   \n",
       "cylinders                                                                4.0   \n",
       "comfort_convenience        Air Conditioning, Armrest, Automatic Climate C...   \n",
       "entertainment_media                      Cd Player, On-Board Computer, Radio   \n",
       "safety_security            Abs, Bi-Xenon Headlights, Central Door Lock, D...   \n",
       "extras                     Alloy wheels (17\"), Catalytic Converter, Emerg...   \n",
       "full_service_history                                                     Yes   \n",
       "non_smoker_vehicle                                                       Yes   \n",
       "emission_class                                                        Euro 4   \n",
       "emissions_sticker                                                      Green   \n",
       "upholstery_colour                                                      Black   \n",
       "upholstery                                                             Cloth   \n",
       "production_date                                                          NaN   \n",
       "previous_owner                                                           NaN   \n",
       "energy_efficiency_class                                                  NaN   \n",
       "age                                                                     17.0   \n",
       "fuel_consumption_comb                                                    8.2   \n",
       "fuel_consumption_city                                                   11.6   \n",
       "fuel_consumption_country                                                 6.2   \n",
       "comfort_convenience_count                                                 14   \n",
       "entertainment_media_count                                                  3   \n",
       "safety_security_count                                                     14   \n",
       "extras_count                                                               7   \n",
       "short_desc_translated       Sp. Ed. Class Sports Coupe!TÜV N.!24 Mon. Weight   \n",
       "\n",
       "                                                                       6      \\\n",
       "make_model                                             Mercedes Benz CLA 180   \n",
       "short_description                                                       180D   \n",
       "make                                                           Mercedes Benz   \n",
       "location                                                                  ES   \n",
       "price                                                                  22550   \n",
       "body_type                                                            Compact   \n",
       "type                                                                    Used   \n",
       "doors                                                                      5   \n",
       "country_version                                                        Spain   \n",
       "warranty                                                                  12   \n",
       "mileage                                                              83339.0   \n",
       "gearbox                                                               Manual   \n",
       "fuel_type                                                             Diesel   \n",
       "colour                                                                Silver   \n",
       "paint                                                                    NaN   \n",
       "desc                       Precio Al Contado: 24900 Euros Liquidación Sep...   \n",
       "seller                                                                Dealer   \n",
       "seats                                                                    NaN   \n",
       "power                                                                    NaN   \n",
       "engine_size                                                              NaN   \n",
       "gears                                                                    NaN   \n",
       "co_emissions                                                             NaN   \n",
       "manufacturer_colour                                                      NaN   \n",
       "drivetrain                                                               NaN   \n",
       "cylinders                                                                NaN   \n",
       "comfort_convenience                                                      NaN   \n",
       "entertainment_media                                                      NaN   \n",
       "safety_security                                                          NaN   \n",
       "extras                                                                   NaN   \n",
       "full_service_history                                                      No   \n",
       "non_smoker_vehicle                                                        No   \n",
       "emission_class                                                           NaN   \n",
       "emissions_sticker                                                        NaN   \n",
       "upholstery_colour                                                        NaN   \n",
       "upholstery                                                               NaN   \n",
       "production_date                                                          NaN   \n",
       "previous_owner                                                           NaN   \n",
       "energy_efficiency_class                                                  NaN   \n",
       "age                                                                      4.0   \n",
       "fuel_consumption_comb                                                    NaN   \n",
       "fuel_consumption_city                                                    NaN   \n",
       "fuel_consumption_country                                                 NaN   \n",
       "comfort_convenience_count                                                  0   \n",
       "entertainment_media_count                                                  0   \n",
       "safety_security_count                                                      0   \n",
       "extras_count                                                               0   \n",
       "short_desc_translated                                                   180D   \n",
       "\n",
       "                                                                       7      \\\n",
       "make_model                                               Mercedes Benz A 220   \n",
       "short_description                                                       7DCT   \n",
       "make                                                           Mercedes Benz   \n",
       "location                                                                  ES   \n",
       "price                                                                  26900   \n",
       "body_type                                                            Compact   \n",
       "type                                                                    Used   \n",
       "doors                                                                      5   \n",
       "country_version                                                        Spain   \n",
       "warranty                                                                  24   \n",
       "mileage                                                              48900.0   \n",
       "gearbox                                                            Automatic   \n",
       "fuel_type                                                             Benzin   \n",
       "colour                                                                  Grey   \n",
       "paint                                                               Metallic   \n",
       "desc                       Precio Al Contado: 28900 Euros portunidad Espe...   \n",
       "seller                                                                Dealer   \n",
       "seats                                                                    5.0   \n",
       "power                                                                  140.0   \n",
       "engine_size                                                           1991.0   \n",
       "gears                                                                    7.0   \n",
       "co_emissions                                                             NaN   \n",
       "manufacturer_colour                                             Gris Montaña   \n",
       "drivetrain                                                             Front   \n",
       "cylinders                                                                4.0   \n",
       "comfort_convenience        Air Conditioning, Automatic Climate Control, P...   \n",
       "entertainment_media                                                      Usb   \n",
       "safety_security            Abs, Central Door Lock, Driver-Side Airbag, El...   \n",
       "extras                                                                   NaN   \n",
       "full_service_history                                                      No   \n",
       "non_smoker_vehicle                                                        No   \n",
       "emission_class                                                           NaN   \n",
       "emissions_sticker                                                        NaN   \n",
       "upholstery_colour                                                        NaN   \n",
       "upholstery                                                               NaN   \n",
       "production_date                                                          NaN   \n",
       "previous_owner                                                           NaN   \n",
       "energy_efficiency_class                                                  NaN   \n",
       "age                                                                      3.0   \n",
       "fuel_consumption_comb                                                    6.1   \n",
       "fuel_consumption_city                                                    8.1   \n",
       "fuel_consumption_country                                                 5.1   \n",
       "comfort_convenience_count                                                  4   \n",
       "entertainment_media_count                                                  1   \n",
       "safety_security_count                                                      6   \n",
       "extras_count                                                               0   \n",
       "short_desc_translated                                                   7DCT   \n",
       "\n",
       "                                                                       8      \\\n",
       "make_model                                            Mercedes Benz A 35 AMG   \n",
       "short_description                                                     4MATIC   \n",
       "make                                                           Mercedes Benz   \n",
       "location                                                                  BE   \n",
       "price                                                                  44999   \n",
       "body_type                                                            Compact   \n",
       "type                                                                    Used   \n",
       "doors                                                                      5   \n",
       "country_version                                                          NaN   \n",
       "warranty                                                                 NaN   \n",
       "mileage                                                              56876.0   \n",
       "gearbox                                                            Automatic   \n",
       "fuel_type                                                             Benzin   \n",
       "colour                                                                  Grey   \n",
       "paint                                                                    NaN   \n",
       "desc                       440 - Snelheidsregelaar Tempomat Met Variabele...   \n",
       "seller                                                                Dealer   \n",
       "seats                                                                    NaN   \n",
       "power                                                                  225.0   \n",
       "engine_size                                                           1991.0   \n",
       "gears                                                                    NaN   \n",
       "co_emissions                                                           168.0   \n",
       "manufacturer_colour                                                      NaN   \n",
       "drivetrain                                                               NaN   \n",
       "cylinders                                                                NaN   \n",
       "comfort_convenience        Multi-Function Steering Wheel, Navigation Syst...   \n",
       "entertainment_media                                                      NaN   \n",
       "safety_security                                    Emergency Brake Assistant   \n",
       "extras                                                         Sport package   \n",
       "full_service_history                                                      No   \n",
       "non_smoker_vehicle                                                        No   \n",
       "emission_class                                                        Euro 6   \n",
       "emissions_sticker                                                        NaN   \n",
       "upholstery_colour                                                      Black   \n",
       "upholstery                                                           Leather   \n",
       "production_date                                                       2019.0   \n",
       "previous_owner                                                           NaN   \n",
       "energy_efficiency_class                                                  NaN   \n",
       "age                                                                      3.0   \n",
       "fuel_consumption_comb                                                    NaN   \n",
       "fuel_consumption_city                                                    NaN   \n",
       "fuel_consumption_country                                                 NaN   \n",
       "comfort_convenience_count                                                  6   \n",
       "entertainment_media_count                                                  0   \n",
       "safety_security_count                                                      1   \n",
       "extras_count                                                               1   \n",
       "short_desc_translated                                                 4MATIC   \n",
       "\n",
       "                                                                       9      \\\n",
       "make_model                                               Mercedes Benz A 200   \n",
       "short_description                                          200CDI Autotronic   \n",
       "make                                                           Mercedes Benz   \n",
       "location                                                                  ES   \n",
       "price                                                                  23900   \n",
       "body_type                                                            Compact   \n",
       "type                                                                    Used   \n",
       "doors                                                                      5   \n",
       "country_version                                                        Spain   \n",
       "warranty                                                                  12   \n",
       "mileage                                                              21854.0   \n",
       "gearbox                                                            Automatic   \n",
       "fuel_type                                                             Diesel   \n",
       "colour                                                                 White   \n",
       "paint                                                                    NaN   \n",
       "desc                       Precio Al Contado: 25900 Euros  Extras  Equipa...   \n",
       "seller                                                                Dealer   \n",
       "seats                                                                    5.0   \n",
       "power                                                                  102.0   \n",
       "engine_size                                                           1991.0   \n",
       "gears                                                                    1.0   \n",
       "co_emissions                                                             NaN   \n",
       "manufacturer_colour                                    Blanco Cirro (sólido)   \n",
       "drivetrain                                                             Front   \n",
       "cylinders                                                                4.0   \n",
       "comfort_convenience        Air Conditioning, Automatic Climate Control, E...   \n",
       "entertainment_media                                                      NaN   \n",
       "safety_security            Abs, Central Door Lock, Driver-Side Airbag, El...   \n",
       "extras                                                          Alloy wheels   \n",
       "full_service_history                                                      No   \n",
       "non_smoker_vehicle                                                        No   \n",
       "emission_class                                                           NaN   \n",
       "emissions_sticker                                                        NaN   \n",
       "upholstery_colour                                                        NaN   \n",
       "upholstery                                                               NaN   \n",
       "production_date                                                          NaN   \n",
       "previous_owner                                                           NaN   \n",
       "energy_efficiency_class                                                  NaN   \n",
       "age                                                                      4.0   \n",
       "fuel_consumption_comb                                                    5.4   \n",
       "fuel_consumption_city                                                    6.9   \n",
       "fuel_consumption_country                                                 4.5   \n",
       "comfort_convenience_count                                                  5   \n",
       "entertainment_media_count                                                  0   \n",
       "safety_security_count                                                      5   \n",
       "extras_count                                                               1   \n",
       "short_desc_translated                                      200CDI Autotronic   \n",
       "\n",
       "                           ...  \\\n",
       "make_model                 ...   \n",
       "short_description          ...   \n",
       "make                       ...   \n",
       "location                   ...   \n",
       "price                      ...   \n",
       "body_type                  ...   \n",
       "type                       ...   \n",
       "doors                      ...   \n",
       "country_version            ...   \n",
       "warranty                   ...   \n",
       "mileage                    ...   \n",
       "gearbox                    ...   \n",
       "fuel_type                  ...   \n",
       "colour                     ...   \n",
       "paint                      ...   \n",
       "desc                       ...   \n",
       "seller                     ...   \n",
       "seats                      ...   \n",
       "power                      ...   \n",
       "engine_size                ...   \n",
       "gears                      ...   \n",
       "co_emissions               ...   \n",
       "manufacturer_colour        ...   \n",
       "drivetrain                 ...   \n",
       "cylinders                  ...   \n",
       "comfort_convenience        ...   \n",
       "entertainment_media        ...   \n",
       "safety_security            ...   \n",
       "extras                     ...   \n",
       "full_service_history       ...   \n",
       "non_smoker_vehicle         ...   \n",
       "emission_class             ...   \n",
       "emissions_sticker          ...   \n",
       "upholstery_colour          ...   \n",
       "upholstery                 ...   \n",
       "production_date            ...   \n",
       "previous_owner             ...   \n",
       "energy_efficiency_class    ...   \n",
       "age                        ...   \n",
       "fuel_consumption_comb      ...   \n",
       "fuel_consumption_city      ...   \n",
       "fuel_consumption_country   ...   \n",
       "comfort_convenience_count  ...   \n",
       "entertainment_media_count  ...   \n",
       "safety_security_count      ...   \n",
       "extras_count               ...   \n",
       "short_desc_translated      ...   \n",
       "\n",
       "                                                                       26850  \\\n",
       "make_model                                                         Volvo S90   \n",
       "short_description                               T8 Twin Inscription AWD Aut.   \n",
       "make                                                                   Volvo   \n",
       "location                                                                  ES   \n",
       "price                                                                  46500   \n",
       "body_type                                                              Sedan   \n",
       "type                                                                    Used   \n",
       "doors                                                                      4   \n",
       "country_version                                                        Spain   \n",
       "warranty                                                                  12   \n",
       "mileage                                                              14000.0   \n",
       "gearbox                                                            Automatic   \n",
       "fuel_type                                                                NaN   \n",
       "colour                                                                  Blue   \n",
       "paint                                                                    NaN   \n",
       "desc                       Precio Al Contado: 49990 Euros -Business Packs...   \n",
       "seller                                                                Dealer   \n",
       "seats                                                                    4.0   \n",
       "power                                                                  288.0   \n",
       "engine_size                                                           1969.0   \n",
       "gears                                                                    8.0   \n",
       "co_emissions                                                             NaN   \n",
       "manufacturer_colour                                               DEMIN BLUE   \n",
       "drivetrain                                                               4WD   \n",
       "cylinders                                                                4.0   \n",
       "comfort_convenience        Air Conditioning, Automatic Climate Control, M...   \n",
       "entertainment_media                                           Bluetooth, Usb   \n",
       "safety_security            Abs, Central Door Lock, Driver-Side Airbag, El...   \n",
       "extras                                                          Alloy wheels   \n",
       "full_service_history                                                      No   \n",
       "non_smoker_vehicle                                                        No   \n",
       "emission_class                                                           NaN   \n",
       "emissions_sticker                                                        NaN   \n",
       "upholstery_colour                                                        NaN   \n",
       "upholstery                                                               NaN   \n",
       "production_date                                                          NaN   \n",
       "previous_owner                                                           NaN   \n",
       "energy_efficiency_class                                                  NaN   \n",
       "age                                                                      3.0   \n",
       "fuel_consumption_comb                                                    1.9   \n",
       "fuel_consumption_city                                                    NaN   \n",
       "fuel_consumption_country                                                 NaN   \n",
       "comfort_convenience_count                                                  5   \n",
       "entertainment_media_count                                                  2   \n",
       "safety_security_count                                                      9   \n",
       "extras_count                                                               1   \n",
       "short_desc_translated                           T8 Twin Inscription AWD Aut.   \n",
       "\n",
       "                                                                       26851  \\\n",
       "make_model                                                         Volvo S60   \n",
       "short_description             2.0*T6*AWD*Design*Geartronic*Full Options*led*   \n",
       "make                                                                   Volvo   \n",
       "location                                                                  BE   \n",
       "price                                                                  33500   \n",
       "body_type                                                              Sedan   \n",
       "type                                                                    Used   \n",
       "doors                                                                      4   \n",
       "country_version                                                          NaN   \n",
       "warranty                                                                  12   \n",
       "mileage                                                              53000.0   \n",
       "gearbox                                                            Automatic   \n",
       "fuel_type                                                             Benzin   \n",
       "colour                                                                   Red   \n",
       "paint                                                               Metallic   \n",
       "desc                       Tres Belle Voiture Interieur Comme Exterieur R...   \n",
       "seller                                                                Dealer   \n",
       "seats                                                                    5.0   \n",
       "power                                                                  228.0   \n",
       "engine_size                                                           1969.0   \n",
       "gears                                                                    8.0   \n",
       "co_emissions                                                           168.0   \n",
       "manufacturer_colour                                                      NaN   \n",
       "drivetrain                                                               4WD   \n",
       "cylinders                                                                4.0   \n",
       "comfort_convenience        360° Camera, Air Conditioning, Armrest, Automa...   \n",
       "entertainment_media        Apple Carplay, Bluetooth, Digital Cockpit, Dig...   \n",
       "safety_security            Abs, Blind Spot Monitor, Central Door Lock, Ce...   \n",
       "extras                     Alloy wheels (19\"), Automatically dimming inte...   \n",
       "full_service_history                                                     Yes   \n",
       "non_smoker_vehicle                                                        No   \n",
       "emission_class                                                        Euro 6   \n",
       "emissions_sticker                                                        NaN   \n",
       "upholstery_colour                                                      Black   \n",
       "upholstery                                                           Leather   \n",
       "production_date                                                          NaN   \n",
       "previous_owner                                                           NaN   \n",
       "energy_efficiency_class                                                  NaN   \n",
       "age                                                                      3.0   \n",
       "fuel_consumption_comb                                                    7.4   \n",
       "fuel_consumption_city                                                    9.7   \n",
       "fuel_consumption_country                                                 6.1   \n",
       "comfort_convenience_count                                                 28   \n",
       "entertainment_media_count                                                  7   \n",
       "safety_security_count                                                     26   \n",
       "extras_count                                                               9   \n",
       "short_desc_translated         2.0*T6*AWD*Design*Geartronic*Full Options*led*   \n",
       "\n",
       "                                                                       26852  \\\n",
       "make_model                                                         Volvo S90   \n",
       "short_description                           T6 AWD Geartronic R Design Vol!!   \n",
       "make                                                                   Volvo   \n",
       "location                                                                  NL   \n",
       "price                                                                  38000   \n",
       "body_type                                                              Sedan   \n",
       "type                                                                    Used   \n",
       "doors                                                                      4   \n",
       "country_version                                                          NaN   \n",
       "warranty                                                                 NaN   \n",
       "mileage                                                              44873.0   \n",
       "gearbox                                                            Automatic   \n",
       "fuel_type                                                             Benzin   \n",
       "colour                                                                 Black   \n",
       "paint                                                               Metallic   \n",
       "desc                       Btw VerrekenbaarZeer Mooie Auto Met Vol pties ...   \n",
       "seller                                                        Private seller   \n",
       "seats                                                                    5.0   \n",
       "power                                                                  228.0   \n",
       "engine_size                                                           1969.0   \n",
       "gears                                                                    8.0   \n",
       "co_emissions                                                             NaN   \n",
       "manufacturer_colour                                                      NaN   \n",
       "drivetrain                                                               NaN   \n",
       "cylinders                                                                4.0   \n",
       "comfort_convenience        360° Camera, Air Conditioning, Armrest, Automa...   \n",
       "entertainment_media        Android Auto, Apple Carplay, Bluetooth, Cd Pla...   \n",
       "safety_security            Abs, Adaptive Cruise Control, Adaptive Headlig...   \n",
       "extras                     Alloy wheels (21\"), Ambient lighting, Automati...   \n",
       "full_service_history                                                     Yes   \n",
       "non_smoker_vehicle                                                       Yes   \n",
       "emission_class                                                        Euro 6   \n",
       "emissions_sticker                                                        NaN   \n",
       "upholstery_colour                                                      Black   \n",
       "upholstery                                                           Leather   \n",
       "production_date                                                          NaN   \n",
       "previous_owner                                                           1.0   \n",
       "energy_efficiency_class                                                  NaN   \n",
       "age                                                                      4.0   \n",
       "fuel_consumption_comb                                                    7.6   \n",
       "fuel_consumption_city                                                    9.8   \n",
       "fuel_consumption_country                                                 6.4   \n",
       "comfort_convenience_count                                                 30   \n",
       "entertainment_media_count                                                 14   \n",
       "safety_security_count                                                     32   \n",
       "extras_count                                                              17   \n",
       "short_desc_translated                       T6 AWD Geartronic R Design Vol!!   \n",
       "\n",
       "                                                                       26855  \\\n",
       "make_model                                                         Volvo V40   \n",
       "short_description                                             2.0 D2 Kinetic   \n",
       "make                                                                   Volvo   \n",
       "location                                                                  BE   \n",
       "price                                                                  13000   \n",
       "body_type                                                              Sedan   \n",
       "type                                                                    Used   \n",
       "doors                                                                      5   \n",
       "country_version                                                          NaN   \n",
       "warranty                                                                 NaN   \n",
       "mileage                                                             114000.0   \n",
       "gearbox                                                               Manual   \n",
       "fuel_type                                                             Diesel   \n",
       "colour                                                                  Grey   \n",
       "paint                                                               Metallic   \n",
       "desc                       Volvo V40 Kinetic D2. Kmstand: 114000. 2De Eig...   \n",
       "seller                                                        Private seller   \n",
       "seats                                                                    5.0   \n",
       "power                                                                   88.0   \n",
       "engine_size                                                           1969.0   \n",
       "gears                                                                    6.0   \n",
       "co_emissions                                                            94.0   \n",
       "manufacturer_colour                                                      NaN   \n",
       "drivetrain                                                             Front   \n",
       "cylinders                                                                4.0   \n",
       "comfort_convenience        Air Conditioning, Armrest, Automatic Climate C...   \n",
       "entertainment_media        Bluetooth, Hands-Free Equipment, On-Board Comp...   \n",
       "safety_security            Abs, Alarm System, Central Door Lock With Remo...   \n",
       "extras                     All season tyres, Ambient lighting, Cargo barr...   \n",
       "full_service_history                                                     Yes   \n",
       "non_smoker_vehicle                                                        No   \n",
       "emission_class                                                        Euro 6   \n",
       "emissions_sticker                                                        NaN   \n",
       "upholstery_colour                                                      Black   \n",
       "upholstery                                                             Cloth   \n",
       "production_date                                                          NaN   \n",
       "previous_owner                                                           1.0   \n",
       "energy_efficiency_class                                                  NaN   \n",
       "age                                                                      4.0   \n",
       "fuel_consumption_comb                                                    3.6   \n",
       "fuel_consumption_city                                                    4.0   \n",
       "fuel_consumption_country                                                 3.3   \n",
       "comfort_convenience_count                                                 14   \n",
       "entertainment_media_count                                                  6   \n",
       "safety_security_count                                                     21   \n",
       "extras_count                                                               9   \n",
       "short_desc_translated                                         2.0 D2 Kinetic   \n",
       "\n",
       "                                                                       26856  \\\n",
       "make_model                                                         Volvo S60   \n",
       "short_description                                             2.5 T Momentum   \n",
       "make                                                                   Volvo   \n",
       "location                                                                  ES   \n",
       "price                                                                   4999   \n",
       "body_type                                                              Sedan   \n",
       "type                                                                    Used   \n",
       "doors                                                                      4   \n",
       "country_version                                                        Spain   \n",
       "warranty                                                                  12   \n",
       "mileage                                                             166512.0   \n",
       "gearbox                                                               Manual   \n",
       "fuel_type                                                             Benzin   \n",
       "colour                                                                 Black   \n",
       "paint                                                                    NaN   \n",
       "desc                       Precio Al Contado: 4999 Euros %Back To School%...   \n",
       "seller                                                                Dealer   \n",
       "seats                                                                    5.0   \n",
       "power                                                                  154.0   \n",
       "engine_size                                                           2521.0   \n",
       "gears                                                                    5.0   \n",
       "co_emissions                                                             NaN   \n",
       "manufacturer_colour                                                    Negro   \n",
       "drivetrain                                                             Front   \n",
       "cylinders                                                                5.0   \n",
       "comfort_convenience        Air Conditioning, Automatic Climate Control, E...   \n",
       "entertainment_media                                        On-Board Computer   \n",
       "safety_security            Abs, Central Door Lock, Driver-Side Airbag, El...   \n",
       "extras                                                          Alloy wheels   \n",
       "full_service_history                                                      No   \n",
       "non_smoker_vehicle                                                        No   \n",
       "emission_class                                                           NaN   \n",
       "emissions_sticker                                                        NaN   \n",
       "upholstery_colour                                                        NaN   \n",
       "upholstery                                                               NaN   \n",
       "production_date                                                          NaN   \n",
       "previous_owner                                                           NaN   \n",
       "energy_efficiency_class                                                  NaN   \n",
       "age                                                                     18.0   \n",
       "fuel_consumption_comb                                                    9.1   \n",
       "fuel_consumption_city                                                   12.9   \n",
       "fuel_consumption_country                                                 6.9   \n",
       "comfort_convenience_count                                                  5   \n",
       "entertainment_media_count                                                  1   \n",
       "safety_security_count                                                     10   \n",
       "extras_count                                                               1   \n",
       "short_desc_translated                                         2.5 T Momentum   \n",
       "\n",
       "                                                                       26857  \\\n",
       "make_model                                                         Volvo S90   \n",
       "short_description                             T8 Twin Business Plus AWD Aut.   \n",
       "make                                                                   Volvo   \n",
       "location                                                                  ES   \n",
       "price                                                                  37600   \n",
       "body_type                                                              Sedan   \n",
       "type                                                                    Used   \n",
       "doors                                                                      4   \n",
       "country_version                                                        Spain   \n",
       "warranty                                                                  12   \n",
       "mileage                                                              40345.0   \n",
       "gearbox                                                            Automatic   \n",
       "fuel_type                                                                NaN   \n",
       "colour                                                                 Black   \n",
       "paint                                                                    NaN   \n",
       "desc                       Precio Al Contado: 41400 Euros s Presento Esta...   \n",
       "seller                                                                Dealer   \n",
       "seats                                                                    4.0   \n",
       "power                                                                  288.0   \n",
       "engine_size                                                           1969.0   \n",
       "gears                                                                    8.0   \n",
       "co_emissions                                                             NaN   \n",
       "manufacturer_colour                                                      NaN   \n",
       "drivetrain                                                               4WD   \n",
       "cylinders                                                                4.0   \n",
       "comfort_convenience        Air Conditioning, Automatic Climate Control, M...   \n",
       "entertainment_media                                           Bluetooth, Usb   \n",
       "safety_security            Abs, Central Door Lock, Driver-Side Airbag, El...   \n",
       "extras                                                          Alloy wheels   \n",
       "full_service_history                                                      No   \n",
       "non_smoker_vehicle                                                        No   \n",
       "emission_class                                                           NaN   \n",
       "emissions_sticker                                                        NaN   \n",
       "upholstery_colour                                                        NaN   \n",
       "upholstery                                                               NaN   \n",
       "production_date                                                          NaN   \n",
       "previous_owner                                                           NaN   \n",
       "energy_efficiency_class                                                  NaN   \n",
       "age                                                                      3.0   \n",
       "fuel_consumption_comb                                                    2.0   \n",
       "fuel_consumption_city                                                    NaN   \n",
       "fuel_consumption_country                                                 NaN   \n",
       "comfort_convenience_count                                                  5   \n",
       "entertainment_media_count                                                  2   \n",
       "safety_security_count                                                      8   \n",
       "extras_count                                                               1   \n",
       "short_desc_translated                         T8 Twin Business Plus AWD Aut.   \n",
       "\n",
       "                                                                       26858  \\\n",
       "make_model                                                         Volvo S40   \n",
       "short_description                2.4i Momentum/ Airco/ NAP/ APK/ Elek. Ramen   \n",
       "make                                                                   Volvo   \n",
       "location                                                                  NL   \n",
       "price                                                                   5499   \n",
       "body_type                                                              Sedan   \n",
       "type                                                                    Used   \n",
       "doors                                                                      4   \n",
       "country_version                                                          NaN   \n",
       "warranty                                                                 NaN   \n",
       "mileage                                                             145000.0   \n",
       "gearbox                                                            Automatic   \n",
       "fuel_type                                                             Benzin   \n",
       "colour                                                                  Grey   \n",
       "paint                                                                    NaN   \n",
       "desc                       Een Goed Rijdende Auto Met Apk  Nap  Elektrisc...   \n",
       "seller                                                                Dealer   \n",
       "seats                                                                    5.0   \n",
       "power                                                                  125.0   \n",
       "engine_size                                                           2435.0   \n",
       "gears                                                                    5.0   \n",
       "co_emissions                                                           217.0   \n",
       "manufacturer_colour                                                    Grijs   \n",
       "drivetrain                                                             Front   \n",
       "cylinders                                                                5.0   \n",
       "comfort_convenience        Air Conditioning, Armrest, Automatic Climate C...   \n",
       "entertainment_media                                 On-Board Computer, Radio   \n",
       "safety_security            Abs, Central Door Lock, Central Door Lock With...   \n",
       "extras                                     Alloy wheels (16\"), Trailer hitch   \n",
       "full_service_history                                                     Yes   \n",
       "non_smoker_vehicle                                                        No   \n",
       "emission_class                                                        Euro 4   \n",
       "emissions_sticker                                                        NaN   \n",
       "upholstery_colour                                                        NaN   \n",
       "upholstery                                                               NaN   \n",
       "production_date                                                          NaN   \n",
       "previous_owner                                                           NaN   \n",
       "energy_efficiency_class                                                  NaN   \n",
       "age                                                                     18.0   \n",
       "fuel_consumption_comb                                                    9.1   \n",
       "fuel_consumption_city                                                   13.2   \n",
       "fuel_consumption_country                                                 6.7   \n",
       "comfort_convenience_count                                                  9   \n",
       "entertainment_media_count                                                  2   \n",
       "safety_security_count                                                     10   \n",
       "extras_count                                                               2   \n",
       "short_desc_translated       2.4i Momentum/ Airco/ NAP/ APK/ Electric Windows   \n",
       "\n",
       "                                                                       26859  \\\n",
       "make_model                                                         Volvo C30   \n",
       "short_description                              1.6 D DRIVe Start/Stop design   \n",
       "make                                                                   Volvo   \n",
       "location                                                                  BE   \n",
       "price                                                                   7300   \n",
       "body_type                                                              Sedan   \n",
       "type                                                                    Used   \n",
       "doors                                                                      3   \n",
       "country_version                                                      Belgium   \n",
       "warranty                                                                  13   \n",
       "mileage                                                              96000.0   \n",
       "gearbox                                                               Manual   \n",
       "fuel_type                                                             Diesel   \n",
       "colour                                                                  Grey   \n",
       "paint                                                               Metallic   \n",
       "desc                        Volvo C30 2011 Tres Propre En Parfait Etat Av...   \n",
       "seller                                                                Dealer   \n",
       "seats                                                                    4.0   \n",
       "power                                                                   84.0   \n",
       "engine_size                                                           1560.0   \n",
       "gears                                                                    6.0   \n",
       "co_emissions                                                            99.0   \n",
       "manufacturer_colour                                                      NaN   \n",
       "drivetrain                                                             Front   \n",
       "cylinders                                                                4.0   \n",
       "comfort_convenience        Air Conditioning, Armrest, Automatic Climate C...   \n",
       "entertainment_media        Bluetooth, Cd Player, Hands-Free Equipment, Mp...   \n",
       "safety_security            Abs, Alarm System, Central Door Lock With Remo...   \n",
       "extras                     Alloy wheels, Automatically dimming interior m...   \n",
       "full_service_history                                                     Yes   \n",
       "non_smoker_vehicle                                                        No   \n",
       "emission_class                                                        Euro 5   \n",
       "emissions_sticker                                                        NaN   \n",
       "upholstery_colour                                                      Black   \n",
       "upholstery                                                               NaN   \n",
       "production_date                                                          NaN   \n",
       "previous_owner                                                           1.0   \n",
       "energy_efficiency_class                                                  NaN   \n",
       "age                                                                     11.0   \n",
       "fuel_consumption_comb                                                    3.8   \n",
       "fuel_consumption_city                                                    4.3   \n",
       "fuel_consumption_country                                                 3.5   \n",
       "comfort_convenience_count                                                 10   \n",
       "entertainment_media_count                                                  7   \n",
       "safety_security_count                                                     15   \n",
       "extras_count                                                               3   \n",
       "short_desc_translated                          1.6 D DRIVe Start/Stop design   \n",
       "\n",
       "                                                                       26860  \\\n",
       "make_model                                                         Volvo S90   \n",
       "short_description          T5 AUT(8) MOMENTUM BUSINESS SCHUIFDAK 360GR CA...   \n",
       "make                                                                   Volvo   \n",
       "location                                                                  NL   \n",
       "price                                                                  29900   \n",
       "body_type                                                              Sedan   \n",
       "type                                                                    Used   \n",
       "doors                                                                      4   \n",
       "country_version                                                          NaN   \n",
       "warranty                                                                  12   \n",
       "mileage                                                              94343.0   \n",
       "gearbox                                                            Automatic   \n",
       "fuel_type                                                             Benzin   \n",
       "colour                                                                  Blue   \n",
       "paint                                                               Metallic   \n",
       "desc                       Bekijk Deze Auto In Unieke 360 Graden Presenta...   \n",
       "seller                                                                Dealer   \n",
       "seats                                                                    5.0   \n",
       "power                                                                  187.0   \n",
       "engine_size                                                           1969.0   \n",
       "gears                                                                    8.0   \n",
       "co_emissions                                                           149.0   \n",
       "manufacturer_colour                           Denim Blue metallic (blauw met   \n",
       "drivetrain                                                               NaN   \n",
       "cylinders                                                                4.0   \n",
       "comfort_convenience        Air Conditioning, Armrest, Automatic Climate C...   \n",
       "entertainment_media        Android Auto, Apple Carplay, Bluetooth, Hands-...   \n",
       "safety_security            Adaptive Cruise Control, Adaptive Headlights, ...   \n",
       "extras                     Alloy wheels (18\"), Automatically dimming inte...   \n",
       "full_service_history                                                     Yes   \n",
       "non_smoker_vehicle                                                        No   \n",
       "emission_class                                                        Euro 6   \n",
       "emissions_sticker                                                        NaN   \n",
       "upholstery_colour                                                      Other   \n",
       "upholstery                                                           Leather   \n",
       "production_date                                                          NaN   \n",
       "previous_owner                                                           NaN   \n",
       "energy_efficiency_class                                                  NaN   \n",
       "age                                                                      5.0   \n",
       "fuel_consumption_comb                                                    6.5   \n",
       "fuel_consumption_city                                                    8.6   \n",
       "fuel_consumption_country                                                 5.3   \n",
       "comfort_convenience_count                                                 16   \n",
       "entertainment_media_count                                                  8   \n",
       "safety_security_count                                                      9   \n",
       "extras_count                                                               2   \n",
       "short_desc_translated      T5 AUT(8) MOMENTUM BUSINESS SLIDING ROOF 360GR...   \n",
       "\n",
       "                                                                       26861  \n",
       "make_model                                                         Volvo S80  \n",
       "short_description          2.9 Executive G. NETTE AUTO! LEER! NAVI! CRUIS...  \n",
       "make                                                                   Volvo  \n",
       "location                                                                  NL  \n",
       "price                                                                   4440  \n",
       "body_type                                                              Sedan  \n",
       "type                                                                    Used  \n",
       "doors                                                                      4  \n",
       "country_version                                                          NaN  \n",
       "warranty                                                                 NaN  \n",
       "mileage                                                             230047.0  \n",
       "gearbox                                                            Automatic  \n",
       "fuel_type                                                             Benzin  \n",
       "colour                                                                  Grey  \n",
       "paint                                                                    NaN  \n",
       "desc                       Youngtimer Bedrijfsinformatieneem Voor U Wilt ...  \n",
       "seller                                                                Dealer  \n",
       "seats                                                                    5.0  \n",
       "power                                                                  147.0  \n",
       "engine_size                                                           2922.0  \n",
       "gears                                                                    NaN  \n",
       "co_emissions                                                           251.0  \n",
       "manufacturer_colour                                                    Grijs  \n",
       "drivetrain                                                             Front  \n",
       "cylinders                                                                6.0  \n",
       "comfort_convenience        Air Conditioning, Armrest, Cruise Control, Ele...  \n",
       "entertainment_media                                        On-Board Computer  \n",
       "safety_security            Abs, Alarm System, Central Door Lock, Central ...  \n",
       "extras                     Alloy wheels, Automatically dimming interior m...  \n",
       "full_service_history                                                      No  \n",
       "non_smoker_vehicle                                                        No  \n",
       "emission_class                                                        Euro 3  \n",
       "emissions_sticker                                                        NaN  \n",
       "upholstery_colour                                                      Beige  \n",
       "upholstery                                                           Leather  \n",
       "production_date                                                          NaN  \n",
       "previous_owner                                                           5.0  \n",
       "energy_efficiency_class                                                  NaN  \n",
       "age                                                                     20.0  \n",
       "fuel_consumption_comb                                                   10.4  \n",
       "fuel_consumption_city                                                   15.3  \n",
       "fuel_consumption_country                                                 7.6  \n",
       "comfort_convenience_count                                                 11  \n",
       "entertainment_media_count                                                  1  \n",
       "safety_security_count                                                     12  \n",
       "extras_count                                                               4  \n",
       "short_desc_translated      2.9 Executive G. NETTE AUTO! LEER! NAVI! CRUIS...  \n",
       "\n",
       "[47 rows x 24739 columns]"
      ]
     },
     "execution_count": 209,
     "metadata": {},
     "output_type": "execute_result"
    }
   ],
   "source": [
    "df.T"
   ]
  },
  {
   "cell_type": "markdown",
   "metadata": {},
   "source": [
    "## Numerik featurelar"
   ]
  },
  {
   "cell_type": "code",
   "execution_count": 210,
   "metadata": {},
   "outputs": [
    {
     "data": {
      "text/html": [
       "<div>\n",
       "<style scoped>\n",
       "    .dataframe tbody tr th:only-of-type {\n",
       "        vertical-align: middle;\n",
       "    }\n",
       "\n",
       "    .dataframe tbody tr th {\n",
       "        vertical-align: top;\n",
       "    }\n",
       "\n",
       "    .dataframe thead th {\n",
       "        text-align: right;\n",
       "    }\n",
       "</style>\n",
       "<table border=\"1\" class=\"dataframe\">\n",
       "  <thead>\n",
       "    <tr style=\"text-align: right;\">\n",
       "      <th></th>\n",
       "      <th>price</th>\n",
       "      <th>mileage</th>\n",
       "      <th>seats</th>\n",
       "      <th>power</th>\n",
       "      <th>engine_size</th>\n",
       "      <th>gears</th>\n",
       "      <th>co_emissions</th>\n",
       "      <th>cylinders</th>\n",
       "      <th>production_date</th>\n",
       "      <th>previous_owner</th>\n",
       "      <th>age</th>\n",
       "      <th>fuel_consumption_comb</th>\n",
       "      <th>fuel_consumption_city</th>\n",
       "      <th>fuel_consumption_country</th>\n",
       "      <th>comfort_convenience_count</th>\n",
       "      <th>entertainment_media_count</th>\n",
       "      <th>safety_security_count</th>\n",
       "      <th>extras_count</th>\n",
       "    </tr>\n",
       "  </thead>\n",
       "  <tbody>\n",
       "    <tr>\n",
       "      <th>price</th>\n",
       "      <td>1.000000</td>\n",
       "      <td>-0.310560</td>\n",
       "      <td>-0.030712</td>\n",
       "      <td>0.671012</td>\n",
       "      <td>0.328009</td>\n",
       "      <td>0.327767</td>\n",
       "      <td>0.083367</td>\n",
       "      <td>0.410899</td>\n",
       "      <td>0.134636</td>\n",
       "      <td>-0.181975</td>\n",
       "      <td>-0.152235</td>\n",
       "      <td>0.211793</td>\n",
       "      <td>0.295676</td>\n",
       "      <td>0.351574</td>\n",
       "      <td>0.272238</td>\n",
       "      <td>0.228764</td>\n",
       "      <td>0.224410</td>\n",
       "      <td>0.221567</td>\n",
       "    </tr>\n",
       "    <tr>\n",
       "      <th>mileage</th>\n",
       "      <td>-0.310560</td>\n",
       "      <td>1.000000</td>\n",
       "      <td>-0.102963</td>\n",
       "      <td>-0.093178</td>\n",
       "      <td>0.087738</td>\n",
       "      <td>-0.102849</td>\n",
       "      <td>0.075297</td>\n",
       "      <td>0.110405</td>\n",
       "      <td>-0.444502</td>\n",
       "      <td>0.415059</td>\n",
       "      <td>0.464791</td>\n",
       "      <td>0.102610</td>\n",
       "      <td>0.088745</td>\n",
       "      <td>0.056703</td>\n",
       "      <td>-0.267746</td>\n",
       "      <td>-0.322403</td>\n",
       "      <td>-0.297785</td>\n",
       "      <td>-0.186864</td>\n",
       "    </tr>\n",
       "    <tr>\n",
       "      <th>seats</th>\n",
       "      <td>-0.030712</td>\n",
       "      <td>-0.102963</td>\n",
       "      <td>1.000000</td>\n",
       "      <td>-0.167498</td>\n",
       "      <td>-0.232676</td>\n",
       "      <td>0.083052</td>\n",
       "      <td>-0.121972</td>\n",
       "      <td>-0.255880</td>\n",
       "      <td>0.167633</td>\n",
       "      <td>-0.185004</td>\n",
       "      <td>-0.345479</td>\n",
       "      <td>-0.281155</td>\n",
       "      <td>-0.361482</td>\n",
       "      <td>-0.289646</td>\n",
       "      <td>0.215804</td>\n",
       "      <td>0.170533</td>\n",
       "      <td>0.226376</td>\n",
       "      <td>0.090091</td>\n",
       "    </tr>\n",
       "    <tr>\n",
       "      <th>power</th>\n",
       "      <td>0.671012</td>\n",
       "      <td>-0.093178</td>\n",
       "      <td>-0.167498</td>\n",
       "      <td>1.000000</td>\n",
       "      <td>0.579311</td>\n",
       "      <td>0.379937</td>\n",
       "      <td>0.184069</td>\n",
       "      <td>0.687209</td>\n",
       "      <td>0.071148</td>\n",
       "      <td>-0.016909</td>\n",
       "      <td>-0.052178</td>\n",
       "      <td>0.450856</td>\n",
       "      <td>0.613459</td>\n",
       "      <td>0.592608</td>\n",
       "      <td>0.309260</td>\n",
       "      <td>0.207177</td>\n",
       "      <td>0.217331</td>\n",
       "      <td>0.294975</td>\n",
       "    </tr>\n",
       "    <tr>\n",
       "      <th>engine_size</th>\n",
       "      <td>0.328009</td>\n",
       "      <td>0.087738</td>\n",
       "      <td>-0.232676</td>\n",
       "      <td>0.579311</td>\n",
       "      <td>1.000000</td>\n",
       "      <td>0.227190</td>\n",
       "      <td>0.222250</td>\n",
       "      <td>0.786638</td>\n",
       "      <td>-0.103296</td>\n",
       "      <td>0.084768</td>\n",
       "      <td>0.150558</td>\n",
       "      <td>0.360049</td>\n",
       "      <td>0.440899</td>\n",
       "      <td>0.408364</td>\n",
       "      <td>0.095497</td>\n",
       "      <td>0.032912</td>\n",
       "      <td>0.036767</td>\n",
       "      <td>0.123326</td>\n",
       "    </tr>\n",
       "    <tr>\n",
       "      <th>gears</th>\n",
       "      <td>0.327767</td>\n",
       "      <td>-0.102849</td>\n",
       "      <td>0.083052</td>\n",
       "      <td>0.379937</td>\n",
       "      <td>0.227190</td>\n",
       "      <td>1.000000</td>\n",
       "      <td>0.069035</td>\n",
       "      <td>0.225695</td>\n",
       "      <td>0.119855</td>\n",
       "      <td>-0.107530</td>\n",
       "      <td>-0.235898</td>\n",
       "      <td>0.090555</td>\n",
       "      <td>0.106154</td>\n",
       "      <td>0.127167</td>\n",
       "      <td>0.326550</td>\n",
       "      <td>0.223217</td>\n",
       "      <td>0.268153</td>\n",
       "      <td>0.240107</td>\n",
       "    </tr>\n",
       "    <tr>\n",
       "      <th>co_emissions</th>\n",
       "      <td>0.083367</td>\n",
       "      <td>0.075297</td>\n",
       "      <td>-0.121972</td>\n",
       "      <td>0.184069</td>\n",
       "      <td>0.222250</td>\n",
       "      <td>0.069035</td>\n",
       "      <td>1.000000</td>\n",
       "      <td>0.184559</td>\n",
       "      <td>-0.032681</td>\n",
       "      <td>0.046524</td>\n",
       "      <td>0.105048</td>\n",
       "      <td>0.207792</td>\n",
       "      <td>0.216334</td>\n",
       "      <td>0.203835</td>\n",
       "      <td>0.002888</td>\n",
       "      <td>-0.011379</td>\n",
       "      <td>-0.017596</td>\n",
       "      <td>0.032820</td>\n",
       "    </tr>\n",
       "    <tr>\n",
       "      <th>cylinders</th>\n",
       "      <td>0.410899</td>\n",
       "      <td>0.110405</td>\n",
       "      <td>-0.255880</td>\n",
       "      <td>0.687209</td>\n",
       "      <td>0.786638</td>\n",
       "      <td>0.225695</td>\n",
       "      <td>0.184559</td>\n",
       "      <td>1.000000</td>\n",
       "      <td>-0.120129</td>\n",
       "      <td>0.091576</td>\n",
       "      <td>0.223454</td>\n",
       "      <td>0.492340</td>\n",
       "      <td>0.639746</td>\n",
       "      <td>0.602787</td>\n",
       "      <td>0.056954</td>\n",
       "      <td>-0.017678</td>\n",
       "      <td>-0.015268</td>\n",
       "      <td>0.077285</td>\n",
       "    </tr>\n",
       "    <tr>\n",
       "      <th>production_date</th>\n",
       "      <td>0.134636</td>\n",
       "      <td>-0.444502</td>\n",
       "      <td>0.167633</td>\n",
       "      <td>0.071148</td>\n",
       "      <td>-0.103296</td>\n",
       "      <td>0.119855</td>\n",
       "      <td>-0.032681</td>\n",
       "      <td>-0.120129</td>\n",
       "      <td>1.000000</td>\n",
       "      <td>-0.396915</td>\n",
       "      <td>-0.952849</td>\n",
       "      <td>-0.182366</td>\n",
       "      <td>-0.138993</td>\n",
       "      <td>-0.065077</td>\n",
       "      <td>0.402469</td>\n",
       "      <td>0.419882</td>\n",
       "      <td>0.454476</td>\n",
       "      <td>0.268305</td>\n",
       "    </tr>\n",
       "    <tr>\n",
       "      <th>previous_owner</th>\n",
       "      <td>-0.181975</td>\n",
       "      <td>0.415059</td>\n",
       "      <td>-0.185004</td>\n",
       "      <td>-0.016909</td>\n",
       "      <td>0.084768</td>\n",
       "      <td>-0.107530</td>\n",
       "      <td>0.046524</td>\n",
       "      <td>0.091576</td>\n",
       "      <td>-0.396915</td>\n",
       "      <td>1.000000</td>\n",
       "      <td>0.388193</td>\n",
       "      <td>0.145212</td>\n",
       "      <td>0.148876</td>\n",
       "      <td>0.113922</td>\n",
       "      <td>-0.241788</td>\n",
       "      <td>-0.289955</td>\n",
       "      <td>-0.271558</td>\n",
       "      <td>-0.140969</td>\n",
       "    </tr>\n",
       "    <tr>\n",
       "      <th>age</th>\n",
       "      <td>-0.152235</td>\n",
       "      <td>0.464791</td>\n",
       "      <td>-0.345479</td>\n",
       "      <td>-0.052178</td>\n",
       "      <td>0.150558</td>\n",
       "      <td>-0.235898</td>\n",
       "      <td>0.105048</td>\n",
       "      <td>0.223454</td>\n",
       "      <td>-0.952849</td>\n",
       "      <td>0.388193</td>\n",
       "      <td>1.000000</td>\n",
       "      <td>0.284263</td>\n",
       "      <td>0.320510</td>\n",
       "      <td>0.290088</td>\n",
       "      <td>-0.398820</td>\n",
       "      <td>-0.397978</td>\n",
       "      <td>-0.430702</td>\n",
       "      <td>-0.239782</td>\n",
       "    </tr>\n",
       "    <tr>\n",
       "      <th>fuel_consumption_comb</th>\n",
       "      <td>0.211793</td>\n",
       "      <td>0.102610</td>\n",
       "      <td>-0.281155</td>\n",
       "      <td>0.450856</td>\n",
       "      <td>0.360049</td>\n",
       "      <td>0.090555</td>\n",
       "      <td>0.207792</td>\n",
       "      <td>0.492340</td>\n",
       "      <td>-0.182366</td>\n",
       "      <td>0.145212</td>\n",
       "      <td>0.284263</td>\n",
       "      <td>1.000000</td>\n",
       "      <td>0.642104</td>\n",
       "      <td>0.602490</td>\n",
       "      <td>0.014316</td>\n",
       "      <td>-0.030757</td>\n",
       "      <td>-0.029704</td>\n",
       "      <td>0.064066</td>\n",
       "    </tr>\n",
       "    <tr>\n",
       "      <th>fuel_consumption_city</th>\n",
       "      <td>0.295676</td>\n",
       "      <td>0.088745</td>\n",
       "      <td>-0.361482</td>\n",
       "      <td>0.613459</td>\n",
       "      <td>0.440899</td>\n",
       "      <td>0.106154</td>\n",
       "      <td>0.216334</td>\n",
       "      <td>0.639746</td>\n",
       "      <td>-0.138993</td>\n",
       "      <td>0.148876</td>\n",
       "      <td>0.320510</td>\n",
       "      <td>0.642104</td>\n",
       "      <td>1.000000</td>\n",
       "      <td>0.799512</td>\n",
       "      <td>0.045172</td>\n",
       "      <td>0.000566</td>\n",
       "      <td>-0.003302</td>\n",
       "      <td>0.099279</td>\n",
       "    </tr>\n",
       "    <tr>\n",
       "      <th>fuel_consumption_country</th>\n",
       "      <td>0.351574</td>\n",
       "      <td>0.056703</td>\n",
       "      <td>-0.289646</td>\n",
       "      <td>0.592608</td>\n",
       "      <td>0.408364</td>\n",
       "      <td>0.127167</td>\n",
       "      <td>0.203835</td>\n",
       "      <td>0.602787</td>\n",
       "      <td>-0.065077</td>\n",
       "      <td>0.113922</td>\n",
       "      <td>0.290088</td>\n",
       "      <td>0.602490</td>\n",
       "      <td>0.799512</td>\n",
       "      <td>1.000000</td>\n",
       "      <td>0.074629</td>\n",
       "      <td>0.026048</td>\n",
       "      <td>0.024198</td>\n",
       "      <td>0.124345</td>\n",
       "    </tr>\n",
       "    <tr>\n",
       "      <th>comfort_convenience_count</th>\n",
       "      <td>0.272238</td>\n",
       "      <td>-0.267746</td>\n",
       "      <td>0.215804</td>\n",
       "      <td>0.309260</td>\n",
       "      <td>0.095497</td>\n",
       "      <td>0.326550</td>\n",
       "      <td>0.002888</td>\n",
       "      <td>0.056954</td>\n",
       "      <td>0.402469</td>\n",
       "      <td>-0.241788</td>\n",
       "      <td>-0.398820</td>\n",
       "      <td>0.014316</td>\n",
       "      <td>0.045172</td>\n",
       "      <td>0.074629</td>\n",
       "      <td>1.000000</td>\n",
       "      <td>0.831283</td>\n",
       "      <td>0.901710</td>\n",
       "      <td>0.779494</td>\n",
       "    </tr>\n",
       "    <tr>\n",
       "      <th>entertainment_media_count</th>\n",
       "      <td>0.228764</td>\n",
       "      <td>-0.322403</td>\n",
       "      <td>0.170533</td>\n",
       "      <td>0.207177</td>\n",
       "      <td>0.032912</td>\n",
       "      <td>0.223217</td>\n",
       "      <td>-0.011379</td>\n",
       "      <td>-0.017678</td>\n",
       "      <td>0.419882</td>\n",
       "      <td>-0.289955</td>\n",
       "      <td>-0.397978</td>\n",
       "      <td>-0.030757</td>\n",
       "      <td>0.000566</td>\n",
       "      <td>0.026048</td>\n",
       "      <td>0.831283</td>\n",
       "      <td>1.000000</td>\n",
       "      <td>0.857197</td>\n",
       "      <td>0.761342</td>\n",
       "    </tr>\n",
       "    <tr>\n",
       "      <th>safety_security_count</th>\n",
       "      <td>0.224410</td>\n",
       "      <td>-0.297785</td>\n",
       "      <td>0.226376</td>\n",
       "      <td>0.217331</td>\n",
       "      <td>0.036767</td>\n",
       "      <td>0.268153</td>\n",
       "      <td>-0.017596</td>\n",
       "      <td>-0.015268</td>\n",
       "      <td>0.454476</td>\n",
       "      <td>-0.271558</td>\n",
       "      <td>-0.430702</td>\n",
       "      <td>-0.029704</td>\n",
       "      <td>-0.003302</td>\n",
       "      <td>0.024198</td>\n",
       "      <td>0.901710</td>\n",
       "      <td>0.857197</td>\n",
       "      <td>1.000000</td>\n",
       "      <td>0.760870</td>\n",
       "    </tr>\n",
       "    <tr>\n",
       "      <th>extras_count</th>\n",
       "      <td>0.221567</td>\n",
       "      <td>-0.186864</td>\n",
       "      <td>0.090091</td>\n",
       "      <td>0.294975</td>\n",
       "      <td>0.123326</td>\n",
       "      <td>0.240107</td>\n",
       "      <td>0.032820</td>\n",
       "      <td>0.077285</td>\n",
       "      <td>0.268305</td>\n",
       "      <td>-0.140969</td>\n",
       "      <td>-0.239782</td>\n",
       "      <td>0.064066</td>\n",
       "      <td>0.099279</td>\n",
       "      <td>0.124345</td>\n",
       "      <td>0.779494</td>\n",
       "      <td>0.761342</td>\n",
       "      <td>0.760870</td>\n",
       "      <td>1.000000</td>\n",
       "    </tr>\n",
       "  </tbody>\n",
       "</table>\n",
       "</div>"
      ],
      "text/plain": [
       "                              price   mileage     seats     power  \\\n",
       "price                      1.000000 -0.310560 -0.030712  0.671012   \n",
       "mileage                   -0.310560  1.000000 -0.102963 -0.093178   \n",
       "seats                     -0.030712 -0.102963  1.000000 -0.167498   \n",
       "power                      0.671012 -0.093178 -0.167498  1.000000   \n",
       "engine_size                0.328009  0.087738 -0.232676  0.579311   \n",
       "gears                      0.327767 -0.102849  0.083052  0.379937   \n",
       "co_emissions               0.083367  0.075297 -0.121972  0.184069   \n",
       "cylinders                  0.410899  0.110405 -0.255880  0.687209   \n",
       "production_date            0.134636 -0.444502  0.167633  0.071148   \n",
       "previous_owner            -0.181975  0.415059 -0.185004 -0.016909   \n",
       "age                       -0.152235  0.464791 -0.345479 -0.052178   \n",
       "fuel_consumption_comb      0.211793  0.102610 -0.281155  0.450856   \n",
       "fuel_consumption_city      0.295676  0.088745 -0.361482  0.613459   \n",
       "fuel_consumption_country   0.351574  0.056703 -0.289646  0.592608   \n",
       "comfort_convenience_count  0.272238 -0.267746  0.215804  0.309260   \n",
       "entertainment_media_count  0.228764 -0.322403  0.170533  0.207177   \n",
       "safety_security_count      0.224410 -0.297785  0.226376  0.217331   \n",
       "extras_count               0.221567 -0.186864  0.090091  0.294975   \n",
       "\n",
       "                           engine_size     gears  co_emissions  cylinders  \\\n",
       "price                         0.328009  0.327767      0.083367   0.410899   \n",
       "mileage                       0.087738 -0.102849      0.075297   0.110405   \n",
       "seats                        -0.232676  0.083052     -0.121972  -0.255880   \n",
       "power                         0.579311  0.379937      0.184069   0.687209   \n",
       "engine_size                   1.000000  0.227190      0.222250   0.786638   \n",
       "gears                         0.227190  1.000000      0.069035   0.225695   \n",
       "co_emissions                  0.222250  0.069035      1.000000   0.184559   \n",
       "cylinders                     0.786638  0.225695      0.184559   1.000000   \n",
       "production_date              -0.103296  0.119855     -0.032681  -0.120129   \n",
       "previous_owner                0.084768 -0.107530      0.046524   0.091576   \n",
       "age                           0.150558 -0.235898      0.105048   0.223454   \n",
       "fuel_consumption_comb         0.360049  0.090555      0.207792   0.492340   \n",
       "fuel_consumption_city         0.440899  0.106154      0.216334   0.639746   \n",
       "fuel_consumption_country      0.408364  0.127167      0.203835   0.602787   \n",
       "comfort_convenience_count     0.095497  0.326550      0.002888   0.056954   \n",
       "entertainment_media_count     0.032912  0.223217     -0.011379  -0.017678   \n",
       "safety_security_count         0.036767  0.268153     -0.017596  -0.015268   \n",
       "extras_count                  0.123326  0.240107      0.032820   0.077285   \n",
       "\n",
       "                           production_date  previous_owner       age  \\\n",
       "price                             0.134636       -0.181975 -0.152235   \n",
       "mileage                          -0.444502        0.415059  0.464791   \n",
       "seats                             0.167633       -0.185004 -0.345479   \n",
       "power                             0.071148       -0.016909 -0.052178   \n",
       "engine_size                      -0.103296        0.084768  0.150558   \n",
       "gears                             0.119855       -0.107530 -0.235898   \n",
       "co_emissions                     -0.032681        0.046524  0.105048   \n",
       "cylinders                        -0.120129        0.091576  0.223454   \n",
       "production_date                   1.000000       -0.396915 -0.952849   \n",
       "previous_owner                   -0.396915        1.000000  0.388193   \n",
       "age                              -0.952849        0.388193  1.000000   \n",
       "fuel_consumption_comb            -0.182366        0.145212  0.284263   \n",
       "fuel_consumption_city            -0.138993        0.148876  0.320510   \n",
       "fuel_consumption_country         -0.065077        0.113922  0.290088   \n",
       "comfort_convenience_count         0.402469       -0.241788 -0.398820   \n",
       "entertainment_media_count         0.419882       -0.289955 -0.397978   \n",
       "safety_security_count             0.454476       -0.271558 -0.430702   \n",
       "extras_count                      0.268305       -0.140969 -0.239782   \n",
       "\n",
       "                           fuel_consumption_comb  fuel_consumption_city  \\\n",
       "price                                   0.211793               0.295676   \n",
       "mileage                                 0.102610               0.088745   \n",
       "seats                                  -0.281155              -0.361482   \n",
       "power                                   0.450856               0.613459   \n",
       "engine_size                             0.360049               0.440899   \n",
       "gears                                   0.090555               0.106154   \n",
       "co_emissions                            0.207792               0.216334   \n",
       "cylinders                               0.492340               0.639746   \n",
       "production_date                        -0.182366              -0.138993   \n",
       "previous_owner                          0.145212               0.148876   \n",
       "age                                     0.284263               0.320510   \n",
       "fuel_consumption_comb                   1.000000               0.642104   \n",
       "fuel_consumption_city                   0.642104               1.000000   \n",
       "fuel_consumption_country                0.602490               0.799512   \n",
       "comfort_convenience_count               0.014316               0.045172   \n",
       "entertainment_media_count              -0.030757               0.000566   \n",
       "safety_security_count                  -0.029704              -0.003302   \n",
       "extras_count                            0.064066               0.099279   \n",
       "\n",
       "                           fuel_consumption_country  \\\n",
       "price                                      0.351574   \n",
       "mileage                                    0.056703   \n",
       "seats                                     -0.289646   \n",
       "power                                      0.592608   \n",
       "engine_size                                0.408364   \n",
       "gears                                      0.127167   \n",
       "co_emissions                               0.203835   \n",
       "cylinders                                  0.602787   \n",
       "production_date                           -0.065077   \n",
       "previous_owner                             0.113922   \n",
       "age                                        0.290088   \n",
       "fuel_consumption_comb                      0.602490   \n",
       "fuel_consumption_city                      0.799512   \n",
       "fuel_consumption_country                   1.000000   \n",
       "comfort_convenience_count                  0.074629   \n",
       "entertainment_media_count                  0.026048   \n",
       "safety_security_count                      0.024198   \n",
       "extras_count                               0.124345   \n",
       "\n",
       "                           comfort_convenience_count  \\\n",
       "price                                       0.272238   \n",
       "mileage                                    -0.267746   \n",
       "seats                                       0.215804   \n",
       "power                                       0.309260   \n",
       "engine_size                                 0.095497   \n",
       "gears                                       0.326550   \n",
       "co_emissions                                0.002888   \n",
       "cylinders                                   0.056954   \n",
       "production_date                             0.402469   \n",
       "previous_owner                             -0.241788   \n",
       "age                                        -0.398820   \n",
       "fuel_consumption_comb                       0.014316   \n",
       "fuel_consumption_city                       0.045172   \n",
       "fuel_consumption_country                    0.074629   \n",
       "comfort_convenience_count                   1.000000   \n",
       "entertainment_media_count                   0.831283   \n",
       "safety_security_count                       0.901710   \n",
       "extras_count                                0.779494   \n",
       "\n",
       "                           entertainment_media_count  safety_security_count  \\\n",
       "price                                       0.228764               0.224410   \n",
       "mileage                                    -0.322403              -0.297785   \n",
       "seats                                       0.170533               0.226376   \n",
       "power                                       0.207177               0.217331   \n",
       "engine_size                                 0.032912               0.036767   \n",
       "gears                                       0.223217               0.268153   \n",
       "co_emissions                               -0.011379              -0.017596   \n",
       "cylinders                                  -0.017678              -0.015268   \n",
       "production_date                             0.419882               0.454476   \n",
       "previous_owner                             -0.289955              -0.271558   \n",
       "age                                        -0.397978              -0.430702   \n",
       "fuel_consumption_comb                      -0.030757              -0.029704   \n",
       "fuel_consumption_city                       0.000566              -0.003302   \n",
       "fuel_consumption_country                    0.026048               0.024198   \n",
       "comfort_convenience_count                   0.831283               0.901710   \n",
       "entertainment_media_count                   1.000000               0.857197   \n",
       "safety_security_count                       0.857197               1.000000   \n",
       "extras_count                                0.761342               0.760870   \n",
       "\n",
       "                           extras_count  \n",
       "price                          0.221567  \n",
       "mileage                       -0.186864  \n",
       "seats                          0.090091  \n",
       "power                          0.294975  \n",
       "engine_size                    0.123326  \n",
       "gears                          0.240107  \n",
       "co_emissions                   0.032820  \n",
       "cylinders                      0.077285  \n",
       "production_date                0.268305  \n",
       "previous_owner                -0.140969  \n",
       "age                           -0.239782  \n",
       "fuel_consumption_comb          0.064066  \n",
       "fuel_consumption_city          0.099279  \n",
       "fuel_consumption_country       0.124345  \n",
       "comfort_convenience_count      0.779494  \n",
       "entertainment_media_count      0.761342  \n",
       "safety_security_count          0.760870  \n",
       "extras_count                   1.000000  "
      ]
     },
     "execution_count": 210,
     "metadata": {},
     "output_type": "execute_result"
    }
   ],
   "source": [
    "df.corr(numeric_only=True)"
   ]
  },
  {
   "cell_type": "code",
   "execution_count": 211,
   "metadata": {},
   "outputs": [
    {
     "data": {
      "image/png": "[encoded data removed]",
      "text/plain": [
       "<Figure size 1500x1000 with 2 Axes>"
      ]
     },
     "metadata": {},
     "output_type": "display_data"
    }
   ],
   "source": [
    "plt.figure(figsize=[15,10])\n",
    "sns.heatmap(df.corr(numeric_only=True), annot=True);"
   ]
  },
  {
   "cell_type": "code",
   "execution_count": 214,
   "metadata": {},
   "outputs": [
    {
     "data": {
      "text/plain": [
       "make_model                       0\n",
       "short_description                0\n",
       "make                             0\n",
       "location                         0\n",
       "price                            0\n",
       "body_type                        0\n",
       "type                             0\n",
       "safety_security_count            0\n",
       "entertainment_media_count        0\n",
       "comfort_convenience_count        0\n",
       "non_smoker_vehicle               0\n",
       "full_service_history             0\n",
       "extras_count                     0\n",
       "seller                           0\n",
       "mileage                          1\n",
       "age                              2\n",
       "short_desc_translated          205\n",
       "gearbox                        234\n",
       "doors                          339\n",
       "desc                           556\n",
       "power                          558\n",
       "engine_size                   1283\n",
       "colour                        1448\n",
       "fuel_type                     1590\n",
       "comfort_convenience           2471\n",
       "safety_security               2475\n",
       "seats                         2565\n",
       "entertainment_media           3825\n",
       "extras                        4100\n",
       "fuel_consumption_comb         5532\n",
       "manufacturer_colour           6321\n",
       "upholstery                    7621\n",
       "co_emissions                  7631\n",
       "fuel_consumption_country      8127\n",
       "fuel_consumption_city         8143\n",
       "emission_class                8238\n",
       "cylinders                     8494\n",
       "gears                         8505\n",
       "drivetrain                   10532\n",
       "country_version              10880\n",
       "upholstery_colour            11182\n",
       "paint                        11390\n",
       "previous_owner               11735\n",
       "warranty                     11926\n",
       "emissions_sticker            15858\n",
       "energy_efficiency_class      17471\n",
       "production_date              19264\n",
       "dtype: int64"
      ]
     },
     "execution_count": 214,
     "metadata": {},
     "output_type": "execute_result"
    }
   ],
   "source": [
    "df.isnull().sum().sort_values(ascending=True)"
   ]
  }
 ],
 "metadata": {
  "colab": {
   "name": "DAwPy-Capstone_Project_(AutoScout)_Student.ipynb",
   "provenance": []
  },
  "kernelspec": {
   "display_name": "Python 3 (ipykernel)",
   "language": "python",
   "name": "python3"
  },
  "language_info": {
   "codemirror_mode": {
    "name": "ipython",
    "version": 3
   },
   "file_extension": ".py",
   "mimetype": "text/x-python",
   "name": "python",
   "nbconvert_exporter": "python",
   "pygments_lexer": "ipython3",
   "version": "3.11.5"
  },
  "toc": {
   "base_numbering": 1,
   "nav_menu": {},
   "number_sections": false,
   "sideBar": true,
   "skip_h1_title": false,
   "title_cell": "Table of Contents",
   "title_sidebar": "Contents",
   "toc_cell": false,
   "toc_position": {},
   "toc_section_display": true,
   "toc_window_display": true
  },
  "varInspector": {
   "cols": {
    "lenName": 16,
    "lenType": 16,
    "lenVar": 40
   },
   "kernels_config": {
    "python": {
     "delete_cmd_postfix": "",
     "delete_cmd_prefix": "del ",
     "library": "var_list.py",
     "varRefreshCmd": "print(var_dic_list())"
    },
    "r": {
     "delete_cmd_postfix": ") ",
     "delete_cmd_prefix": "rm(",
     "library": "var_list.r",
     "varRefreshCmd": "cat(var_dic_list()) "
    }
   },
   "types_to_exclude": [
    "module",
    "function",
    "builtin_function_or_method",
    "instance",
    "_Feature"
   ],
   "window_display": false
  }
 },
 "nbformat": 4,
 "nbformat_minor": 4
}
